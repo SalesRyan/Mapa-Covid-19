{
 "cells": [
  {
   "cell_type": "code",
   "execution_count": 2,
   "metadata": {},
   "outputs": [],
   "source": [
    "import pandas as pd\n",
    "import numpy as np"
   ]
  },
  {
   "cell_type": "code",
   "execution_count": 42,
   "metadata": {},
   "outputs": [],
   "source": [
    "df = pd.read_excel('cidades.xlsx')"
   ]
  },
  {
   "cell_type": "code",
   "execution_count": 45,
   "metadata": {},
   "outputs": [],
   "source": [
    "codigos = df['Codigo'].to_list()"
   ]
  },
  {
   "cell_type": "code",
   "execution_count": 50,
   "metadata": {},
   "outputs": [],
   "source": [
    "import requests\n",
    "import time"
   ]
  },
  {
   "cell_type": "code",
   "execution_count": 23,
   "metadata": {},
   "outputs": [
    {
     "data": {
      "text/plain": [
       "<Response [401]>"
      ]
     },
     "execution_count": 23,
     "metadata": {},
     "output_type": "execute_result"
    }
   ],
   "source": [
    "requests.get('http://www.portaltransparencia.gov.br/api-de-dados/auxilio-emergencial-por-municipio?mesAno=202004&codigoIbge=2200053&pagina=1', )"
   ]
  },
  {
   "cell_type": "code",
   "execution_count": 52,
   "metadata": {},
   "outputs": [],
   "source": [
    "nomes = ['bpc-por-municipio', 'bolsa-familia-por-municipio', 'auxilio-emergencial-por-municipio']\n",
    "cod = '2200053'\n",
    "\n",
    "url = f'http://www.portaltransparencia.gov.br/api-de-dados/auxilio-emergencial-por-municipio?mesAno={mesano}&codigoIbge={cod}&pagina=1'\n",
    "headers = {'Accept': 'application/json', 'chave-api-dados': '97ffcd5175f477ecee3cf0513575369a'}"
   ]
  },
  {
   "cell_type": "code",
   "execution_count": 53,
   "metadata": {},
   "outputs": [],
   "source": [
    "headers = {'Accept': 'application/json', 'chave-api-dados': '97ffcd5175f477ecee3cf0513575369a'}\n",
    "mesano = '202004'\n",
    "for nome in nomes:\n",
    "    arq = open(f'{nome}.txt', 'w')\n",
    "    for cod in codigos:\n",
    "        url = f'http://www.portaltransparencia.gov.br/api-de-dados/{nome}?mesAno={mesano}&codigoIbge={cod}&pagina=1'\n",
    "        r = requests.get(url, headers = headers)\n",
    "        time.sleep(2.5)\n",
    "        print(r.text)\n",
    "    arq.close\n",
    "        \n"
   ]
  },
  {
   "cell_type": "code",
   "execution_count": 61,
   "metadata": {},
   "outputs": [],
   "source": [
    "nome = nomes[0]\n",
    "mesano = '202004'\n",
    "cod = '2203230'\n",
    "url = f'http://www.portaltransparencia.gov.br/api-de-dados/{nome}?mesAno={mesano}&codigoIbge={cod}&pagina=1'\n",
    "headers = {'Accept': 'application/json', 'chave-api-dados': '97ffcd5175f477ecee3cf0513575369a'}\n",
    "r = requests.get(url, headers = headers)\n"
   ]
  },
  {
   "cell_type": "code",
   "execution_count": 12,
   "metadata": {},
   "outputs": [],
   "source": [
    "from ast import literal_eval\n",
    "import json\n",
    "import pandas as pd\n",
    "import Orange\n",
    "import numpy as np"
   ]
  },
  {
   "cell_type": "code",
   "execution_count": 20,
   "metadata": {
    "tags": []
   },
   "outputs": [
    {
     "output_type": "stream",
     "name": "stdout",
     "text": "CIDADE     VALOR  BENEFICIARIOS\n0                 ACAUA   15675.0             16\n1          AGRICOLANDIA   89870.0             87\n2           AGUA BRANCA  722095.0            692\n3    ALAGOINHA DO PIAUI  114950.0            111\n4     ALEGRETE DO PIAUI   43890.0             43\n..                  ...       ...            ...\n219       VARZEA BRANCA   35530.0             35\n220       VARZEA GRANDE   47025.0             46\n221         VERA MENDES   12540.0             13\n222  VILA NOVA DO PIAUI   13585.0             14\n223         WALL FERRAZ   14630.0             15\n\n[224 rows x 3 columns]\n"
    }
   ],
   "source": [
    "aux_e = open('bpc-por-municipio.txt', 'r').read().split('\\n')\n",
    "aux_e.pop()\n",
    "aux_e = list(map(literal_eval, aux_e))\n",
    "aux_e = list(map(lambda x: (x[0]['municipio']['nomeIBGEsemAcento'], x[0]['valor'], x[0]['quantidadeBeneficiados']) ,aux_e))\n",
    "dic = {'CIDADE':[x[0] for x in aux_e], 'VALOR':[x[1] for x in aux_e], 'BENEFICIARIOS':[x[2] for x in aux_e]}\n",
    "bpc = pd.DataFrame.from_dict(dic)\n",
    "print(bpc)\n",
    "#js = {'data': [{'cidade':mun[0], 'valor':mun[1], 'qtdBen':mun[2]} for mun in aux_e]}\n",
    "#arq = open('BPC.json', \"w\")\n",
    "#arq.write(json.dumps(js))\n",
    "#arq.close()"
   ]
  },
  {
   "cell_type": "code",
   "execution_count": 31,
   "metadata": {
    "tags": []
   },
   "outputs": [
    {
     "output_type": "execute_result",
     "data": {
      "text/plain": "False"
     },
     "metadata": {},
     "execution_count": 31
    }
   ],
   "source": [
    "False in list(auxem['CIDADE'] == bolsafam['CIDADE'])"
   ]
  },
  {
   "cell_type": "code",
   "execution_count": 32,
   "metadata": {},
   "outputs": [
    {
     "output_type": "execute_result",
     "data": {
      "text/plain": "     Unnamed: 0                nome  confirmados  obitos  incidencia  \\\n0             0               ACAUA           38       0       53.64   \n1             1        AGRICOLANDIA           56       0      108.97   \n2             2         AGUA BRANCA          915      36      525.53   \n3             3  ALAGOINHA DO PIAUI           94       1      122.86   \n4             4   ALEGRETE DO PIAUI          123       0      250.25   \n..          ...                 ...          ...     ...         ...   \n219         219       VARZEA BRANCA           29       2       58.62   \n220         220       VARZEA GRANDE           33       0       75.15   \n221         221         VERA MENDES           19       0       61.75   \n222         222  VILA NOVA DO PIAUI           55       0      185.12   \n223         223         WALL FERRAZ          234       1      524.43   \n\n     populacao  \n0         7084  \n1         5139  \n2        17411  \n3         7651  \n4         4915  \n..         ...  \n219       4947  \n220       4391  \n221       3077  \n222       2971  \n223       4462  \n\n[224 rows x 6 columns]",
      "text/html": "<div>\n<style scoped>\n    .dataframe tbody tr th:only-of-type {\n        vertical-align: middle;\n    }\n\n    .dataframe tbody tr th {\n        vertical-align: top;\n    }\n\n    .dataframe thead th {\n        text-align: right;\n    }\n</style>\n<table border=\"1\" class=\"dataframe\">\n  <thead>\n    <tr style=\"text-align: right;\">\n      <th></th>\n      <th>Unnamed: 0</th>\n      <th>nome</th>\n      <th>confirmados</th>\n      <th>obitos</th>\n      <th>incidencia</th>\n      <th>populacao</th>\n    </tr>\n  </thead>\n  <tbody>\n    <tr>\n      <th>0</th>\n      <td>0</td>\n      <td>ACAUA</td>\n      <td>38</td>\n      <td>0</td>\n      <td>53.64</td>\n      <td>7084</td>\n    </tr>\n    <tr>\n      <th>1</th>\n      <td>1</td>\n      <td>AGRICOLANDIA</td>\n      <td>56</td>\n      <td>0</td>\n      <td>108.97</td>\n      <td>5139</td>\n    </tr>\n    <tr>\n      <th>2</th>\n      <td>2</td>\n      <td>AGUA BRANCA</td>\n      <td>915</td>\n      <td>36</td>\n      <td>525.53</td>\n      <td>17411</td>\n    </tr>\n    <tr>\n      <th>3</th>\n      <td>3</td>\n      <td>ALAGOINHA DO PIAUI</td>\n      <td>94</td>\n      <td>1</td>\n      <td>122.86</td>\n      <td>7651</td>\n    </tr>\n    <tr>\n      <th>4</th>\n      <td>4</td>\n      <td>ALEGRETE DO PIAUI</td>\n      <td>123</td>\n      <td>0</td>\n      <td>250.25</td>\n      <td>4915</td>\n    </tr>\n    <tr>\n      <th>...</th>\n      <td>...</td>\n      <td>...</td>\n      <td>...</td>\n      <td>...</td>\n      <td>...</td>\n      <td>...</td>\n    </tr>\n    <tr>\n      <th>219</th>\n      <td>219</td>\n      <td>VARZEA BRANCA</td>\n      <td>29</td>\n      <td>2</td>\n      <td>58.62</td>\n      <td>4947</td>\n    </tr>\n    <tr>\n      <th>220</th>\n      <td>220</td>\n      <td>VARZEA GRANDE</td>\n      <td>33</td>\n      <td>0</td>\n      <td>75.15</td>\n      <td>4391</td>\n    </tr>\n    <tr>\n      <th>221</th>\n      <td>221</td>\n      <td>VERA MENDES</td>\n      <td>19</td>\n      <td>0</td>\n      <td>61.75</td>\n      <td>3077</td>\n    </tr>\n    <tr>\n      <th>222</th>\n      <td>222</td>\n      <td>VILA NOVA DO PIAUI</td>\n      <td>55</td>\n      <td>0</td>\n      <td>185.12</td>\n      <td>2971</td>\n    </tr>\n    <tr>\n      <th>223</th>\n      <td>223</td>\n      <td>WALL FERRAZ</td>\n      <td>234</td>\n      <td>1</td>\n      <td>524.43</td>\n      <td>4462</td>\n    </tr>\n  </tbody>\n</table>\n<p>224 rows × 6 columns</p>\n</div>"
     },
     "metadata": {},
     "execution_count": 32
    }
   ],
   "source": [
    "cidades"
   ]
  },
  {
   "cell_type": "code",
   "execution_count": 52,
   "metadata": {
    "tags": []
   },
   "outputs": [],
   "source": [
    "#bpc = pd.read_csv('bpc.csv')\n",
    "#bolsafam = pd.read_csv('bolsaFam.csv')\n",
    "#auxem = pd.read_csv('auxEm.csv')\n",
    "cidades = pd.read_csv('cidades_CO.csv')\n",
    "#bpc_sorted = bpc.sort_values('CIDADE')\n",
    "#bolsafam_sorted = bolsafam.sort_values('CIDADE')\n",
    "#axem_sorted = auxem.sort_values('CIDADE')"
   ]
  },
  {
   "cell_type": "code",
   "execution_count": 53,
   "metadata": {},
   "outputs": [
    {
     "output_type": "execute_result",
     "data": {
      "text/plain": "    Unnamed: 0               nome  confirmados  obitos  incidencia  populacao\n18          18  BARRA D'ALCANTARA           10       1       25.31       3951",
      "text/html": "<div>\n<style scoped>\n    .dataframe tbody tr th:only-of-type {\n        vertical-align: middle;\n    }\n\n    .dataframe tbody tr th {\n        vertical-align: top;\n    }\n\n    .dataframe thead th {\n        text-align: right;\n    }\n</style>\n<table border=\"1\" class=\"dataframe\">\n  <thead>\n    <tr style=\"text-align: right;\">\n      <th></th>\n      <th>Unnamed: 0</th>\n      <th>nome</th>\n      <th>confirmados</th>\n      <th>obitos</th>\n      <th>incidencia</th>\n      <th>populacao</th>\n    </tr>\n  </thead>\n  <tbody>\n    <tr>\n      <th>18</th>\n      <td>18</td>\n      <td>BARRA D'ALCANTARA</td>\n      <td>10</td>\n      <td>1</td>\n      <td>25.31</td>\n      <td>3951</td>\n    </tr>\n  </tbody>\n</table>\n</div>"
     },
     "metadata": {},
     "execution_count": 53
    }
   ],
   "source": [
    "cidades[cidades['nome'] == \"BARRA D'ALCANTARA\"]"
   ]
  },
  {
   "cell_type": "code",
   "execution_count": 54,
   "metadata": {
    "tags": []
   },
   "outputs": [
    {
     "output_type": "stream",
     "name": "stdout",
     "text": "ACAUA\nAGRICOLANDIA\nAGUA BRANCA\nALAGOINHA DO PIAUI\nALEGRETE DO PIAUI\nALTO LONGA\nALTOS\nALVORADA DO GURGUEIA\nAMARANTE\nANGICAL DO PIAUI\nANISIO DE ABREU\nANTONIO ALMEIDA\nAROAZES\nAROEIRAS DO ITAIM\nARRAIAL\nASSUNCAO DO PIAUI\nAVELINO LOPES\nBAIXA GRANDE DO RIBEIRO\nBARRA D'ALCANTARA\nBARRAS\nBARREIRAS DO PIAUI\nBARRO DURO\nBATALHA\nBELA VISTA DO PIAUI\nBELEM DO PIAUI\nBENEDITINOS\nBERTOLINIA\nBETANIA DO PIAUI\nBOA HORA\nBOCAINA\nBOM JESUS\nBOM PRINCIPIO DO PIAUI\nBONFIM DO PIAUI\nBOQUEIRAO DO PIAUI\nBRASILEIRA\nBREJO DO PIAUI\nBURITI DOS LOPES\nBURITI DOS MONTES\nCABECEIRAS DO PIAUI\nCAJAZEIRAS DO PIAUI\nCAJUEIRO DA PRAIA\nCALDEIRAO GRANDE DO PIAUI\nCAMPINAS DO PIAUI\nCAMPO ALEGRE DO FIDALGO\nCAMPO GRANDE DO PIAUI\nCAMPO LARGO DO PIAUI\nCAMPO MAIOR\nCANAVIEIRA\nCANTO DO BURITI\nCAPITAO DE CAMPOS\nCAPITAO GERVASIO OLIVEIRA\nCARACOL\nCARAUBAS DO PIAUI\nCARIDADE DO PIAUI\nCASTELO DO PIAUI\nCAXINGO\nCOCAL\nCOCAL DE TELHA\nCOCAL DOS ALVES\nCOIVARAS\nCOLONIA DO GURGUEIA\nCOLONIA DO PIAUI\nCONCEICAO DO CANINDE\nCORONEL JOSE DIAS\nCORRENTE\nCRISTALANDIA DO PIAUI\nCRISTINO CASTRO\nCURIMATA\nCURRAIS\nCURRALINHOS\nCURRAL NOVO DO PIAUI\nDEMERVAL LOBAO\nDIRCEU ARCOVERDE\nDOM EXPEDITO LOPES\nDOMINGOS MOURAO\nDOM INOCENCIO\nELESBAO VELOSO\nELISEU MARTINS\nESPERANTINA\nFARTURA DO PIAUI\nFLORES DO PIAUI\nFLORESTA DO PIAUI\nFLORIANO\nFRANCINOPOLIS\nFRANCISCO AYRES\nFRANCISCO MACEDO\nFRANCISCO SANTOS\nFRONTEIRAS\nGEMINIANO\nGILBUES\nGUADALUPE\nGUARIBAS\nHUGO NAPOLEAO\nILHA GRANDE\nINHUMA\nIPIRANGA DO PIAUI\nISAIAS COELHO\nITAINOPOLIS\nITAUEIRA\nJACOBINA DO PIAUI\nJAICOS\nJARDIM DO MULATO\nJATOBA DO PIAUI\nJERUMENHA\nJOAO COSTA\nJOAQUIM PIRES\nJOCA MARQUES\nJOSE DE FREITAS\nJUAZEIRO DO PIAUI\nJULIO BORGES\nJUREMA\nLAGOINHA DO PIAUI\nLAGOA ALEGRE\nLAGOA DO BARRO DO PIAUI\nLAGOA DE SAO FRANCISCO\nLAGOA DO PIAUI\nLAGOA DO SITIO\nLANDRI SALES\nLUIS CORREIA\nLUZILANDIA\nMADEIRO\nMANOEL EMIDIO\nMARCOLANDIA\nMARCOS PARENTE\nMASSAPE DO PIAUI\nMATIAS OLIMPIO\nMIGUEL ALVES\nMIGUEL LEAO\nMILTON BRANDAO\nMONSENHOR GIL\nMONSENHOR HIPOLITO\nMONTE ALEGRE DO PIAUI\nMORRO CABECA NO TEMPO\nMORRO DO CHAPEU DO PIAUI\nMURICI DOS PORTELAS\nNAZARE DO PIAUI\nNAZARIA\nNOSSA SENHORA DE NAZARE\nNOSSA SENHORA DOS REMEDIOS\nNOVO ORIENTE DO PIAUI\nNOVO SANTO ANTONIO\nOEIRAS\nOLHO D'AGUA DO PIAUI\nPADRE MARCOS\nPAES LANDIM\nPAJEU DO PIAUI\nPALMEIRA DO PIAUI\nPALMEIRAIS\nPAQUETA\nPARNAGUA\nPARNAIBA\nPASSAGEM FRANCA DO PIAUI\nPATOS DO PIAUI\nPAU D'ARCO DO PIAUI\nPAULISTANA\nPAVUSSU\nPEDRO II\nPEDRO LAURENTINO\nNOVA SANTA RITA\nPICOS\nPIMENTEIRAS\nPIO IX\nPIRACURUCA\nPIRIPIRI\nPORTO\nPORTO ALEGRE DO PIAUI\nPRATA DO PIAUI\nQUEIMADA NOVA\nREDENCAO DO GURGUEIA\nREGENERACAO\nRIACHO FRIO\nRIBEIRA DO PIAUI\nRIBEIRO GONCALVES\nRIO GRANDE DO PIAUI\nSANTA CRUZ DO PIAUI\nSANTA CRUZ DOS MILAGRES\nSANTA FILOMENA\nSANTA LUZ\nSANTANA DO PIAUI\nSANTA ROSA DO PIAUI\nSANTO ANTONIO DE LISBOA\nSANTO ANTONIO DOS MILAGRES\nSANTO INACIO DO PIAUI\nSAO BRAZ DO PIAUI\nSAO FELIX DO PIAUI\nSAO FRANCISCO DE ASSIS DO PIAUI\nSAO FRANCISCO DO PIAUI\nSAO GONCALO DO GURGUEIA\nSAO GONCALO DO PIAUI\nSAO JOAO DA CANABRAVA\nSAO JOAO DA FRONTEIRA\nSAO JOAO DA SERRA\nSAO JOAO DA VARJOTA\nSAO JOAO DO ARRAIAL\nSAO JOAO DO PIAUI\nSAO JOSE DO DIVINO\nSAO JOSE DO PEIXE\nSAO JOSE DO PIAUI\nSAO JULIAO\nSAO LOURENCO DO PIAUI\nSAO LUIS DO PIAUI\nSAO MIGUEL DA BAIXA GRANDE\nSAO MIGUEL DO FIDALGO\nSAO MIGUEL DO TAPUIO\nSAO PEDRO DO PIAUI\nSAO RAIMUNDO NONATO\nSEBASTIAO BARROS\nSEBASTIAO LEAL\nSIGEFREDO PACHECO\nSIMOES\nSIMPLICIO MENDES\nSOCORRO DO PIAUI\nSUSSUAPARA\nTAMBORIL DO PIAUI\nTANQUE DO PIAUI\nTERESINA\nUNIAO\nURUCUI\nVALENCA DO PIAUI\nVARZEA BRANCA\nVARZEA GRANDE\nVERA MENDES\nVILA NOVA DO PIAUI\nWALL FERRAZ\n"
    }
   ],
   "source": [
    "dicio = {}\n",
    "dicio['MUNICIPIO'] = bolsafam['CIDADE'].to_list()\n",
    "dicio['VALOR_BF'] = bolsafam['VALOR'].to_list()\n",
    "dicio['QTD_BF'] = bolsafam['BENEFICIARIOS'].to_list()\n",
    "dicio['VALOR_AE'] = auxem['VALOR'].to_list()\n",
    "dicio['QTD_AE'] = auxem['BENEFICIARIOS'].to_list()\n",
    "dicio['VALOR_BPC'] = bpc['VALOR'].to_list()\n",
    "dicio['QTD_BPC'] = bpc['BENEFICIARIOS'].to_list()\n",
    "dicio['CONF'] = []\n",
    "dicio['OBT'] = []\n",
    "dicio['INC'] = []\n",
    "dicio['POP'] = []\n",
    "for cidade in dicio['MUNICIPIO']:\n",
    "    print(cidade)\n",
    "    dicio['CONF'].append(int(cidades[cidades['nome'] == cidade]['confirmados']))\n",
    "    dicio['OBT'].append(int(cidades[cidades['nome'] == cidade]['obitos']))\n",
    "    dicio['INC'].append(float(cidades[cidades['nome'] == cidade]['incidencia']))\n",
    "    dicio['POP'].append(int(cidades[cidades['nome'] == cidade]['populacao']))\n",
    "\n",
    "#dicio['CONF'] = cidades['confirmados'].to_list()\n",
    "#dicio['OBT'] = cidades['obitos'].to_list()\n",
    "#dicio['INC'] = cidades['incidencia'].to_list()\n",
    "#dicio['POP'] = cidades['populacao'].to_list()"
   ]
  },
  {
   "cell_type": "code",
   "execution_count": 55,
   "metadata": {},
   "outputs": [],
   "source": [
    "df = pd.DataFrame.from_dict(dicio)\n",
    "df.to_csv('final.csv',index=False)"
   ]
  },
  {
   "cell_type": "code",
   "execution_count": 56,
   "metadata": {},
   "outputs": [
    {
     "output_type": "execute_result",
     "data": {
      "text/plain": "              MUNICIPIO  VALOR_BF  QTD_BF   VALOR_AE  QTD_AE  VALOR_BPC  \\\n0                 ACAUA  262311.0    1366  1802400.0    2784    15675.0   \n1          AGRICOLANDIA  216328.0     928  1465200.0    2175    89870.0   \n2           AGUA BRANCA  491899.0    2466  4321200.0    6079   722095.0   \n3    ALAGOINHA DO PIAUI  275991.0    1547  2043600.0    2999   114950.0   \n4     ALEGRETE DO PIAUI  184287.0     872  1430400.0    1914    43890.0   \n..                  ...       ...     ...        ...     ...        ...   \n219       VARZEA BRANCA  236936.0    1174  1605600.0    2270    35530.0   \n220       VARZEA GRANDE  165427.0     868  1202400.0    1712    47025.0   \n221         VERA MENDES  114027.0     644   928800.0    1435    12540.0   \n222  VILA NOVA DO PIAUI   96795.0     491   742800.0    1120    13585.0   \n223         WALL FERRAZ  116141.0     758  1116000.0    1703    14630.0   \n\n     QTD_BPC  CONF  OBT     INC    POP  \n0         16    38    0   53.64   7084  \n1         87    56    0  108.97   5139  \n2        692   915   36  525.53  17411  \n3        111    94    1  122.86   7651  \n4         43   123    0  250.25   4915  \n..       ...   ...  ...     ...    ...  \n219       35    29    2   58.62   4947  \n220       46    33    0   75.15   4391  \n221       13    19    0   61.75   3077  \n222       14    55    0  185.12   2971  \n223       15   234    1  524.43   4462  \n\n[224 rows x 11 columns]",
      "text/html": "<div>\n<style scoped>\n    .dataframe tbody tr th:only-of-type {\n        vertical-align: middle;\n    }\n\n    .dataframe tbody tr th {\n        vertical-align: top;\n    }\n\n    .dataframe thead th {\n        text-align: right;\n    }\n</style>\n<table border=\"1\" class=\"dataframe\">\n  <thead>\n    <tr style=\"text-align: right;\">\n      <th></th>\n      <th>MUNICIPIO</th>\n      <th>VALOR_BF</th>\n      <th>QTD_BF</th>\n      <th>VALOR_AE</th>\n      <th>QTD_AE</th>\n      <th>VALOR_BPC</th>\n      <th>QTD_BPC</th>\n      <th>CONF</th>\n      <th>OBT</th>\n      <th>INC</th>\n      <th>POP</th>\n    </tr>\n  </thead>\n  <tbody>\n    <tr>\n      <th>0</th>\n      <td>ACAUA</td>\n      <td>262311.0</td>\n      <td>1366</td>\n      <td>1802400.0</td>\n      <td>2784</td>\n      <td>15675.0</td>\n      <td>16</td>\n      <td>38</td>\n      <td>0</td>\n      <td>53.64</td>\n      <td>7084</td>\n    </tr>\n    <tr>\n      <th>1</th>\n      <td>AGRICOLANDIA</td>\n      <td>216328.0</td>\n      <td>928</td>\n      <td>1465200.0</td>\n      <td>2175</td>\n      <td>89870.0</td>\n      <td>87</td>\n      <td>56</td>\n      <td>0</td>\n      <td>108.97</td>\n      <td>5139</td>\n    </tr>\n    <tr>\n      <th>2</th>\n      <td>AGUA BRANCA</td>\n      <td>491899.0</td>\n      <td>2466</td>\n      <td>4321200.0</td>\n      <td>6079</td>\n      <td>722095.0</td>\n      <td>692</td>\n      <td>915</td>\n      <td>36</td>\n      <td>525.53</td>\n      <td>17411</td>\n    </tr>\n    <tr>\n      <th>3</th>\n      <td>ALAGOINHA DO PIAUI</td>\n      <td>275991.0</td>\n      <td>1547</td>\n      <td>2043600.0</td>\n      <td>2999</td>\n      <td>114950.0</td>\n      <td>111</td>\n      <td>94</td>\n      <td>1</td>\n      <td>122.86</td>\n      <td>7651</td>\n    </tr>\n    <tr>\n      <th>4</th>\n      <td>ALEGRETE DO PIAUI</td>\n      <td>184287.0</td>\n      <td>872</td>\n      <td>1430400.0</td>\n      <td>1914</td>\n      <td>43890.0</td>\n      <td>43</td>\n      <td>123</td>\n      <td>0</td>\n      <td>250.25</td>\n      <td>4915</td>\n    </tr>\n    <tr>\n      <th>...</th>\n      <td>...</td>\n      <td>...</td>\n      <td>...</td>\n      <td>...</td>\n      <td>...</td>\n      <td>...</td>\n      <td>...</td>\n      <td>...</td>\n      <td>...</td>\n      <td>...</td>\n      <td>...</td>\n    </tr>\n    <tr>\n      <th>219</th>\n      <td>VARZEA BRANCA</td>\n      <td>236936.0</td>\n      <td>1174</td>\n      <td>1605600.0</td>\n      <td>2270</td>\n      <td>35530.0</td>\n      <td>35</td>\n      <td>29</td>\n      <td>2</td>\n      <td>58.62</td>\n      <td>4947</td>\n    </tr>\n    <tr>\n      <th>220</th>\n      <td>VARZEA GRANDE</td>\n      <td>165427.0</td>\n      <td>868</td>\n      <td>1202400.0</td>\n      <td>1712</td>\n      <td>47025.0</td>\n      <td>46</td>\n      <td>33</td>\n      <td>0</td>\n      <td>75.15</td>\n      <td>4391</td>\n    </tr>\n    <tr>\n      <th>221</th>\n      <td>VERA MENDES</td>\n      <td>114027.0</td>\n      <td>644</td>\n      <td>928800.0</td>\n      <td>1435</td>\n      <td>12540.0</td>\n      <td>13</td>\n      <td>19</td>\n      <td>0</td>\n      <td>61.75</td>\n      <td>3077</td>\n    </tr>\n    <tr>\n      <th>222</th>\n      <td>VILA NOVA DO PIAUI</td>\n      <td>96795.0</td>\n      <td>491</td>\n      <td>742800.0</td>\n      <td>1120</td>\n      <td>13585.0</td>\n      <td>14</td>\n      <td>55</td>\n      <td>0</td>\n      <td>185.12</td>\n      <td>2971</td>\n    </tr>\n    <tr>\n      <th>223</th>\n      <td>WALL FERRAZ</td>\n      <td>116141.0</td>\n      <td>758</td>\n      <td>1116000.0</td>\n      <td>1703</td>\n      <td>14630.0</td>\n      <td>15</td>\n      <td>234</td>\n      <td>1</td>\n      <td>524.43</td>\n      <td>4462</td>\n    </tr>\n  </tbody>\n</table>\n<p>224 rows × 11 columns</p>\n</div>"
     },
     "metadata": {},
     "execution_count": 56
    }
   ],
   "source": [
    "df"
   ]
  },
  {
   "cell_type": "code",
   "execution_count": 50,
   "metadata": {},
   "outputs": [
    {
     "data": {
      "text/plain": [
       "[VALOR_BF, QTD_BF, VALOR_AE, QTD_AE, VALOR_BPC, QTD_BPC, CONF, OBT, INC, POP] {MUNICIPIO}"
      ]
     },
     "execution_count": 50,
     "metadata": {},
     "output_type": "execute_result"
    }
   ],
   "source": [
    "tab.domain"
   ]
  },
  {
   "cell_type": "code",
   "execution_count": 41,
   "metadata": {},
   "outputs": [
    {
     "ename": "ValueError",
     "evalue": "Can only compare identically-labeled Series objects",
     "output_type": "error",
     "traceback": [
      "\u001b[1;31m---------------------------------------------------------------------------\u001b[0m",
      "\u001b[1;31mValueError\u001b[0m                                Traceback (most recent call last)",
      "\u001b[1;32m<ipython-input-41-9ee6d9d8378e>\u001b[0m in \u001b[0;36m<module>\u001b[1;34m\u001b[0m\n\u001b[1;32m----> 1\u001b[1;33m \u001b[0mcidades\u001b[0m\u001b[1;33m[\u001b[0m\u001b[1;34m'nome'\u001b[0m\u001b[1;33m]\u001b[0m \u001b[1;33m==\u001b[0m \u001b[0mbpc\u001b[0m\u001b[1;33m[\u001b[0m\u001b[1;34m'CIDADE'\u001b[0m\u001b[1;33m]\u001b[0m\u001b[1;33m\u001b[0m\u001b[1;33m\u001b[0m\u001b[0m\n\u001b[0m",
      "\u001b[1;32m~\\AppData\\Roaming\\Python\\Python37\\site-packages\\pandas\\core\\ops\\common.py\u001b[0m in \u001b[0;36mnew_method\u001b[1;34m(self, other)\u001b[0m\n\u001b[0;32m     62\u001b[0m         \u001b[0mother\u001b[0m \u001b[1;33m=\u001b[0m \u001b[0mitem_from_zerodim\u001b[0m\u001b[1;33m(\u001b[0m\u001b[0mother\u001b[0m\u001b[1;33m)\u001b[0m\u001b[1;33m\u001b[0m\u001b[1;33m\u001b[0m\u001b[0m\n\u001b[0;32m     63\u001b[0m \u001b[1;33m\u001b[0m\u001b[0m\n\u001b[1;32m---> 64\u001b[1;33m         \u001b[1;32mreturn\u001b[0m \u001b[0mmethod\u001b[0m\u001b[1;33m(\u001b[0m\u001b[0mself\u001b[0m\u001b[1;33m,\u001b[0m \u001b[0mother\u001b[0m\u001b[1;33m)\u001b[0m\u001b[1;33m\u001b[0m\u001b[1;33m\u001b[0m\u001b[0m\n\u001b[0m\u001b[0;32m     65\u001b[0m \u001b[1;33m\u001b[0m\u001b[0m\n\u001b[0;32m     66\u001b[0m     \u001b[1;32mreturn\u001b[0m \u001b[0mnew_method\u001b[0m\u001b[1;33m\u001b[0m\u001b[1;33m\u001b[0m\u001b[0m\n",
      "\u001b[1;32m~\\AppData\\Roaming\\Python\\Python37\\site-packages\\pandas\\core\\ops\\__init__.py\u001b[0m in \u001b[0;36mwrapper\u001b[1;34m(self, other)\u001b[0m\n\u001b[0;32m    522\u001b[0m \u001b[1;33m\u001b[0m\u001b[0m\n\u001b[0;32m    523\u001b[0m         \u001b[1;32mif\u001b[0m \u001b[0misinstance\u001b[0m\u001b[1;33m(\u001b[0m\u001b[0mother\u001b[0m\u001b[1;33m,\u001b[0m \u001b[0mABCSeries\u001b[0m\u001b[1;33m)\u001b[0m \u001b[1;32mand\u001b[0m \u001b[1;32mnot\u001b[0m \u001b[0mself\u001b[0m\u001b[1;33m.\u001b[0m\u001b[0m_indexed_same\u001b[0m\u001b[1;33m(\u001b[0m\u001b[0mother\u001b[0m\u001b[1;33m)\u001b[0m\u001b[1;33m:\u001b[0m\u001b[1;33m\u001b[0m\u001b[1;33m\u001b[0m\u001b[0m\n\u001b[1;32m--> 524\u001b[1;33m             \u001b[1;32mraise\u001b[0m \u001b[0mValueError\u001b[0m\u001b[1;33m(\u001b[0m\u001b[1;34m\"Can only compare identically-labeled Series objects\"\u001b[0m\u001b[1;33m)\u001b[0m\u001b[1;33m\u001b[0m\u001b[1;33m\u001b[0m\u001b[0m\n\u001b[0m\u001b[0;32m    525\u001b[0m \u001b[1;33m\u001b[0m\u001b[0m\n\u001b[0;32m    526\u001b[0m         \u001b[0mlvalues\u001b[0m \u001b[1;33m=\u001b[0m \u001b[0mextract_array\u001b[0m\u001b[1;33m(\u001b[0m\u001b[0mself\u001b[0m\u001b[1;33m,\u001b[0m \u001b[0mextract_numpy\u001b[0m\u001b[1;33m=\u001b[0m\u001b[1;32mTrue\u001b[0m\u001b[1;33m)\u001b[0m\u001b[1;33m\u001b[0m\u001b[1;33m\u001b[0m\u001b[0m\n",
      "\u001b[1;31mValueError\u001b[0m: Can only compare identically-labeled Series objects"
     ]
    }
   ],
   "source": [
    "cidades['nome'] == bpc['CIDADE']"
   ]
  },
  {
   "cell_type": "code",
   "execution_count": 39,
   "metadata": {},
   "outputs": [
    {
     "data": {
      "text/plain": [
       "0                   ACAUA\n",
       "1            AGRICOLANDIA\n",
       "2             AGUA BRANCA\n",
       "3      ALAGOINHA DO PIAUI\n",
       "4       ALEGRETE DO PIAUI\n",
       "              ...        \n",
       "219         VARZEA BRANCA\n",
       "220         VARZEA GRANDE\n",
       "221           VERA MENDES\n",
       "222    VILA NOVA DO PIAUI\n",
       "223           WALL FERRAZ\n",
       "Name: nome, Length: 224, dtype: object"
      ]
     },
     "execution_count": 39,
     "metadata": {},
     "output_type": "execute_result"
    }
   ],
   "source": [
    "cidades['nome']"
   ]
  },
  {
   "cell_type": "code",
   "execution_count": 20,
   "metadata": {},
   "outputs": [
    {
     "data": {
      "text/html": [
       "<div>\n",
       "<style scoped>\n",
       "    .dataframe tbody tr th:only-of-type {\n",
       "        vertical-align: middle;\n",
       "    }\n",
       "\n",
       "    .dataframe tbody tr th {\n",
       "        vertical-align: top;\n",
       "    }\n",
       "\n",
       "    .dataframe thead th {\n",
       "        text-align: right;\n",
       "    }\n",
       "</style>\n",
       "<table border=\"1\" class=\"dataframe\">\n",
       "  <thead>\n",
       "    <tr style=\"text-align: right;\">\n",
       "      <th></th>\n",
       "      <th>Unnamed: 0</th>\n",
       "      <th>nome</th>\n",
       "      <th>confirmados</th>\n",
       "      <th>obitos</th>\n",
       "      <th>incidencia</th>\n",
       "      <th>populacao</th>\n",
       "    </tr>\n",
       "  </thead>\n",
       "  <tbody>\n",
       "    <tr>\n",
       "      <th>0</th>\n",
       "      <td>0</td>\n",
       "      <td>ACAUA</td>\n",
       "      <td>38</td>\n",
       "      <td>0</td>\n",
       "      <td>53.64</td>\n",
       "      <td>7084</td>\n",
       "    </tr>\n",
       "    <tr>\n",
       "      <th>1</th>\n",
       "      <td>1</td>\n",
       "      <td>AGRICOLANDIA</td>\n",
       "      <td>56</td>\n",
       "      <td>0</td>\n",
       "      <td>108.97</td>\n",
       "      <td>5139</td>\n",
       "    </tr>\n",
       "    <tr>\n",
       "      <th>2</th>\n",
       "      <td>2</td>\n",
       "      <td>AGUA BRANCA</td>\n",
       "      <td>915</td>\n",
       "      <td>36</td>\n",
       "      <td>525.53</td>\n",
       "      <td>17411</td>\n",
       "    </tr>\n",
       "    <tr>\n",
       "      <th>3</th>\n",
       "      <td>3</td>\n",
       "      <td>ALAGOINHA DO PIAUI</td>\n",
       "      <td>94</td>\n",
       "      <td>1</td>\n",
       "      <td>122.86</td>\n",
       "      <td>7651</td>\n",
       "    </tr>\n",
       "    <tr>\n",
       "      <th>4</th>\n",
       "      <td>4</td>\n",
       "      <td>ALEGRETE DO PIAUI</td>\n",
       "      <td>123</td>\n",
       "      <td>0</td>\n",
       "      <td>250.25</td>\n",
       "      <td>4915</td>\n",
       "    </tr>\n",
       "    <tr>\n",
       "      <th>...</th>\n",
       "      <td>...</td>\n",
       "      <td>...</td>\n",
       "      <td>...</td>\n",
       "      <td>...</td>\n",
       "      <td>...</td>\n",
       "      <td>...</td>\n",
       "    </tr>\n",
       "    <tr>\n",
       "      <th>219</th>\n",
       "      <td>219</td>\n",
       "      <td>VARZEA BRANCA</td>\n",
       "      <td>29</td>\n",
       "      <td>2</td>\n",
       "      <td>58.62</td>\n",
       "      <td>4947</td>\n",
       "    </tr>\n",
       "    <tr>\n",
       "      <th>220</th>\n",
       "      <td>220</td>\n",
       "      <td>VARZEA GRANDE</td>\n",
       "      <td>33</td>\n",
       "      <td>0</td>\n",
       "      <td>75.15</td>\n",
       "      <td>4391</td>\n",
       "    </tr>\n",
       "    <tr>\n",
       "      <th>221</th>\n",
       "      <td>221</td>\n",
       "      <td>VERA MENDES</td>\n",
       "      <td>19</td>\n",
       "      <td>0</td>\n",
       "      <td>61.75</td>\n",
       "      <td>3077</td>\n",
       "    </tr>\n",
       "    <tr>\n",
       "      <th>222</th>\n",
       "      <td>222</td>\n",
       "      <td>VILA NOVA DO PIAUI</td>\n",
       "      <td>55</td>\n",
       "      <td>0</td>\n",
       "      <td>185.12</td>\n",
       "      <td>2971</td>\n",
       "    </tr>\n",
       "    <tr>\n",
       "      <th>223</th>\n",
       "      <td>223</td>\n",
       "      <td>WALL FERRAZ</td>\n",
       "      <td>234</td>\n",
       "      <td>1</td>\n",
       "      <td>524.43</td>\n",
       "      <td>4462</td>\n",
       "    </tr>\n",
       "  </tbody>\n",
       "</table>\n",
       "<p>224 rows × 6 columns</p>\n",
       "</div>"
      ],
      "text/plain": [
       "     Unnamed: 0                nome  confirmados  obitos  incidencia  \\\n",
       "0             0               ACAUA           38       0       53.64   \n",
       "1             1        AGRICOLANDIA           56       0      108.97   \n",
       "2             2         AGUA BRANCA          915      36      525.53   \n",
       "3             3  ALAGOINHA DO PIAUI           94       1      122.86   \n",
       "4             4   ALEGRETE DO PIAUI          123       0      250.25   \n",
       "..          ...                 ...          ...     ...         ...   \n",
       "219         219       VARZEA BRANCA           29       2       58.62   \n",
       "220         220       VARZEA GRANDE           33       0       75.15   \n",
       "221         221         VERA MENDES           19       0       61.75   \n",
       "222         222  VILA NOVA DO PIAUI           55       0      185.12   \n",
       "223         223         WALL FERRAZ          234       1      524.43   \n",
       "\n",
       "     populacao  \n",
       "0         7084  \n",
       "1         5139  \n",
       "2        17411  \n",
       "3         7651  \n",
       "4         4915  \n",
       "..         ...  \n",
       "219       4947  \n",
       "220       4391  \n",
       "221       3077  \n",
       "222       2971  \n",
       "223       4462  \n",
       "\n",
       "[224 rows x 6 columns]"
      ]
     },
     "execution_count": 20,
     "metadata": {},
     "output_type": "execute_result"
    }
   ],
   "source": [
    "cidades"
   ]
  },
  {
   "cell_type": "code",
   "execution_count": 57,
   "metadata": {},
   "outputs": [],
   "source": [
    "df = pd.read_csv('final.csv')"
   ]
  },
  {
   "cell_type": "code",
   "execution_count": 45,
   "metadata": {},
   "outputs": [
    {
     "data": {
      "text/html": [
       "<div>\n",
       "<style scoped>\n",
       "    .dataframe tbody tr th:only-of-type {\n",
       "        vertical-align: middle;\n",
       "    }\n",
       "\n",
       "    .dataframe tbody tr th {\n",
       "        vertical-align: top;\n",
       "    }\n",
       "\n",
       "    .dataframe thead th {\n",
       "        text-align: right;\n",
       "    }\n",
       "</style>\n",
       "<table border=\"1\" class=\"dataframe\">\n",
       "  <thead>\n",
       "    <tr style=\"text-align: right;\">\n",
       "      <th></th>\n",
       "      <th>MUNICIPIO</th>\n",
       "      <th>VALOR_BF</th>\n",
       "      <th>QTD_BF</th>\n",
       "      <th>VALOR_AE</th>\n",
       "      <th>QTD_AE</th>\n",
       "      <th>VALOR_BPC</th>\n",
       "      <th>QTD_BPC</th>\n",
       "      <th>CONF</th>\n",
       "      <th>OBT</th>\n",
       "      <th>INC</th>\n",
       "      <th>POP</th>\n",
       "    </tr>\n",
       "  </thead>\n",
       "  <tbody>\n",
       "    <tr>\n",
       "      <th>0</th>\n",
       "      <td>ACAUA</td>\n",
       "      <td>262311.0</td>\n",
       "      <td>1366</td>\n",
       "      <td>1802400.0</td>\n",
       "      <td>2784</td>\n",
       "      <td>15675.0</td>\n",
       "      <td>16</td>\n",
       "      <td>38</td>\n",
       "      <td>0</td>\n",
       "      <td>53.64</td>\n",
       "      <td>7084</td>\n",
       "    </tr>\n",
       "    <tr>\n",
       "      <th>1</th>\n",
       "      <td>AGRICOLANDIA</td>\n",
       "      <td>216328.0</td>\n",
       "      <td>928</td>\n",
       "      <td>1465200.0</td>\n",
       "      <td>2175</td>\n",
       "      <td>89870.0</td>\n",
       "      <td>87</td>\n",
       "      <td>56</td>\n",
       "      <td>0</td>\n",
       "      <td>108.97</td>\n",
       "      <td>5139</td>\n",
       "    </tr>\n",
       "    <tr>\n",
       "      <th>2</th>\n",
       "      <td>AGUA BRANCA</td>\n",
       "      <td>491899.0</td>\n",
       "      <td>2466</td>\n",
       "      <td>4321200.0</td>\n",
       "      <td>6079</td>\n",
       "      <td>722095.0</td>\n",
       "      <td>692</td>\n",
       "      <td>915</td>\n",
       "      <td>36</td>\n",
       "      <td>525.53</td>\n",
       "      <td>17411</td>\n",
       "    </tr>\n",
       "    <tr>\n",
       "      <th>3</th>\n",
       "      <td>ALAGOINHA DO PIAUI</td>\n",
       "      <td>275991.0</td>\n",
       "      <td>1547</td>\n",
       "      <td>2043600.0</td>\n",
       "      <td>2999</td>\n",
       "      <td>114950.0</td>\n",
       "      <td>111</td>\n",
       "      <td>94</td>\n",
       "      <td>1</td>\n",
       "      <td>122.86</td>\n",
       "      <td>7651</td>\n",
       "    </tr>\n",
       "    <tr>\n",
       "      <th>4</th>\n",
       "      <td>ALEGRETE DO PIAUI</td>\n",
       "      <td>184287.0</td>\n",
       "      <td>872</td>\n",
       "      <td>1430400.0</td>\n",
       "      <td>1914</td>\n",
       "      <td>43890.0</td>\n",
       "      <td>43</td>\n",
       "      <td>123</td>\n",
       "      <td>0</td>\n",
       "      <td>250.25</td>\n",
       "      <td>4915</td>\n",
       "    </tr>\n",
       "    <tr>\n",
       "      <th>...</th>\n",
       "      <td>...</td>\n",
       "      <td>...</td>\n",
       "      <td>...</td>\n",
       "      <td>...</td>\n",
       "      <td>...</td>\n",
       "      <td>...</td>\n",
       "      <td>...</td>\n",
       "      <td>...</td>\n",
       "      <td>...</td>\n",
       "      <td>...</td>\n",
       "      <td>...</td>\n",
       "    </tr>\n",
       "    <tr>\n",
       "      <th>219</th>\n",
       "      <td>VARZEA BRANCA</td>\n",
       "      <td>236936.0</td>\n",
       "      <td>1174</td>\n",
       "      <td>1605600.0</td>\n",
       "      <td>2270</td>\n",
       "      <td>35530.0</td>\n",
       "      <td>35</td>\n",
       "      <td>29</td>\n",
       "      <td>2</td>\n",
       "      <td>58.62</td>\n",
       "      <td>4947</td>\n",
       "    </tr>\n",
       "    <tr>\n",
       "      <th>220</th>\n",
       "      <td>VARZEA GRANDE</td>\n",
       "      <td>165427.0</td>\n",
       "      <td>868</td>\n",
       "      <td>1202400.0</td>\n",
       "      <td>1712</td>\n",
       "      <td>47025.0</td>\n",
       "      <td>46</td>\n",
       "      <td>33</td>\n",
       "      <td>0</td>\n",
       "      <td>75.15</td>\n",
       "      <td>4391</td>\n",
       "    </tr>\n",
       "    <tr>\n",
       "      <th>221</th>\n",
       "      <td>VERA MENDES</td>\n",
       "      <td>114027.0</td>\n",
       "      <td>644</td>\n",
       "      <td>928800.0</td>\n",
       "      <td>1435</td>\n",
       "      <td>12540.0</td>\n",
       "      <td>13</td>\n",
       "      <td>19</td>\n",
       "      <td>0</td>\n",
       "      <td>61.75</td>\n",
       "      <td>3077</td>\n",
       "    </tr>\n",
       "    <tr>\n",
       "      <th>222</th>\n",
       "      <td>VILA NOVA DO PIAUI</td>\n",
       "      <td>96795.0</td>\n",
       "      <td>491</td>\n",
       "      <td>742800.0</td>\n",
       "      <td>1120</td>\n",
       "      <td>13585.0</td>\n",
       "      <td>14</td>\n",
       "      <td>55</td>\n",
       "      <td>0</td>\n",
       "      <td>185.12</td>\n",
       "      <td>2971</td>\n",
       "    </tr>\n",
       "    <tr>\n",
       "      <th>223</th>\n",
       "      <td>WALL FERRAZ</td>\n",
       "      <td>116141.0</td>\n",
       "      <td>758</td>\n",
       "      <td>1116000.0</td>\n",
       "      <td>1703</td>\n",
       "      <td>14630.0</td>\n",
       "      <td>15</td>\n",
       "      <td>234</td>\n",
       "      <td>1</td>\n",
       "      <td>524.43</td>\n",
       "      <td>4462</td>\n",
       "    </tr>\n",
       "  </tbody>\n",
       "</table>\n",
       "<p>224 rows × 11 columns</p>\n",
       "</div>"
      ],
      "text/plain": [
       "              MUNICIPIO  VALOR_BF  QTD_BF   VALOR_AE  QTD_AE  VALOR_BPC  \\\n",
       "0                 ACAUA  262311.0    1366  1802400.0    2784    15675.0   \n",
       "1          AGRICOLANDIA  216328.0     928  1465200.0    2175    89870.0   \n",
       "2           AGUA BRANCA  491899.0    2466  4321200.0    6079   722095.0   \n",
       "3    ALAGOINHA DO PIAUI  275991.0    1547  2043600.0    2999   114950.0   \n",
       "4     ALEGRETE DO PIAUI  184287.0     872  1430400.0    1914    43890.0   \n",
       "..                  ...       ...     ...        ...     ...        ...   \n",
       "219       VARZEA BRANCA  236936.0    1174  1605600.0    2270    35530.0   \n",
       "220       VARZEA GRANDE  165427.0     868  1202400.0    1712    47025.0   \n",
       "221         VERA MENDES  114027.0     644   928800.0    1435    12540.0   \n",
       "222  VILA NOVA DO PIAUI   96795.0     491   742800.0    1120    13585.0   \n",
       "223         WALL FERRAZ  116141.0     758  1116000.0    1703    14630.0   \n",
       "\n",
       "     QTD_BPC  CONF  OBT     INC    POP  \n",
       "0         16    38    0   53.64   7084  \n",
       "1         87    56    0  108.97   5139  \n",
       "2        692   915   36  525.53  17411  \n",
       "3        111    94    1  122.86   7651  \n",
       "4         43   123    0  250.25   4915  \n",
       "..       ...   ...  ...     ...    ...  \n",
       "219       35    29    2   58.62   4947  \n",
       "220       46    33    0   75.15   4391  \n",
       "221       13    19    0   61.75   3077  \n",
       "222       14    55    0  185.12   2971  \n",
       "223       15   234    1  524.43   4462  \n",
       "\n",
       "[224 rows x 11 columns]"
      ]
     },
     "execution_count": 45,
     "metadata": {},
     "output_type": "execute_result"
    }
   ],
   "source": [
    "for line in df:\n",
    "    if()"
   ]
  },
  {
   "cell_type": "code",
   "execution_count": 58,
   "metadata": {},
   "outputs": [],
   "source": [
    "df.apply(lambda x: pd.Series([x[0], x[1]/x[10], x[2]/x[10], x[3]/x[10], x[4]/x[10], x[5]/x[10], x[6]/x[10], x[7]/x[10], x[8]/x[10], x[9]]), axis=1 ,raw=True).to_csv('final_normalizado.csv', index=False)"
   ]
  },
  {
   "cell_type": "code",
   "execution_count": 59,
   "metadata": {},
   "outputs": [
    {
     "output_type": "execute_result",
     "data": {
      "text/plain": "              MUNICIPIO  VALOR_BF  QTD_BF   VALOR_AE  QTD_AE  VALOR_BPC  \\\n0                 ACAUA  262311.0    1366  1802400.0    2784    15675.0   \n1          AGRICOLANDIA  216328.0     928  1465200.0    2175    89870.0   \n2           AGUA BRANCA  491899.0    2466  4321200.0    6079   722095.0   \n3    ALAGOINHA DO PIAUI  275991.0    1547  2043600.0    2999   114950.0   \n4     ALEGRETE DO PIAUI  184287.0     872  1430400.0    1914    43890.0   \n..                  ...       ...     ...        ...     ...        ...   \n219       VARZEA BRANCA  236936.0    1174  1605600.0    2270    35530.0   \n220       VARZEA GRANDE  165427.0     868  1202400.0    1712    47025.0   \n221         VERA MENDES  114027.0     644   928800.0    1435    12540.0   \n222  VILA NOVA DO PIAUI   96795.0     491   742800.0    1120    13585.0   \n223         WALL FERRAZ  116141.0     758  1116000.0    1703    14630.0   \n\n     QTD_BPC  CONF  OBT     INC    POP  \n0         16    38    0   53.64   7084  \n1         87    56    0  108.97   5139  \n2        692   915   36  525.53  17411  \n3        111    94    1  122.86   7651  \n4         43   123    0  250.25   4915  \n..       ...   ...  ...     ...    ...  \n219       35    29    2   58.62   4947  \n220       46    33    0   75.15   4391  \n221       13    19    0   61.75   3077  \n222       14    55    0  185.12   2971  \n223       15   234    1  524.43   4462  \n\n[224 rows x 11 columns]",
      "text/html": "<div>\n<style scoped>\n    .dataframe tbody tr th:only-of-type {\n        vertical-align: middle;\n    }\n\n    .dataframe tbody tr th {\n        vertical-align: top;\n    }\n\n    .dataframe thead th {\n        text-align: right;\n    }\n</style>\n<table border=\"1\" class=\"dataframe\">\n  <thead>\n    <tr style=\"text-align: right;\">\n      <th></th>\n      <th>MUNICIPIO</th>\n      <th>VALOR_BF</th>\n      <th>QTD_BF</th>\n      <th>VALOR_AE</th>\n      <th>QTD_AE</th>\n      <th>VALOR_BPC</th>\n      <th>QTD_BPC</th>\n      <th>CONF</th>\n      <th>OBT</th>\n      <th>INC</th>\n      <th>POP</th>\n    </tr>\n  </thead>\n  <tbody>\n    <tr>\n      <th>0</th>\n      <td>ACAUA</td>\n      <td>262311.0</td>\n      <td>1366</td>\n      <td>1802400.0</td>\n      <td>2784</td>\n      <td>15675.0</td>\n      <td>16</td>\n      <td>38</td>\n      <td>0</td>\n      <td>53.64</td>\n      <td>7084</td>\n    </tr>\n    <tr>\n      <th>1</th>\n      <td>AGRICOLANDIA</td>\n      <td>216328.0</td>\n      <td>928</td>\n      <td>1465200.0</td>\n      <td>2175</td>\n      <td>89870.0</td>\n      <td>87</td>\n      <td>56</td>\n      <td>0</td>\n      <td>108.97</td>\n      <td>5139</td>\n    </tr>\n    <tr>\n      <th>2</th>\n      <td>AGUA BRANCA</td>\n      <td>491899.0</td>\n      <td>2466</td>\n      <td>4321200.0</td>\n      <td>6079</td>\n      <td>722095.0</td>\n      <td>692</td>\n      <td>915</td>\n      <td>36</td>\n      <td>525.53</td>\n      <td>17411</td>\n    </tr>\n    <tr>\n      <th>3</th>\n      <td>ALAGOINHA DO PIAUI</td>\n      <td>275991.0</td>\n      <td>1547</td>\n      <td>2043600.0</td>\n      <td>2999</td>\n      <td>114950.0</td>\n      <td>111</td>\n      <td>94</td>\n      <td>1</td>\n      <td>122.86</td>\n      <td>7651</td>\n    </tr>\n    <tr>\n      <th>4</th>\n      <td>ALEGRETE DO PIAUI</td>\n      <td>184287.0</td>\n      <td>872</td>\n      <td>1430400.0</td>\n      <td>1914</td>\n      <td>43890.0</td>\n      <td>43</td>\n      <td>123</td>\n      <td>0</td>\n      <td>250.25</td>\n      <td>4915</td>\n    </tr>\n    <tr>\n      <th>...</th>\n      <td>...</td>\n      <td>...</td>\n      <td>...</td>\n      <td>...</td>\n      <td>...</td>\n      <td>...</td>\n      <td>...</td>\n      <td>...</td>\n      <td>...</td>\n      <td>...</td>\n      <td>...</td>\n    </tr>\n    <tr>\n      <th>219</th>\n      <td>VARZEA BRANCA</td>\n      <td>236936.0</td>\n      <td>1174</td>\n      <td>1605600.0</td>\n      <td>2270</td>\n      <td>35530.0</td>\n      <td>35</td>\n      <td>29</td>\n      <td>2</td>\n      <td>58.62</td>\n      <td>4947</td>\n    </tr>\n    <tr>\n      <th>220</th>\n      <td>VARZEA GRANDE</td>\n      <td>165427.0</td>\n      <td>868</td>\n      <td>1202400.0</td>\n      <td>1712</td>\n      <td>47025.0</td>\n      <td>46</td>\n      <td>33</td>\n      <td>0</td>\n      <td>75.15</td>\n      <td>4391</td>\n    </tr>\n    <tr>\n      <th>221</th>\n      <td>VERA MENDES</td>\n      <td>114027.0</td>\n      <td>644</td>\n      <td>928800.0</td>\n      <td>1435</td>\n      <td>12540.0</td>\n      <td>13</td>\n      <td>19</td>\n      <td>0</td>\n      <td>61.75</td>\n      <td>3077</td>\n    </tr>\n    <tr>\n      <th>222</th>\n      <td>VILA NOVA DO PIAUI</td>\n      <td>96795.0</td>\n      <td>491</td>\n      <td>742800.0</td>\n      <td>1120</td>\n      <td>13585.0</td>\n      <td>14</td>\n      <td>55</td>\n      <td>0</td>\n      <td>185.12</td>\n      <td>2971</td>\n    </tr>\n    <tr>\n      <th>223</th>\n      <td>WALL FERRAZ</td>\n      <td>116141.0</td>\n      <td>758</td>\n      <td>1116000.0</td>\n      <td>1703</td>\n      <td>14630.0</td>\n      <td>15</td>\n      <td>234</td>\n      <td>1</td>\n      <td>524.43</td>\n      <td>4462</td>\n    </tr>\n  </tbody>\n</table>\n<p>224 rows × 11 columns</p>\n</div>"
     },
     "metadata": {},
     "execution_count": 59
    }
   ],
   "source": [
    "df"
   ]
  },
  {
   "cell_type": "code",
   "execution_count": null,
   "metadata": {},
   "outputs": [],
   "source": []
  }
 ],
 "metadata": {
  "kernelspec": {
   "display_name": "Python 3",
   "language": "python",
   "name": "python3"
  },
  "language_info": {
   "codemirror_mode": {
    "name": "ipython",
    "version": 3
   },
   "file_extension": ".py",
   "mimetype": "text/x-python",
   "name": "python",
   "nbconvert_exporter": "python",
   "pygments_lexer": "ipython3",
   "version": "3.7.6-final"
  }
 },
 "nbformat": 4,
 "nbformat_minor": 2
}