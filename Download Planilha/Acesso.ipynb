{
 "cells": [
  {
   "cell_type": "code",
   "execution_count": null,
   "metadata": {},
   "outputs": [],
   "source": [
    "import gspread\n",
    "from oauth2client.service_account import ServiceAccountCredentials\n",
    "import pandas as pd"
   ]
  },
  {
   "cell_type": "code",
   "execution_count": null,
   "metadata": {},
   "outputs": [],
   "source": [
    "scope = [\"https://spreadsheets.google.com/feeds\",\n",
    "         \"https://www.googleapis.com/auth/spreadsheets\",\n",
    "         \"https://www.googleapis.com/auth/drive.file\",\n",
    "         \"https://www.googleapis.com/auth/drive\"]\n",
    "try:\n",
    "    \n",
    "    creds = ServiceAccountCredentials.from_json_keyfile_name('creds.json', scope)\n",
    "\n",
    "except Exception as e:\n",
    "    \n",
    "    print(e)\n",
    "    \n",
    "client = gspread.authorize(creds)"
   ]
  },
  {
   "cell_type": "code",
   "execution_count": null,
   "metadata": {},
   "outputs": [],
   "source": [
    "sheets = client.open_by_key('1b-GkDhhxJIwWcA6tk3z4eX58f-f1w2TA2f2XrI4XB1w')"
   ]
  },
  {
   "cell_type": "code",
   "execution_count": null,
   "metadata": {},
   "outputs": [],
   "source": [
    "\"\"\"\n",
    "    Convertendo os dados da planilha para um DataFrame\n",
    "    Para pegar todas basta iterar sobre sheets.worksheets()\n",
    "\"\"\"\n",
    "\n",
    "data = sheets.worksheets()[0].get_all_values()\n",
    "headers = data.pop(0)\n",
    "df = pd.DataFrame(data, columns = headers)\n",
    "df"
   ]
  },
  {
   "cell_type": "code",
   "execution_count": null,
   "metadata": {},
   "outputs": [],
   "source": [
    "def generateInternedDataTable(df):\n",
    "    return df.drop(['LC','I-ILC','UTI','I-UTI','LE','I-LE','LR','I-LR','ALTAS'],axis=1)"
   ]
  },
  {
   "cell_type": "code",
   "execution_count": null,
   "metadata": {},
   "outputs": [],
   "source": [
    "def (df):\n",
    "    return df.drop(['id','Território','QTDE MUN','QTDE MUN OBT','CONF','OBT'],axis=1)"
   ]
  },
  {
   "cell_type": "code",
   "execution_count": null,
   "metadata": {},
   "outputs": [],
   "source": [
    "def generateStateDataTable(df):\n",
    "    return df.drop(['Novos por Dia','Semana','Conf/Semana','Obt/Semana','Novos/Semana','Novos/Dia'],axis=1)"
   ]
  },
  {
   "cell_type": "code",
   "execution_count": null,
   "metadata": {},
   "outputs": [],
   "source": [
    "def generateComorbidityTable(df):\n",
    "    return df.drop('Percentual',axis=1)"
   ]
  },
  {
   "cell_type": "code",
   "execution_count": null,
   "metadata": {},
   "outputs": [],
   "source": [
    "def generateAgeRangeTable(df):\n",
    "    d = {\n",
    "        'Faixa Etária':df['Faixa Etária'].to_list(),\n",
    "        'Confirmados':df['Confirmados'].to_list(),\n",
    "        'Óbitos':df['Óbitos'].to_list()\n",
    "    }\n",
    "    return pd.DataFrame(data=d)"
   ]
  },
  {
   "cell_type": "code",
   "execution_count": null,
   "metadata": {},
   "outputs": [],
   "source": [
    "def generateGenderTable(df1,df2):\n",
    "    d = {\n",
    "        'Confirmados Masculino':list(df1[df1.Sexo==\"Masculino\"].Quantidade),\n",
    "        'Confirmados Feminino':list(df1[df1.Sexo==\"Feminino\"].Quantidade),\n",
    "        'Obitos Masculino':list(df2[df2.Sexo==\"Masculino\"].Quantidade),\n",
    "        'Obitos Feminino':list(df2[df2.Sexo==\"Feminino\"].Quantidade),\n",
    "        }\n",
    "    return pd.DataFrame(data=d)"
   ]
  },
  {
   "cell_type": "code",
   "execution_count": null,
   "metadata": {},
   "outputs": [],
   "source": [
    "from datetime import datetime\n",
    "\n",
    "def getTimeUpdate(df):\n",
    "# Função que pega a ultima atualização na planilha do painel covid\n",
    "    date = df.Data.to_list()[0].split(':')[1][1:11]\n",
    "    time = df.Data.to_list()[0].split(':')[1][15:].split('h')\n",
    "    datetime = date+\" \"+time[0]+\":\"+time[1]   \n",
    "    \n",
    "    return datetime\n",
    "\n",
    "def getTimeSys():\n",
    "# Função que pega data e hora do sistema\n",
    "    data_e_hora_atuais = datetime.now()\n",
    "    data_e_hora_em_texto = data_e_hora_atuais.strftime('%d/%m/%Y %H:%M')\n",
    "    \n",
    "    return data_e_hora_em_texto\n",
    "\n",
    "def getTimeLastUpdate():\n",
    "\n",
    "# Função que pega a ultima feita no banco de dados\n",
    " \n",
    "    pass\n",
    "\n",
    "def calTime(time1,time2):\n",
    "\n",
    "# Função que calcula a diferenca de duas datas\n",
    "  \n",
    "    formattime = '%d/%m/%Y %H:%M'\n",
    "    dif = (datetime.strptime(time2, formattime) - datetime.strptime(time1, formattime)).total_seconds()\n",
    "    return dif"
   ]
  }
 ],
 "metadata": {
  "kernelspec": {
   "display_name": "Python 3",
   "language": "python",
   "name": "python3"
  },
  "language_info": {
   "codemirror_mode": {
    "name": "ipython",
    "version": 3
   },
   "file_extension": ".py",
   "mimetype": "text/x-python",
   "name": "python",
   "nbconvert_exporter": "python",
   "pygments_lexer": "ipython3",
   "version": "3.7.4"
  }
 },
 "nbformat": 4,
 "nbformat_minor": 4
}
