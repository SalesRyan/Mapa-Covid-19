{
 "cells": [
  {
   "cell_type": "code",
   "execution_count": 1,
   "metadata": {},
   "outputs": [],
   "source": [
    "import pandas as pd\n",
    "import numpy as np"
   ]
  },
  {
   "cell_type": "code",
   "execution_count": 2,
   "metadata": {},
   "outputs": [],
   "source": [
    "df = pd.read_excel('cidades.xlsx')"
   ]
  },
  {
   "cell_type": "code",
   "execution_count": 5,
   "metadata": {},
   "outputs": [],
   "source": [
    "codigos = df['Codigo'].to_list()"
   ]
  },
  {
   "cell_type": "code",
   "execution_count": 6,
   "metadata": {},
   "outputs": [],
   "source": [
    "import requests\n",
    "import time\n",
    "from datetime import datetime, timedelta, date"
   ]
  },
  {
   "cell_type": "code",
   "execution_count": 14,
   "metadata": {},
   "outputs": [],
   "source": [
    "from ast import literal_eval\n",
    "import json\n",
    "import pandas as pd\n",
    "#import Orange\n",
    "import numpy as np"
   ]
  },
  {
   "cell_type": "code",
   "execution_count": 7,
   "metadata": {},
   "outputs": [],
   "source": [
    "nomes = ['bpc-por-municipio', 'bolsa-familia-por-municipio', 'auxilio-emergencial-por-municipio']\n",
    "cod = '2211001'\n",
    "mesano = '202010'\n",
    "\n",
    "url = f'http://www.portaltransparencia.gov.br/api-de-dados/auxilio-emergencial-por-municipio?mesAno={mesano}&codigoIbge={cod}&pagina=1'\n",
    "headers = {'Accept': 'application/json', 'chave-api-dados': ''}"
   ]
  },
  {
   "cell_type": "code",
   "execution_count": 8,
   "metadata": {},
   "outputs": [],
   "source": [
    "cod_teresina = '2211001'\n",
    "data_atual = date.today()\n",
    "mes_ano = None\n",
    "while mes_ano is None:\n",
    "    ano = data_atual.year\n",
    "    mes = data_atual.month\n",
    "    if mes < 10:\n",
    "        mes = '0' + str(mes)\n",
    "    atual_mes_ano = str(ano) + str(mes)\n",
    "    url = f'http://www.portaltransparencia.gov.br/api-de-dados/auxilio-emergencial-por-municipio?mesAno={atual_mes_ano}&codigoIbge={cod_teresina}&pagina=1'\n",
    "    r = requests.get(url, headers = headers)\n",
    "    if r.text == '[]':\n",
    "        data_atual = data_atual - timedelta(days = 31 )\n",
    "    else:\n",
    "        mes_ano = atual_mes_ano"
   ]
  },
  {
   "cell_type": "code",
   "execution_count": 9,
   "metadata": {},
   "outputs": [
    {
     "output_type": "execute_result",
     "data": {
      "text/plain": [
       "'202008'"
      ]
     },
     "metadata": {},
     "execution_count": 9
    }
   ],
   "source": [
    "mes_ano"
   ]
  },
  {
   "cell_type": "code",
   "execution_count": 10,
   "metadata": {},
   "outputs": [],
   "source": [
    "r = requests.get(url, headers = headers)"
   ]
  },
  {
   "cell_type": "code",
   "execution_count": 16,
   "metadata": {},
   "outputs": [
    {
     "output_type": "execute_result",
     "data": {
      "text/plain": [
       "{'id': 61800038,\n",
       " 'dataReferencia': '01/08/2020',\n",
       " 'municipio': {'codigoIBGE': '2211001',\n",
       "  'nomeIBGE': 'TERESINA',\n",
       "  'nomeIBGEsemAcento': 'TERESINA',\n",
       "  'pais': 'BRASIL',\n",
       "  'uf': {'sigla': 'PI', 'nome': 'PIAUÍ'}},\n",
       " 'tipo': {'id': 6,\n",
       "  'descricao': 'Auxílio Emergencial',\n",
       "  'descricaoDetalhada': 'Auxílio Emergencial'},\n",
       " 'valor': 163006800.0,\n",
       " 'quantidadeBeneficiados': 220779}"
      ]
     },
     "metadata": {},
     "execution_count": 16
    }
   ],
   "source": [
    "literal_eval(r.text)[0]"
   ]
  },
  {
   "cell_type": "code",
   "execution_count": 12,
   "metadata": {},
   "outputs": [
    {
     "output_type": "execute_result",
     "data": {
      "text/plain": [
       "'[{\"id\":61800038,\"dataReferencia\":\"01/08/2020\",\"municipio\":{\"codigoIBGE\":\"2211001\",\"nomeIBGE\":\"TERESINA\",\"nomeIBGEsemAcento\":\"TERESINA\",\"pais\":\"BRASIL\",\"uf\":{\"sigla\":\"PI\",\"nome\":\"PIAUÍ\"}},\"tipo\":{\"id\":6,\"descricao\":\"Auxílio Emergencial\",\"descricaoDetalhada\":\"Auxílio Emergencial\"},\"valor\":163006800.00,\"quantidadeBeneficiados\":220779}]'"
      ]
     },
     "metadata": {},
     "execution_count": 12
    }
   ],
   "source": [
    "r.text"
   ]
  },
  {
   "cell_type": "code",
   "execution_count": null,
   "metadata": {},
   "outputs": [],
   "source": [
    "headers = {'Accept': 'application/json', 'chave-api-dados': ''}\n",
    "for nome in nomes:\n",
    "    arq = open(f'{nome}.txt', 'w')\n",
    "    for cod in codigos:\n",
    "        url = f'http://www.portaltransparencia.gov.br/api-de-dados/{nome}?mesAno={mesano}&codigoIbge={cod}&pagina=1'\n",
    "        r = requests.get(url, headers = headers)\n",
    "        time.sleep(2.5)\n",
    "        print(r.text)\n",
    "    arq.close\n",
    "        \n"
   ]
  },
  {
   "cell_type": "code",
   "execution_count": null,
   "metadata": {},
   "outputs": [],
   "source": [
    "nome = nomes[0]\n",
    "mesano = '202004'\n",
    "cod = '2203230'\n",
    "url = f'http://www.portaltransparencia.gov.br/api-de-dados/{nome}?mesAno={mesano}&codigoIbge={cod}&pagina=1'\n",
    "headers = {'Accept': 'application/json', 'chave-api-dados': ''}\n",
    "r = requests.get(url, headers = headers)\n"
   ]
  },
  {
   "cell_type": "code",
   "execution_count": null,
   "metadata": {
    "tags": []
   },
   "outputs": [],
   "source": [
    "aux_e = open('bpc-por-municipio.txt', 'r').read().split('\\n')\n",
    "aux_e.pop()\n",
    "aux_e = list(map(literal_eval, aux_e))\n",
    "aux_e = list(map(lambda x: (x[0]['municipio']['nomeIBGEsemAcento'], x[0]['valor'], x[0]['quantidadeBeneficiados']) ,aux_e))\n",
    "dic = {'CIDADE':[x[0] for x in aux_e], 'VALOR':[x[1] for x in aux_e], 'BENEFICIARIOS':[x[2] for x in aux_e]}\n",
    "bpc = pd.DataFrame.from_dict(dic)\n",
    "print(bpc)\n",
    "#js = {'data': [{'cidade':mun[0], 'valor':mun[1], 'qtdBen':mun[2]} for mun in aux_e]}\n",
    "#arq = open('BPC.json', \"w\")\n",
    "#arq.write(json.dumps(js))\n",
    "#arq.close()"
   ]
  },
  {
   "cell_type": "code",
   "execution_count": null,
   "metadata": {
    "tags": []
   },
   "outputs": [],
   "source": [
    "False in list(auxem['CIDADE'] == bolsafam['CIDADE'])"
   ]
  },
  {
   "cell_type": "code",
   "execution_count": null,
   "metadata": {},
   "outputs": [],
   "source": [
    "cidades"
   ]
  },
  {
   "cell_type": "code",
   "execution_count": null,
   "metadata": {
    "tags": []
   },
   "outputs": [],
   "source": [
    "#bpc = pd.read_csv('bpc.csv')\n",
    "#bolsafam = pd.read_csv('bolsaFam.csv')\n",
    "#auxem = pd.read_csv('auxEm.csv')\n",
    "cidades = pd.read_csv('cidades_CO.csv')\n",
    "#bpc_sorted = bpc.sort_values('CIDADE')\n",
    "#bolsafam_sorted = bolsafam.sort_values('CIDADE')\n",
    "#axem_sorted = auxem.sort_values('CIDADE')"
   ]
  },
  {
   "cell_type": "code",
   "execution_count": null,
   "metadata": {},
   "outputs": [],
   "source": [
    "cidades[cidades['nome'] == \"BARRA D'ALCANTARA\"]"
   ]
  },
  {
   "cell_type": "code",
   "execution_count": null,
   "metadata": {
    "tags": []
   },
   "outputs": [],
   "source": [
    "dicio = {}\n",
    "dicio['MUNICIPIO'] = bolsafam['CIDADE'].to_list()\n",
    "dicio['VALOR_BF'] = bolsafam['VALOR'].to_list()\n",
    "dicio['QTD_BF'] = bolsafam['BENEFICIARIOS'].to_list()\n",
    "dicio['VALOR_AE'] = auxem['VALOR'].to_list()\n",
    "dicio['QTD_AE'] = auxem['BENEFICIARIOS'].to_list()\n",
    "dicio['VALOR_BPC'] = bpc['VALOR'].to_list()\n",
    "dicio['QTD_BPC'] = bpc['BENEFICIARIOS'].to_list()\n",
    "dicio['CONF'] = []\n",
    "dicio['OBT'] = []\n",
    "dicio['INC'] = []\n",
    "dicio['POP'] = []\n",
    "for cidade in dicio['MUNICIPIO']:\n",
    "    print(cidade)\n",
    "    dicio['CONF'].append(int(cidades[cidades['nome'] == cidade]['confirmados']))\n",
    "    dicio['OBT'].append(int(cidades[cidades['nome'] == cidade]['obitos']))\n",
    "    dicio['INC'].append(float(cidades[cidades['nome'] == cidade]['incidencia']))\n",
    "    dicio['POP'].append(int(cidades[cidades['nome'] == cidade]['populacao']))\n",
    "\n",
    "#dicio['CONF'] = cidades['confirmados'].to_list()\n",
    "#dicio['OBT'] = cidades['obitos'].to_list()\n",
    "#dicio['INC'] = cidades['incidencia'].to_list()\n",
    "#dicio['POP'] = cidades['populacao'].to_list()"
   ]
  },
  {
   "cell_type": "code",
   "execution_count": null,
   "metadata": {},
   "outputs": [],
   "source": [
    "df = pd.DataFrame.from_dict(dicio)\n",
    "df.to_csv('final.csv',index=False)"
   ]
  },
  {
   "cell_type": "code",
   "execution_count": null,
   "metadata": {},
   "outputs": [],
   "source": [
    "df"
   ]
  },
  {
   "cell_type": "code",
   "execution_count": null,
   "metadata": {},
   "outputs": [],
   "source": [
    "tab.domain"
   ]
  },
  {
   "cell_type": "code",
   "execution_count": null,
   "metadata": {},
   "outputs": [],
   "source": [
    "cidades['nome'] == bpc['CIDADE']"
   ]
  },
  {
   "cell_type": "code",
   "execution_count": null,
   "metadata": {},
   "outputs": [],
   "source": [
    "cidades['nome']"
   ]
  },
  {
   "cell_type": "code",
   "execution_count": null,
   "metadata": {},
   "outputs": [],
   "source": [
    "cidades"
   ]
  },
  {
   "cell_type": "code",
   "execution_count": null,
   "metadata": {},
   "outputs": [],
   "source": [
    "df = pd.read_csv('final.csv')"
   ]
  },
  {
   "cell_type": "code",
   "execution_count": null,
   "metadata": {},
   "outputs": [],
   "source": [
    "for line in df:\n",
    "    if()"
   ]
  },
  {
   "cell_type": "code",
   "execution_count": null,
   "metadata": {},
   "outputs": [],
   "source": [
    "df.apply(lambda x: pd.Series([x[0], x[1]/x[10], x[2]/x[10], x[3]/x[10], x[4]/x[10], x[5]/x[10], x[6]/x[10], x[7]/x[10], x[8]/x[10], x[9]]), axis=1 ,raw=True).to_csv('final_normalizado.csv', index=False)"
   ]
  },
  {
   "cell_type": "code",
   "execution_count": null,
   "metadata": {},
   "outputs": [],
   "source": [
    "df"
   ]
  },
  {
   "cell_type": "code",
   "execution_count": null,
   "metadata": {},
   "outputs": [],
   "source": []
  }
 ],
 "metadata": {
  "kernelspec": {
   "name": "Python 3.8.3 64-bit ('base': conda)",
   "display_name": "Python 3.8.3 64-bit ('base': conda)",
   "metadata": {
    "interpreter": {
     "hash": "553567ffba0e17075731a4ce48ed70b0df537834ba59f7c38518d039f581877f"
    }
   }
  },
  "language_info": {
   "codemirror_mode": {
    "name": "ipython",
    "version": 3
   },
   "file_extension": ".py",
   "mimetype": "text/x-python",
   "name": "python",
   "nbconvert_exporter": "python",
   "pygments_lexer": "ipython3",
   "version": "3.8.3-final"
  }
 },
 "nbformat": 4,
 "nbformat_minor": 2
}