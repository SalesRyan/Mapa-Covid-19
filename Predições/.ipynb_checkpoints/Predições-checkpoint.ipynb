{
 "cells": [
  {
   "cell_type": "code",
   "execution_count": 2,
   "metadata": {},
   "outputs": [],
   "source": [
    "import pandas as pd\n",
    "import numpy as np"
   ]
  },
  {
   "cell_type": "code",
   "execution_count": 3,
   "metadata": {},
   "outputs": [],
   "source": [
    "try:\n",
    "    \n",
    "    test_csv = pd.read_csv(\"Casos por Dia (test).csv\")\n",
    "    train_csv = pd.read_csv(\"Casos por Dia (train).csv\")\n",
    "    \n",
    "except Exception as e:\n",
    "    print(e)"
   ]
  },
  {
   "cell_type": "code",
   "execution_count": 4,
   "metadata": {},
   "outputs": [
    {
     "data": {
      "text/plain": [
       "(78, 82)"
      ]
     },
     "execution_count": 4,
     "metadata": {},
     "output_type": "execute_result"
    }
   ],
   "source": [
    "len(train_csv),len(test_csv)"
   ]
  },
  {
   "cell_type": "code",
   "execution_count": 5,
   "metadata": {},
   "outputs": [
    {
     "data": {
      "text/html": [
       "<div>\n",
       "<style scoped>\n",
       "    .dataframe tbody tr th:only-of-type {\n",
       "        vertical-align: middle;\n",
       "    }\n",
       "\n",
       "    .dataframe tbody tr th {\n",
       "        vertical-align: top;\n",
       "    }\n",
       "\n",
       "    .dataframe thead th {\n",
       "        text-align: right;\n",
       "    }\n",
       "</style>\n",
       "<table border=\"1\" class=\"dataframe\">\n",
       "  <thead>\n",
       "    <tr style=\"text-align: right;\">\n",
       "      <th></th>\n",
       "      <th>Dias</th>\n",
       "      <th>Confirmados</th>\n",
       "      <th>Óbitos</th>\n",
       "      <th>Novos por Dia</th>\n",
       "      <th>Unnamed: 4</th>\n",
       "      <th>Semana</th>\n",
       "      <th>Conf/Semana</th>\n",
       "      <th>Obt/Semana</th>\n",
       "      <th>Novos/Semana</th>\n",
       "      <th>Unnamed: 9</th>\n",
       "      <th>Novos/Dia</th>\n",
       "    </tr>\n",
       "  </thead>\n",
       "  <tbody>\n",
       "    <tr>\n",
       "      <td>0</td>\n",
       "      <td>18/03</td>\n",
       "      <td>0</td>\n",
       "      <td>NaN</td>\n",
       "      <td>0</td>\n",
       "      <td>NaN</td>\n",
       "      <td>12.0</td>\n",
       "      <td>4.0</td>\n",
       "      <td>0.0</td>\n",
       "      <td>4.0</td>\n",
       "      <td>NaN</td>\n",
       "      <td>236.0</td>\n",
       "    </tr>\n",
       "    <tr>\n",
       "      <td>1</td>\n",
       "      <td>19/03</td>\n",
       "      <td>3</td>\n",
       "      <td>NaN</td>\n",
       "      <td>3</td>\n",
       "      <td>NaN</td>\n",
       "      <td>13.0</td>\n",
       "      <td>11.0</td>\n",
       "      <td>1.0</td>\n",
       "      <td>7.0</td>\n",
       "      <td>NaN</td>\n",
       "      <td>NaN</td>\n",
       "    </tr>\n",
       "    <tr>\n",
       "      <td>2</td>\n",
       "      <td>20/03</td>\n",
       "      <td>4</td>\n",
       "      <td>NaN</td>\n",
       "      <td>1</td>\n",
       "      <td>NaN</td>\n",
       "      <td>14.0</td>\n",
       "      <td>24.0</td>\n",
       "      <td>4.0</td>\n",
       "      <td>13.0</td>\n",
       "      <td>NaN</td>\n",
       "      <td>NaN</td>\n",
       "    </tr>\n",
       "    <tr>\n",
       "      <td>3</td>\n",
       "      <td>21/03</td>\n",
       "      <td>4</td>\n",
       "      <td>NaN</td>\n",
       "      <td>0</td>\n",
       "      <td>NaN</td>\n",
       "      <td>15.0</td>\n",
       "      <td>47.0</td>\n",
       "      <td>7.0</td>\n",
       "      <td>23.0</td>\n",
       "      <td>NaN</td>\n",
       "      <td>NaN</td>\n",
       "    </tr>\n",
       "    <tr>\n",
       "      <td>4</td>\n",
       "      <td>22/03</td>\n",
       "      <td>6</td>\n",
       "      <td>NaN</td>\n",
       "      <td>2</td>\n",
       "      <td>NaN</td>\n",
       "      <td>16.0</td>\n",
       "      <td>144.0</td>\n",
       "      <td>10.0</td>\n",
       "      <td>97.0</td>\n",
       "      <td>NaN</td>\n",
       "      <td>NaN</td>\n",
       "    </tr>\n",
       "    <tr>\n",
       "      <td>...</td>\n",
       "      <td>...</td>\n",
       "      <td>...</td>\n",
       "      <td>...</td>\n",
       "      <td>...</td>\n",
       "      <td>...</td>\n",
       "      <td>...</td>\n",
       "      <td>...</td>\n",
       "      <td>...</td>\n",
       "      <td>...</td>\n",
       "      <td>...</td>\n",
       "      <td>...</td>\n",
       "    </tr>\n",
       "    <tr>\n",
       "      <td>73</td>\n",
       "      <td>30/05</td>\n",
       "      <td>4931</td>\n",
       "      <td>161.0</td>\n",
       "      <td>186</td>\n",
       "      <td>NaN</td>\n",
       "      <td>NaN</td>\n",
       "      <td>NaN</td>\n",
       "      <td>NaN</td>\n",
       "      <td>NaN</td>\n",
       "      <td>NaN</td>\n",
       "      <td>NaN</td>\n",
       "    </tr>\n",
       "    <tr>\n",
       "      <td>74</td>\n",
       "      <td>31/05</td>\n",
       "      <td>5119</td>\n",
       "      <td>168.0</td>\n",
       "      <td>188</td>\n",
       "      <td>NaN</td>\n",
       "      <td>NaN</td>\n",
       "      <td>NaN</td>\n",
       "      <td>NaN</td>\n",
       "      <td>NaN</td>\n",
       "      <td>NaN</td>\n",
       "      <td>NaN</td>\n",
       "    </tr>\n",
       "    <tr>\n",
       "      <td>75</td>\n",
       "      <td>01/06</td>\n",
       "      <td>5506</td>\n",
       "      <td>180.0</td>\n",
       "      <td>387</td>\n",
       "      <td>NaN</td>\n",
       "      <td>NaN</td>\n",
       "      <td>NaN</td>\n",
       "      <td>NaN</td>\n",
       "      <td>NaN</td>\n",
       "      <td>NaN</td>\n",
       "      <td>NaN</td>\n",
       "    </tr>\n",
       "    <tr>\n",
       "      <td>76</td>\n",
       "      <td>02/06</td>\n",
       "      <td>5828</td>\n",
       "      <td>192.0</td>\n",
       "      <td>322</td>\n",
       "      <td>NaN</td>\n",
       "      <td>NaN</td>\n",
       "      <td>NaN</td>\n",
       "      <td>NaN</td>\n",
       "      <td>NaN</td>\n",
       "      <td>NaN</td>\n",
       "      <td>NaN</td>\n",
       "    </tr>\n",
       "    <tr>\n",
       "      <td>77</td>\n",
       "      <td>03/06</td>\n",
       "      <td>6064</td>\n",
       "      <td>202.0</td>\n",
       "      <td>236</td>\n",
       "      <td>NaN</td>\n",
       "      <td>NaN</td>\n",
       "      <td>NaN</td>\n",
       "      <td>NaN</td>\n",
       "      <td>NaN</td>\n",
       "      <td>NaN</td>\n",
       "      <td>NaN</td>\n",
       "    </tr>\n",
       "  </tbody>\n",
       "</table>\n",
       "<p>78 rows × 11 columns</p>\n",
       "</div>"
      ],
      "text/plain": [
       "     Dias  Confirmados  Óbitos  Novos por Dia  Unnamed: 4  Semana  \\\n",
       "0   18/03            0     NaN              0         NaN    12.0   \n",
       "1   19/03            3     NaN              3         NaN    13.0   \n",
       "2   20/03            4     NaN              1         NaN    14.0   \n",
       "3   21/03            4     NaN              0         NaN    15.0   \n",
       "4   22/03            6     NaN              2         NaN    16.0   \n",
       "..    ...          ...     ...            ...         ...     ...   \n",
       "73  30/05         4931   161.0            186         NaN     NaN   \n",
       "74  31/05         5119   168.0            188         NaN     NaN   \n",
       "75  01/06         5506   180.0            387         NaN     NaN   \n",
       "76  02/06         5828   192.0            322         NaN     NaN   \n",
       "77  03/06         6064   202.0            236         NaN     NaN   \n",
       "\n",
       "    Conf/Semana  Obt/Semana  Novos/Semana  Unnamed: 9  Novos/Dia  \n",
       "0           4.0         0.0           4.0         NaN      236.0  \n",
       "1          11.0         1.0           7.0         NaN        NaN  \n",
       "2          24.0         4.0          13.0         NaN        NaN  \n",
       "3          47.0         7.0          23.0         NaN        NaN  \n",
       "4         144.0        10.0          97.0         NaN        NaN  \n",
       "..          ...         ...           ...         ...        ...  \n",
       "73          NaN         NaN           NaN         NaN        NaN  \n",
       "74          NaN         NaN           NaN         NaN        NaN  \n",
       "75          NaN         NaN           NaN         NaN        NaN  \n",
       "76          NaN         NaN           NaN         NaN        NaN  \n",
       "77          NaN         NaN           NaN         NaN        NaN  \n",
       "\n",
       "[78 rows x 11 columns]"
      ]
     },
     "execution_count": 5,
     "metadata": {},
     "output_type": "execute_result"
    }
   ],
   "source": [
    "train_csv"
   ]
  },
  {
   "cell_type": "code",
   "execution_count": 6,
   "metadata": {},
   "outputs": [
    {
     "data": {
      "text/html": [
       "<div>\n",
       "<style scoped>\n",
       "    .dataframe tbody tr th:only-of-type {\n",
       "        vertical-align: middle;\n",
       "    }\n",
       "\n",
       "    .dataframe tbody tr th {\n",
       "        vertical-align: top;\n",
       "    }\n",
       "\n",
       "    .dataframe thead th {\n",
       "        text-align: right;\n",
       "    }\n",
       "</style>\n",
       "<table border=\"1\" class=\"dataframe\">\n",
       "  <thead>\n",
       "    <tr style=\"text-align: right;\">\n",
       "      <th></th>\n",
       "      <th>Dias</th>\n",
       "      <th>Confirmados</th>\n",
       "      <th>Óbitos</th>\n",
       "      <th>Novos por Dia</th>\n",
       "      <th>Unnamed: 4</th>\n",
       "      <th>Semana</th>\n",
       "      <th>Conf/Semana</th>\n",
       "      <th>Obt/Semana</th>\n",
       "      <th>Novos/Semana</th>\n",
       "      <th>Unnamed: 9</th>\n",
       "      <th>Novos/Dia</th>\n",
       "    </tr>\n",
       "  </thead>\n",
       "  <tbody>\n",
       "    <tr>\n",
       "      <td>0</td>\n",
       "      <td>18/03</td>\n",
       "      <td>0</td>\n",
       "      <td>NaN</td>\n",
       "      <td>0</td>\n",
       "      <td>NaN</td>\n",
       "      <td>12.0</td>\n",
       "      <td>4.0</td>\n",
       "      <td>0.0</td>\n",
       "      <td>4.0</td>\n",
       "      <td>NaN</td>\n",
       "      <td>143.0</td>\n",
       "    </tr>\n",
       "    <tr>\n",
       "      <td>1</td>\n",
       "      <td>19/03</td>\n",
       "      <td>3</td>\n",
       "      <td>NaN</td>\n",
       "      <td>3</td>\n",
       "      <td>NaN</td>\n",
       "      <td>13.0</td>\n",
       "      <td>11.0</td>\n",
       "      <td>1.0</td>\n",
       "      <td>7.0</td>\n",
       "      <td>NaN</td>\n",
       "      <td>NaN</td>\n",
       "    </tr>\n",
       "    <tr>\n",
       "      <td>2</td>\n",
       "      <td>20/03</td>\n",
       "      <td>4</td>\n",
       "      <td>NaN</td>\n",
       "      <td>1</td>\n",
       "      <td>NaN</td>\n",
       "      <td>14.0</td>\n",
       "      <td>24.0</td>\n",
       "      <td>4.0</td>\n",
       "      <td>13.0</td>\n",
       "      <td>NaN</td>\n",
       "      <td>NaN</td>\n",
       "    </tr>\n",
       "    <tr>\n",
       "      <td>3</td>\n",
       "      <td>21/03</td>\n",
       "      <td>4</td>\n",
       "      <td>NaN</td>\n",
       "      <td>0</td>\n",
       "      <td>NaN</td>\n",
       "      <td>15.0</td>\n",
       "      <td>47.0</td>\n",
       "      <td>7.0</td>\n",
       "      <td>23.0</td>\n",
       "      <td>NaN</td>\n",
       "      <td>NaN</td>\n",
       "    </tr>\n",
       "    <tr>\n",
       "      <td>4</td>\n",
       "      <td>22/03</td>\n",
       "      <td>6</td>\n",
       "      <td>NaN</td>\n",
       "      <td>2</td>\n",
       "      <td>NaN</td>\n",
       "      <td>16.0</td>\n",
       "      <td>144.0</td>\n",
       "      <td>10.0</td>\n",
       "      <td>97.0</td>\n",
       "      <td>NaN</td>\n",
       "      <td>NaN</td>\n",
       "    </tr>\n",
       "    <tr>\n",
       "      <td>...</td>\n",
       "      <td>...</td>\n",
       "      <td>...</td>\n",
       "      <td>...</td>\n",
       "      <td>...</td>\n",
       "      <td>...</td>\n",
       "      <td>...</td>\n",
       "      <td>...</td>\n",
       "      <td>...</td>\n",
       "      <td>...</td>\n",
       "      <td>...</td>\n",
       "      <td>...</td>\n",
       "    </tr>\n",
       "    <tr>\n",
       "      <td>77</td>\n",
       "      <td>03/06</td>\n",
       "      <td>6064</td>\n",
       "      <td>202.0</td>\n",
       "      <td>236</td>\n",
       "      <td>NaN</td>\n",
       "      <td>NaN</td>\n",
       "      <td>NaN</td>\n",
       "      <td>NaN</td>\n",
       "      <td>NaN</td>\n",
       "      <td>NaN</td>\n",
       "      <td>NaN</td>\n",
       "    </tr>\n",
       "    <tr>\n",
       "      <td>78</td>\n",
       "      <td>04/06</td>\n",
       "      <td>6717</td>\n",
       "      <td>217.0</td>\n",
       "      <td>653</td>\n",
       "      <td>NaN</td>\n",
       "      <td>NaN</td>\n",
       "      <td>NaN</td>\n",
       "      <td>NaN</td>\n",
       "      <td>NaN</td>\n",
       "      <td>NaN</td>\n",
       "      <td>NaN</td>\n",
       "    </tr>\n",
       "    <tr>\n",
       "      <td>79</td>\n",
       "      <td>05/06</td>\n",
       "      <td>7105</td>\n",
       "      <td>224.0</td>\n",
       "      <td>388</td>\n",
       "      <td>NaN</td>\n",
       "      <td>NaN</td>\n",
       "      <td>NaN</td>\n",
       "      <td>NaN</td>\n",
       "      <td>NaN</td>\n",
       "      <td>NaN</td>\n",
       "      <td>NaN</td>\n",
       "    </tr>\n",
       "    <tr>\n",
       "      <td>80</td>\n",
       "      <td>06/06</td>\n",
       "      <td>7478</td>\n",
       "      <td>239.0</td>\n",
       "      <td>373</td>\n",
       "      <td>NaN</td>\n",
       "      <td>NaN</td>\n",
       "      <td>NaN</td>\n",
       "      <td>NaN</td>\n",
       "      <td>NaN</td>\n",
       "      <td>NaN</td>\n",
       "      <td>NaN</td>\n",
       "    </tr>\n",
       "    <tr>\n",
       "      <td>81</td>\n",
       "      <td>07/06</td>\n",
       "      <td>7621</td>\n",
       "      <td>254.0</td>\n",
       "      <td>143</td>\n",
       "      <td>NaN</td>\n",
       "      <td>NaN</td>\n",
       "      <td>NaN</td>\n",
       "      <td>NaN</td>\n",
       "      <td>NaN</td>\n",
       "      <td>NaN</td>\n",
       "      <td>NaN</td>\n",
       "    </tr>\n",
       "  </tbody>\n",
       "</table>\n",
       "<p>82 rows × 11 columns</p>\n",
       "</div>"
      ],
      "text/plain": [
       "     Dias  Confirmados  Óbitos  Novos por Dia  Unnamed: 4  Semana  \\\n",
       "0   18/03            0     NaN              0         NaN    12.0   \n",
       "1   19/03            3     NaN              3         NaN    13.0   \n",
       "2   20/03            4     NaN              1         NaN    14.0   \n",
       "3   21/03            4     NaN              0         NaN    15.0   \n",
       "4   22/03            6     NaN              2         NaN    16.0   \n",
       "..    ...          ...     ...            ...         ...     ...   \n",
       "77  03/06         6064   202.0            236         NaN     NaN   \n",
       "78  04/06         6717   217.0            653         NaN     NaN   \n",
       "79  05/06         7105   224.0            388         NaN     NaN   \n",
       "80  06/06         7478   239.0            373         NaN     NaN   \n",
       "81  07/06         7621   254.0            143         NaN     NaN   \n",
       "\n",
       "    Conf/Semana  Obt/Semana  Novos/Semana  Unnamed: 9  Novos/Dia  \n",
       "0           4.0         0.0           4.0         NaN      143.0  \n",
       "1          11.0         1.0           7.0         NaN        NaN  \n",
       "2          24.0         4.0          13.0         NaN        NaN  \n",
       "3          47.0         7.0          23.0         NaN        NaN  \n",
       "4         144.0        10.0          97.0         NaN        NaN  \n",
       "..          ...         ...           ...         ...        ...  \n",
       "77          NaN         NaN           NaN         NaN        NaN  \n",
       "78          NaN         NaN           NaN         NaN        NaN  \n",
       "79          NaN         NaN           NaN         NaN        NaN  \n",
       "80          NaN         NaN           NaN         NaN        NaN  \n",
       "81          NaN         NaN           NaN         NaN        NaN  \n",
       "\n",
       "[82 rows x 11 columns]"
      ]
     },
     "execution_count": 6,
     "metadata": {},
     "output_type": "execute_result"
    }
   ],
   "source": [
    "test_csv"
   ]
  },
  {
   "cell_type": "code",
   "execution_count": 7,
   "metadata": {},
   "outputs": [],
   "source": [
    "test_csv = test_csv[len(train_csv):]"
   ]
  },
  {
   "cell_type": "code",
   "execution_count": 8,
   "metadata": {},
   "outputs": [
    {
     "data": {
      "text/html": [
       "<div>\n",
       "<style scoped>\n",
       "    .dataframe tbody tr th:only-of-type {\n",
       "        vertical-align: middle;\n",
       "    }\n",
       "\n",
       "    .dataframe tbody tr th {\n",
       "        vertical-align: top;\n",
       "    }\n",
       "\n",
       "    .dataframe thead th {\n",
       "        text-align: right;\n",
       "    }\n",
       "</style>\n",
       "<table border=\"1\" class=\"dataframe\">\n",
       "  <thead>\n",
       "    <tr style=\"text-align: right;\">\n",
       "      <th></th>\n",
       "      <th>Dias</th>\n",
       "      <th>Confirmados</th>\n",
       "      <th>Óbitos</th>\n",
       "      <th>Novos por Dia</th>\n",
       "      <th>Unnamed: 4</th>\n",
       "      <th>Semana</th>\n",
       "      <th>Conf/Semana</th>\n",
       "      <th>Obt/Semana</th>\n",
       "      <th>Novos/Semana</th>\n",
       "      <th>Unnamed: 9</th>\n",
       "      <th>Novos/Dia</th>\n",
       "    </tr>\n",
       "  </thead>\n",
       "  <tbody>\n",
       "    <tr>\n",
       "      <td>78</td>\n",
       "      <td>04/06</td>\n",
       "      <td>6717</td>\n",
       "      <td>217.0</td>\n",
       "      <td>653</td>\n",
       "      <td>NaN</td>\n",
       "      <td>NaN</td>\n",
       "      <td>NaN</td>\n",
       "      <td>NaN</td>\n",
       "      <td>NaN</td>\n",
       "      <td>NaN</td>\n",
       "      <td>NaN</td>\n",
       "    </tr>\n",
       "    <tr>\n",
       "      <td>79</td>\n",
       "      <td>05/06</td>\n",
       "      <td>7105</td>\n",
       "      <td>224.0</td>\n",
       "      <td>388</td>\n",
       "      <td>NaN</td>\n",
       "      <td>NaN</td>\n",
       "      <td>NaN</td>\n",
       "      <td>NaN</td>\n",
       "      <td>NaN</td>\n",
       "      <td>NaN</td>\n",
       "      <td>NaN</td>\n",
       "    </tr>\n",
       "    <tr>\n",
       "      <td>80</td>\n",
       "      <td>06/06</td>\n",
       "      <td>7478</td>\n",
       "      <td>239.0</td>\n",
       "      <td>373</td>\n",
       "      <td>NaN</td>\n",
       "      <td>NaN</td>\n",
       "      <td>NaN</td>\n",
       "      <td>NaN</td>\n",
       "      <td>NaN</td>\n",
       "      <td>NaN</td>\n",
       "      <td>NaN</td>\n",
       "    </tr>\n",
       "    <tr>\n",
       "      <td>81</td>\n",
       "      <td>07/06</td>\n",
       "      <td>7621</td>\n",
       "      <td>254.0</td>\n",
       "      <td>143</td>\n",
       "      <td>NaN</td>\n",
       "      <td>NaN</td>\n",
       "      <td>NaN</td>\n",
       "      <td>NaN</td>\n",
       "      <td>NaN</td>\n",
       "      <td>NaN</td>\n",
       "      <td>NaN</td>\n",
       "    </tr>\n",
       "  </tbody>\n",
       "</table>\n",
       "</div>"
      ],
      "text/plain": [
       "     Dias  Confirmados  Óbitos  Novos por Dia  Unnamed: 4  Semana  \\\n",
       "78  04/06         6717   217.0            653         NaN     NaN   \n",
       "79  05/06         7105   224.0            388         NaN     NaN   \n",
       "80  06/06         7478   239.0            373         NaN     NaN   \n",
       "81  07/06         7621   254.0            143         NaN     NaN   \n",
       "\n",
       "    Conf/Semana  Obt/Semana  Novos/Semana  Unnamed: 9  Novos/Dia  \n",
       "78          NaN         NaN           NaN         NaN        NaN  \n",
       "79          NaN         NaN           NaN         NaN        NaN  \n",
       "80          NaN         NaN           NaN         NaN        NaN  \n",
       "81          NaN         NaN           NaN         NaN        NaN  "
      ]
     },
     "execution_count": 8,
     "metadata": {},
     "output_type": "execute_result"
    }
   ],
   "source": [
    "test_csv"
   ]
  },
  {
   "cell_type": "code",
   "execution_count": 9,
   "metadata": {},
   "outputs": [],
   "source": [
    "test_csv = test_csv.drop(['Novos/Dia','Unnamed: 9','Novos/Semana','Obt/Semana','Conf/Semana','Semana','Unnamed: 4','Dias'],axis=1)"
   ]
  },
  {
   "cell_type": "code",
   "execution_count": 10,
   "metadata": {},
   "outputs": [],
   "source": [
    "train_csv = train_csv.drop(['Novos/Dia','Unnamed: 9','Novos/Semana','Obt/Semana','Conf/Semana','Semana','Unnamed: 4','Dias'],axis=1)"
   ]
  },
  {
   "cell_type": "code",
   "execution_count": 11,
   "metadata": {},
   "outputs": [],
   "source": [
    "train_csv.fillna(0, inplace=True)\n",
    "test_csv.fillna(0, inplace=True)"
   ]
  },
  {
   "cell_type": "code",
   "execution_count": 12,
   "metadata": {},
   "outputs": [
    {
     "data": {
      "text/html": [
       "<div>\n",
       "<style scoped>\n",
       "    .dataframe tbody tr th:only-of-type {\n",
       "        vertical-align: middle;\n",
       "    }\n",
       "\n",
       "    .dataframe tbody tr th {\n",
       "        vertical-align: top;\n",
       "    }\n",
       "\n",
       "    .dataframe thead th {\n",
       "        text-align: right;\n",
       "    }\n",
       "</style>\n",
       "<table border=\"1\" class=\"dataframe\">\n",
       "  <thead>\n",
       "    <tr style=\"text-align: right;\">\n",
       "      <th></th>\n",
       "      <th>Confirmados</th>\n",
       "      <th>Óbitos</th>\n",
       "      <th>Novos por Dia</th>\n",
       "    </tr>\n",
       "  </thead>\n",
       "  <tbody>\n",
       "    <tr>\n",
       "      <td>0</td>\n",
       "      <td>0</td>\n",
       "      <td>0.0</td>\n",
       "      <td>0</td>\n",
       "    </tr>\n",
       "    <tr>\n",
       "      <td>1</td>\n",
       "      <td>3</td>\n",
       "      <td>0.0</td>\n",
       "      <td>3</td>\n",
       "    </tr>\n",
       "    <tr>\n",
       "      <td>2</td>\n",
       "      <td>4</td>\n",
       "      <td>0.0</td>\n",
       "      <td>1</td>\n",
       "    </tr>\n",
       "    <tr>\n",
       "      <td>3</td>\n",
       "      <td>4</td>\n",
       "      <td>0.0</td>\n",
       "      <td>0</td>\n",
       "    </tr>\n",
       "    <tr>\n",
       "      <td>4</td>\n",
       "      <td>6</td>\n",
       "      <td>0.0</td>\n",
       "      <td>2</td>\n",
       "    </tr>\n",
       "    <tr>\n",
       "      <td>...</td>\n",
       "      <td>...</td>\n",
       "      <td>...</td>\n",
       "      <td>...</td>\n",
       "    </tr>\n",
       "    <tr>\n",
       "      <td>73</td>\n",
       "      <td>4931</td>\n",
       "      <td>161.0</td>\n",
       "      <td>186</td>\n",
       "    </tr>\n",
       "    <tr>\n",
       "      <td>74</td>\n",
       "      <td>5119</td>\n",
       "      <td>168.0</td>\n",
       "      <td>188</td>\n",
       "    </tr>\n",
       "    <tr>\n",
       "      <td>75</td>\n",
       "      <td>5506</td>\n",
       "      <td>180.0</td>\n",
       "      <td>387</td>\n",
       "    </tr>\n",
       "    <tr>\n",
       "      <td>76</td>\n",
       "      <td>5828</td>\n",
       "      <td>192.0</td>\n",
       "      <td>322</td>\n",
       "    </tr>\n",
       "    <tr>\n",
       "      <td>77</td>\n",
       "      <td>6064</td>\n",
       "      <td>202.0</td>\n",
       "      <td>236</td>\n",
       "    </tr>\n",
       "  </tbody>\n",
       "</table>\n",
       "<p>78 rows × 3 columns</p>\n",
       "</div>"
      ],
      "text/plain": [
       "    Confirmados  Óbitos  Novos por Dia\n",
       "0             0     0.0              0\n",
       "1             3     0.0              3\n",
       "2             4     0.0              1\n",
       "3             4     0.0              0\n",
       "4             6     0.0              2\n",
       "..          ...     ...            ...\n",
       "73         4931   161.0            186\n",
       "74         5119   168.0            188\n",
       "75         5506   180.0            387\n",
       "76         5828   192.0            322\n",
       "77         6064   202.0            236\n",
       "\n",
       "[78 rows x 3 columns]"
      ]
     },
     "execution_count": 12,
     "metadata": {},
     "output_type": "execute_result"
    }
   ],
   "source": [
    "train_csv"
   ]
  },
  {
   "cell_type": "code",
   "execution_count": 13,
   "metadata": {},
   "outputs": [
    {
     "data": {
      "text/html": [
       "<div>\n",
       "<style scoped>\n",
       "    .dataframe tbody tr th:only-of-type {\n",
       "        vertical-align: middle;\n",
       "    }\n",
       "\n",
       "    .dataframe tbody tr th {\n",
       "        vertical-align: top;\n",
       "    }\n",
       "\n",
       "    .dataframe thead th {\n",
       "        text-align: right;\n",
       "    }\n",
       "</style>\n",
       "<table border=\"1\" class=\"dataframe\">\n",
       "  <thead>\n",
       "    <tr style=\"text-align: right;\">\n",
       "      <th></th>\n",
       "      <th>Confirmados</th>\n",
       "      <th>Óbitos</th>\n",
       "      <th>Novos por Dia</th>\n",
       "    </tr>\n",
       "  </thead>\n",
       "  <tbody>\n",
       "    <tr>\n",
       "      <td>78</td>\n",
       "      <td>6717</td>\n",
       "      <td>217.0</td>\n",
       "      <td>653</td>\n",
       "    </tr>\n",
       "    <tr>\n",
       "      <td>79</td>\n",
       "      <td>7105</td>\n",
       "      <td>224.0</td>\n",
       "      <td>388</td>\n",
       "    </tr>\n",
       "    <tr>\n",
       "      <td>80</td>\n",
       "      <td>7478</td>\n",
       "      <td>239.0</td>\n",
       "      <td>373</td>\n",
       "    </tr>\n",
       "    <tr>\n",
       "      <td>81</td>\n",
       "      <td>7621</td>\n",
       "      <td>254.0</td>\n",
       "      <td>143</td>\n",
       "    </tr>\n",
       "  </tbody>\n",
       "</table>\n",
       "</div>"
      ],
      "text/plain": [
       "    Confirmados  Óbitos  Novos por Dia\n",
       "78         6717   217.0            653\n",
       "79         7105   224.0            388\n",
       "80         7478   239.0            373\n",
       "81         7621   254.0            143"
      ]
     },
     "execution_count": 13,
     "metadata": {},
     "output_type": "execute_result"
    }
   ],
   "source": [
    "test_csv"
   ]
  },
  {
   "cell_type": "code",
   "execution_count": 18,
   "metadata": {},
   "outputs": [],
   "source": [
    "from sklearn.linear_model import LinearRegression"
   ]
  },
  {
   "cell_type": "code",
   "execution_count": 42,
   "metadata": {},
   "outputs": [],
   "source": [
    "X_train = train_csv.drop('Óbitos',axis=1).values\n",
    "y_train = train_csv.drop(['Confirmados','Novos por Dia'],axis=1).values.ravel()"
   ]
  },
  {
   "cell_type": "code",
   "execution_count": 43,
   "metadata": {},
   "outputs": [
    {
     "data": {
      "text/plain": [
       "((78, 2), (78,))"
      ]
     },
     "execution_count": 43,
     "metadata": {},
     "output_type": "execute_result"
    }
   ],
   "source": [
    "X_train.shape,y_train.shape"
   ]
  },
  {
   "cell_type": "code",
   "execution_count": 44,
   "metadata": {},
   "outputs": [],
   "source": [
    "X_test = test_csv.drop('Óbitos',axis=1).values\n",
    "y_test = test_csv.drop(['Confirmados','Novos por Dia'],axis=1).values.ravel()"
   ]
  },
  {
   "cell_type": "code",
   "execution_count": 47,
   "metadata": {},
   "outputs": [
    {
     "data": {
      "text/plain": [
       "((4, 2), (4,))"
      ]
     },
     "execution_count": 47,
     "metadata": {},
     "output_type": "execute_result"
    }
   ],
   "source": [
    "X_test.shape,y_test.shape"
   ]
  },
  {
   "cell_type": "code",
   "execution_count": 48,
   "metadata": {},
   "outputs": [],
   "source": [
    "import matplotlib.pyplot as plt"
   ]
  },
  {
   "cell_type": "code",
   "execution_count": 84,
   "metadata": {},
   "outputs": [
    {
     "data": {
      "image/png": "[encoded data removed]",
      "text/plain": [
       "<Figure size 432x288 with 1 Axes>"
      ]
     },
     "metadata": {
      "needs_background": "light"
     },
     "output_type": "display_data"
    }
   ],
   "source": [
    "plt.scatter(X_train[0:,0],y_train)\n",
    "plt.title(\"Dados de treino casos acumulados\")\n",
    "plt.xlabel(\"Casos acumulados\")\n",
    "plt.ylabel(\"Número de Óbitos\")\n",
    "plt.show()"
   ]
  },
  {
   "cell_type": "code",
   "execution_count": 86,
   "metadata": {},
   "outputs": [
    {
     "data": {
      "image/png": "[encoded data removed]",
      "text/plain": [
       "<Figure size 432x288 with 1 Axes>"
      ]
     },
     "metadata": {
      "needs_background": "light"
     },
     "output_type": "display_data"
    }
   ],
   "source": [
    "plt.scatter(X_train[0:,1],y_train)\n",
    "plt.title(\"Dados de treino casos por dia\")\n",
    "plt.xlabel(\"Número de casos por dia\")\n",
    "plt.ylabel(\"Número de Óbitos\")\n",
    "plt.show()"
   ]
  },
  {
   "cell_type": "code",
   "execution_count": 89,
   "metadata": {},
   "outputs": [
    {
     "data": {
      "image/png": "[encoded data removed]",
      "text/plain": [
       "<Figure size 432x288 with 1 Axes>"
      ]
     },
     "metadata": {
      "needs_background": "light"
     },
     "output_type": "display_data"
    }
   ],
   "source": [
    "plt.scatter(X_test[0:,0],y_test)\n",
    "plt.title(\"Dados de teste casos acumulados\")\n",
    "plt.xlabel(\"Casos acumulados\")\n",
    "plt.ylabel(\"Número de Óbitos\")\n",
    "plt.show()"
   ]
  },
  {
   "cell_type": "code",
   "execution_count": 91,
   "metadata": {},
   "outputs": [
    {
     "data": {
      "image/png": "[encoded data removed]",
      "text/plain": [
       "<Figure size 432x288 with 1 Axes>"
      ]
     },
     "metadata": {
      "needs_background": "light"
     },
     "output_type": "display_data"
    }
   ],
   "source": [
    "plt.scatter(X_test[0:,1],y_test)\n",
    "plt.title(\"Dados de teste casos por dia\")\n",
    "plt.xlabel(\"Casos por dia\")\n",
    "plt.ylabel(\"Número de Óbitps\")\n",
    "plt.show()"
   ]
  },
  {
   "cell_type": "code",
   "execution_count": 92,
   "metadata": {},
   "outputs": [],
   "source": [
    "from sklearn.linear_model import LinearRegression"
   ]
  },
  {
   "cell_type": "code",
   "execution_count": 93,
   "metadata": {},
   "outputs": [],
   "source": [
    "model1 = LinearRegression()"
   ]
  },
  {
   "cell_type": "code",
   "execution_count": 94,
   "metadata": {},
   "outputs": [
    {
     "data": {
      "text/plain": [
       "LinearRegression(copy_X=True, fit_intercept=True, n_jobs=None, normalize=False)"
      ]
     },
     "execution_count": 94,
     "metadata": {},
     "output_type": "execute_result"
    }
   ],
   "source": [
    "model1.fit(X_train,y_train)"
   ]
  },
  {
   "cell_type": "code",
   "execution_count": 95,
   "metadata": {},
   "outputs": [],
   "source": [
    "pred_test = model1.predict(X_test)"
   ]
  },
  {
   "cell_type": "code",
   "execution_count": 98,
   "metadata": {},
   "outputs": [],
   "source": [
    "pred_train = model1.predict(X_train)"
   ]
  },
  {
   "cell_type": "code",
   "execution_count": 97,
   "metadata": {},
   "outputs": [
    {
     "name": "stdout",
     "output_type": "stream",
     "text": [
      "Predições do modelo:  [214.27908313 228.96696495 241.09104184 247.60603401]\n",
      "Reais  [217. 224. 239. 254.]\n",
      "[-2.72091687  4.96696495  2.09104184 -6.39396599]\n"
     ]
    }
   ],
   "source": [
    "print(\"Predições do modelo: \",pred_test)\n",
    "print(\"Reais \",y_test)\n",
    "\n",
    "print(pred_test - y_test)"
   ]
  },
  {
   "cell_type": "code",
   "execution_count": 99,
   "metadata": {},
   "outputs": [
    {
     "name": "stdout",
     "output_type": "stream",
     "text": [
      "Predições do modelo:  [  3.63321506   3.70474822   3.75356776   3.76189282   3.80958159\n",
      "   3.8262317    3.87392047   3.89057058   3.91441496   3.92274002\n",
      "   3.97042879   4.10630083   4.19561487   4.21226498   4.23610936\n",
      "   4.24443442   4.31596758   4.38863151   4.40528162   4.45297039\n",
      "   4.58884243   4.7973784    4.90334255   4.94383704   5.09522841\n",
      "   5.24055628   5.4407672    5.90439714   6.42743324   6.82292234\n",
      "   7.41523005   8.09078829   8.59943582   9.38362939  10.09361861\n",
      "  10.52240793  11.7108253   12.9044869   13.99824786  15.06816443\n",
      "  16.3920442   17.85518832  19.64495959  22.21059937  24.48476413\n",
      "  26.86191037  28.50440371  31.02389513  33.54595959  36.59414097\n",
      "  39.35084733  42.44897903  44.37113187  46.03335614  49.12963593\n",
      "  54.08341819  59.59158669  63.90866664  69.20798768  74.68850984\n",
      "  76.91334727  80.85291529  86.8239926   93.59057122 100.67391151\n",
      " 106.90944048 111.58870932 116.50271822 121.88827247 129.16925063\n",
      " 137.82210884 146.32768912 154.26254454 160.71226335 166.74346795\n",
      " 177.53635558 188.4360437  196.7439861 ]\n",
      "Reais  [  0.   0.   0.   0.   0.   0.   0.   0.   0.   0.   1.   3.   4.   4.\n",
      "   4.   4.   4.   4.   4.   4.   5.   6.   7.   7.   7.   7.   8.   8.\n",
      "   8.   8.   9.  10.  12.  14.  15.  15.  16.  17.  18.  20.  21.  24.\n",
      "  24.  24.  26.  28.  28.  29.  30.  35.  37.  38.  42.  45.  49.  57.\n",
      "  60.  60.  65.  72.  80.  85.  87.  91.  93.  99. 107. 110. 119. 134.\n",
      " 138. 146. 157. 161. 168. 180. 192. 202.]\n",
      "[ 3.63321506  3.70474822  3.75356776  3.76189282  3.80958159  3.8262317\n",
      "  3.87392047  3.89057058  3.91441496  3.92274002  2.97042879  1.10630083\n",
      "  0.19561487  0.21226498  0.23610936  0.24443442  0.31596758  0.38863151\n",
      "  0.40528162  0.45297039 -0.41115757 -1.2026216  -2.09665745 -2.05616296\n",
      " -1.90477159 -1.75944372 -2.5592328  -2.09560286 -1.57256676 -1.17707766\n",
      " -1.58476995 -1.90921171 -3.40056418 -4.61637061 -4.90638139 -4.47759207\n",
      " -4.2891747  -4.0955131  -4.00175214 -4.93183557 -4.6079558  -6.14481168\n",
      " -4.35504041 -1.78940063 -1.51523587 -1.13808963  0.50440371  2.02389513\n",
      "  3.54595959  1.59414097  2.35084733  4.44897903  2.37113187  1.03335614\n",
      "  0.12963593 -2.91658181 -0.40841331  3.90866664  4.20798768  2.68850984\n",
      " -3.08665273 -4.14708471 -0.1760074   2.59057122  7.67391151  7.90944048\n",
      "  4.58870932  6.50271822  2.88827247 -4.83074937 -0.17789116  0.32768912\n",
      " -2.73745546 -0.28773665 -1.25653205 -2.46364442 -3.5639563  -5.2560139 ]\n"
     ]
    }
   ],
   "source": [
    "print(\"Predições do modelo: \",pred_train)\n",
    "print(\"Reais \",y_train)\n",
    "\n",
    "print(pred_train - y_train)"
   ]
  },
  {
   "cell_type": "code",
   "execution_count": 104,
   "metadata": {},
   "outputs": [
    {
     "data": {
      "image/png": "[encoded data removed]",
      "text/plain": [
       "<Figure size 432x288 with 1 Axes>"
      ]
     },
     "metadata": {
      "needs_background": "light"
     },
     "output_type": "display_data"
    }
   ],
   "source": [
    "plt.scatter(X_train[0:,0],y_train)\n",
    "plt.plot(X_train[0:,0],pred_train,color='r')\n",
    "plt.xlabel(\"Casos acumulados\")\n",
    "plt.ylabel(\"Número de Óbitos\")\n",
    "plt.title(\"Predições para o conjunto de treino\")\n",
    "\n",
    "plt.show()"
   ]
  },
  {
   "cell_type": "code",
   "execution_count": 154,
   "metadata": {},
   "outputs": [
    {
     "data": {
      "image/png": "[encoded data removed]",
      "text/plain": [
       "<Figure size 432x288 with 1 Axes>"
      ]
     },
     "metadata": {
      "needs_background": "light"
     },
     "output_type": "display_data"
    }
   ],
   "source": [
    "plt.scatter(X_test[0:,0],y_test)\n",
    "plt.plot(X_test[0:,0],pred_test,color='r')\n",
    "plt.xlabel(\"Casos acumulados\")\n",
    "plt.ylabel(\"Número de Óbitos\")\n",
    "plt.title(\"Predições para o conjunto de treino\")\n",
    "\n",
    "plt.show()"
   ]
  }
 ],
 "metadata": {
  "kernelspec": {
   "display_name": "Python 3",
   "language": "python",
   "name": "python3"
  },
  "language_info": {
   "codemirror_mode": {
    "name": "ipython",
    "version": 3
   },
   "file_extension": ".py",
   "mimetype": "text/x-python",
   "name": "python",
   "nbconvert_exporter": "python",
   "pygments_lexer": "ipython3",
   "version": "3.7.4"
  }
 },
 "nbformat": 4,
 "nbformat_minor": 4
}
