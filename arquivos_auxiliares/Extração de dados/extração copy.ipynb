{
 "cells": [
  {
   "cell_type": "code",
   "execution_count": 1,
   "metadata": {},
   "outputs": [],
   "source": [
    "import pandas as pd\n",
    "import numpy as np"
   ]
  },
  {
   "cell_type": "code",
   "execution_count": 2,
   "metadata": {},
   "outputs": [],
   "source": [
    "df = pd.read_excel('cidades.xlsx')"
   ]
  },
  {
   "cell_type": "code",
   "execution_count": 5,
   "metadata": {},
   "outputs": [],
   "source": [
    "codigos = df['Codigo'].to_list()"
   ]
  },
  {
   "cell_type": "code",
   "execution_count": 2,
   "metadata": {},
   "outputs": [],
   "source": [
    "import requests\n",
    "import time\n",
    "from datetime import datetime, timedelta, date"
   ]
  },
  {
   "cell_type": "code",
   "execution_count": 4,
   "metadata": {},
   "outputs": [],
   "source": [
    "from ast import literal_eval\n",
    "import json\n",
    "import pandas as pd\n",
    "import numpy as np"
   ]
  },
  {
   "cell_type": "code",
   "execution_count": 5,
   "metadata": {},
   "outputs": [],
   "source": [
    "nomes = ['bpc-por-municipio', 'bolsa-familia-por-municipio', 'auxilio-emergencial-por-municipio']\n",
    "headers = {'Accept': 'application/json', 'chave-api-dados': '97ffcd5175f477ecee3cf0513575369a'}"
   ]
  },
  {
   "cell_type": "code",
   "execution_count": 6,
   "metadata": {},
   "outputs": [],
   "source": [
    "cod_teresina = '2211001'\n",
    "data_atual = date.today()\n",
    "mes_ano = None\n",
    "while mes_ano is None:\n",
    "    ano = data_atual.year\n",
    "    mes = data_atual.month\n",
    "    if mes < 10:\n",
    "        mes = '0' + str(mes)\n",
    "    atual_mes_ano = str(ano) + str(mes)\n",
    "    url = f'http://www.portaltransparencia.gov.br/api-de-dados/auxilio-emergencial-por-municipio?mesAno={atual_mes_ano}&codigoIbge={cod_teresina}&pagina=1'\n",
    "    r = requests.get(url, headers = headers)\n",
    "    if r.text == '[]':\n",
    "        data_atual = data_atual - timedelta(days = 31 )\n",
    "    else:\n",
    "        mes_ano = atual_mes_ano"
   ]
  },
  {
   "cell_type": "code",
   "execution_count": null,
   "metadata": {},
   "outputs": [],
   "source": [
    "headers = {'Accept': 'application/json', 'chave-api-dados': '97ffcd5175f477ecee3cf0513575369a'}\n",
    "for nome in nomes:\n",
    "    for cod in codigos:\n",
    "        url = f'http://www.portaltransparencia.gov.br/api-de-dados/{nome}?mesAno={mesano}&codigoIbge={cod}&pagina=1'\n",
    "        r = requests.get(url, headers = headers)\n",
    "        time.sleep(2)\n",
    "        print(r.text)        "
   ]
  }
 ],
 "metadata": {
  "kernelspec": {
   "name": "Python 3.8.3 64-bit ('base': conda)",
   "display_name": "Python 3.8.3 64-bit ('base': conda)",
   "metadata": {
    "interpreter": {
     "hash": "553567ffba0e17075731a4ce48ed70b0df537834ba59f7c38518d039f581877f"
    }
   }
  },
  "language_info": {
   "codemirror_mode": {
    "name": "ipython",
    "version": 3
   },
   "file_extension": ".py",
   "mimetype": "text/x-python",
   "name": "python",
   "nbconvert_exporter": "python",
   "pygments_lexer": "ipython3",
   "version": "3.8.3-final"
  }
 },
 "nbformat": 4,
 "nbformat_minor": 2
}