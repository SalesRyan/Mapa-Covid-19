{
 "cells": [
  {
   "cell_type": "code",
   "execution_count": 1,
   "metadata": {},
   "outputs": [],
   "source": [
    "import gspread\n",
    "from oauth2client.service_account import ServiceAccountCredentials\n",
    "import pandas as pd"
   ]
  },
  {
   "cell_type": "code",
   "execution_count": 2,
   "metadata": {},
   "outputs": [],
   "source": [
    "def authentic():\n",
    "    scope = [\"https://spreadsheets.google.com/feeds\",\n",
    "             \"https://www.googleapis.com/auth/spreadsheets\",\n",
    "             \"https://www.googleapis.com/auth/drive.file\",\n",
    "             \"https://www.googleapis.com/auth/drive\"]\n",
    "    try:\n",
    "\n",
    "        creds = ServiceAccountCredentials.from_json_keyfile_name('../Projeto_Django/scripts/creds.json', scope)\n",
    "\n",
    "    except Exception as e:\n",
    "\n",
    "        print(e)\n",
    "\n",
    "    client = gspread.authorize(creds)\n",
    "    return client.open_by_key('1b-GkDhhxJIwWcA6tk3z4eX58f-f1w2TA2f2XrI4XB1w')"
   ]
  },
  {
   "cell_type": "code",
   "execution_count": 3,
   "metadata": {},
   "outputs": [],
   "source": [
    "def getData(sheets,index=0):\n",
    "\n",
    "    #Convertendo os dados da planilha para um DataFrame Para pegar todas basta iterar sobre sheets.worksheets()\n",
    "\n",
    "    data = sheets.worksheets()[index].get_all_values()\n",
    "    headers = data.pop(0)\n",
    "    return pd.DataFrame(data, columns = headers)"
   ]
  },
  {
   "cell_type": "code",
   "execution_count": 15,
   "metadata": {
    "tags": []
   },
   "outputs": [
    {
     "output_type": "stream",
     "name": "stdout",
     "text": "[Errno 2] No such file or directory: '../Projeto_Django/scripts/creds.json'\n"
    },
    {
     "output_type": "error",
     "ename": "UnboundLocalError",
     "evalue": "local variable 'creds' referenced before assignment",
     "traceback": [
      "\u001b[1;31m---------------------------------------------------------------------------\u001b[0m",
      "\u001b[1;31mUnboundLocalError\u001b[0m                         Traceback (most recent call last)",
      "\u001b[1;32m<ipython-input-15-40ad7228f6cd>\u001b[0m in \u001b[0;36m<module>\u001b[1;34m\u001b[0m\n\u001b[1;32m----> 1\u001b[1;33m \u001b[0msheets\u001b[0m \u001b[1;33m=\u001b[0m \u001b[0mauthentic\u001b[0m\u001b[1;33m(\u001b[0m\u001b[1;33m)\u001b[0m\u001b[1;33m\u001b[0m\u001b[1;33m\u001b[0m\u001b[0m\n\u001b[0m",
      "\u001b[1;32m<ipython-input-2-f2beb39b5619>\u001b[0m in \u001b[0;36mauthentic\u001b[1;34m()\u001b[0m\n\u001b[0;32m     12\u001b[0m         \u001b[0mprint\u001b[0m\u001b[1;33m(\u001b[0m\u001b[0me\u001b[0m\u001b[1;33m)\u001b[0m\u001b[1;33m\u001b[0m\u001b[1;33m\u001b[0m\u001b[0m\n\u001b[0;32m     13\u001b[0m \u001b[1;33m\u001b[0m\u001b[0m\n\u001b[1;32m---> 14\u001b[1;33m     \u001b[0mclient\u001b[0m \u001b[1;33m=\u001b[0m \u001b[0mgspread\u001b[0m\u001b[1;33m.\u001b[0m\u001b[0mauthorize\u001b[0m\u001b[1;33m(\u001b[0m\u001b[0mcreds\u001b[0m\u001b[1;33m)\u001b[0m\u001b[1;33m\u001b[0m\u001b[1;33m\u001b[0m\u001b[0m\n\u001b[0m\u001b[0;32m     15\u001b[0m     \u001b[1;32mreturn\u001b[0m \u001b[0mclient\u001b[0m\u001b[1;33m.\u001b[0m\u001b[0mopen_by_key\u001b[0m\u001b[1;33m(\u001b[0m\u001b[1;34m'1b-GkDhhxJIwWcA6tk3z4eX58f-f1w2TA2f2XrI4XB1w'\u001b[0m\u001b[1;33m)\u001b[0m\u001b[1;33m\u001b[0m\u001b[1;33m\u001b[0m\u001b[0m\n",
      "\u001b[1;31mUnboundLocalError\u001b[0m: local variable 'creds' referenced before assignment"
     ]
    }
   ],
   "source": [
    "sheets = authentic()"
   ]
  },
  {
   "cell_type": "code",
   "execution_count": 12,
   "metadata": {},
   "outputs": [],
   "source": [
    "df1 = getData(sheets,index=1)\n",
    "df2 = getData(sheets,index=2)\n",
    "df3 = getData(sheets,index=3)\n",
    "df4 = getData(sheets,index=4)\n",
    "df5 = getData(sheets,index=5)\n",
    "df6 = getData(sheets,index=6)\n",
    "df8 = getData(sheets,index=8)\n",
    "df27 = getData(sheets,index=28)"
   ]
  },
  {
   "cell_type": "code",
   "execution_count": 17,
   "metadata": {},
   "outputs": [
    {
     "output_type": "execute_result",
     "data": {
      "text/plain": "      id    Município Confirmados Óbitos Incidência População       CEP  \\\n215  216  WALL FERRAZ          26      0      58,27      4462  64548000   \n216             PIAUÍ       35445   1019    1082,88   3273227             \n217                                                                       \n218                                                                       \n219                                                                       \n\n               Território  QTDE MUN  QTDE MUN OBT   CONF   OBT  \n215  VALE DO RIO GUARIBAS                                       \n216                                                             \n217                                                             \n218                        QTDE MUN  QTDE MUN OBT   CONF   OBT  \n219                             216           100  35445  1019  ",
      "text/html": "<div>\n<style scoped>\n    .dataframe tbody tr th:only-of-type {\n        vertical-align: middle;\n    }\n\n    .dataframe tbody tr th {\n        vertical-align: top;\n    }\n\n    .dataframe thead th {\n        text-align: right;\n    }\n</style>\n<table border=\"1\" class=\"dataframe\">\n  <thead>\n    <tr style=\"text-align: right;\">\n      <th></th>\n      <th>id</th>\n      <th>Município</th>\n      <th>Confirmados</th>\n      <th>Óbitos</th>\n      <th>Incidência</th>\n      <th>População</th>\n      <th>CEP</th>\n      <th>Território</th>\n      <th>QTDE MUN</th>\n      <th>QTDE MUN OBT</th>\n      <th>CONF</th>\n      <th>OBT</th>\n    </tr>\n  </thead>\n  <tbody>\n    <tr>\n      <th>215</th>\n      <td>216</td>\n      <td>WALL FERRAZ</td>\n      <td>26</td>\n      <td>0</td>\n      <td>58,27</td>\n      <td>4462</td>\n      <td>64548000</td>\n      <td>VALE DO RIO GUARIBAS</td>\n      <td></td>\n      <td></td>\n      <td></td>\n      <td></td>\n    </tr>\n    <tr>\n      <th>216</th>\n      <td></td>\n      <td>PIAUÍ</td>\n      <td>35445</td>\n      <td>1019</td>\n      <td>1082,88</td>\n      <td>3273227</td>\n      <td></td>\n      <td></td>\n      <td></td>\n      <td></td>\n      <td></td>\n      <td></td>\n    </tr>\n    <tr>\n      <th>217</th>\n      <td></td>\n      <td></td>\n      <td></td>\n      <td></td>\n      <td></td>\n      <td></td>\n      <td></td>\n      <td></td>\n      <td></td>\n      <td></td>\n      <td></td>\n      <td></td>\n    </tr>\n    <tr>\n      <th>218</th>\n      <td></td>\n      <td></td>\n      <td></td>\n      <td></td>\n      <td></td>\n      <td></td>\n      <td></td>\n      <td></td>\n      <td>QTDE MUN</td>\n      <td>QTDE MUN OBT</td>\n      <td>CONF</td>\n      <td>OBT</td>\n    </tr>\n    <tr>\n      <th>219</th>\n      <td></td>\n      <td></td>\n      <td></td>\n      <td></td>\n      <td></td>\n      <td></td>\n      <td></td>\n      <td></td>\n      <td>216</td>\n      <td>100</td>\n      <td>35445</td>\n      <td>1019</td>\n    </tr>\n  </tbody>\n</table>\n</div>"
     },
     "metadata": {},
     "execution_count": 17
    }
   ],
   "source": [
    "df6.tail()"
   ]
  },
  {
   "cell_type": "code",
   "execution_count": 4,
   "metadata": {},
   "outputs": [],
   "source": [
    "def CheckValue(df,column): #Função para salvar a coluna caso o valor esteja vazio\n",
    "    indexs = list(df[df[column]==''].index)\n",
    "    if indexs:\n",
    "        for index in indexs:\n",
    "            df[column][index] = df[column][index-1]\n",
    "    return df"
   ]
  },
  {
   "cell_type": "code",
   "execution_count": 8,
   "metadata": {},
   "outputs": [],
   "source": [
    "a = CheckValue(df27,'Capacidade Leitos Clínicos')\n",
    "a = CheckValue(df27,'Capacidade UTI')\n",
    "a = CheckValue(df27,'Capacidade LE')\n",
    "a = CheckValue(df27,'Capacidade Leitos Respiradores')"
   ]
  },
  {
   "cell_type": "code",
   "execution_count": 9,
   "metadata": {},
   "outputs": [
    {
     "data": {
      "text/html": [
       "<div>\n",
       "<style scoped>\n",
       "    .dataframe tbody tr th:only-of-type {\n",
       "        vertical-align: middle;\n",
       "    }\n",
       "\n",
       "    .dataframe tbody tr th {\n",
       "        vertical-align: top;\n",
       "    }\n",
       "\n",
       "    .dataframe thead th {\n",
       "        text-align: right;\n",
       "    }\n",
       "</style>\n",
       "<table border=\"1\" class=\"dataframe\">\n",
       "  <thead>\n",
       "    <tr style=\"text-align: right;\">\n",
       "      <th></th>\n",
       "      <th>Dias</th>\n",
       "      <th>Capacidade Leitos Clínicos</th>\n",
       "      <th>Internados Leitos Clínicos</th>\n",
       "      <th>Capacidade UTI</th>\n",
       "      <th>Internados UTI</th>\n",
       "      <th>Capacidade LE</th>\n",
       "      <th>Internados Estabilização</th>\n",
       "      <th>Capacidade Leitos Respiradores</th>\n",
       "      <th>Internados Leitos Respiradores</th>\n",
       "      <th>Altas</th>\n",
       "      <th></th>\n",
       "      <th>LC</th>\n",
       "      <th>I-ILC</th>\n",
       "      <th>UTI</th>\n",
       "      <th>I-UTI</th>\n",
       "      <th>LE</th>\n",
       "      <th>I-LE</th>\n",
       "      <th>LR</th>\n",
       "      <th>I-LR</th>\n",
       "      <th>ALTAS</th>\n",
       "    </tr>\n",
       "  </thead>\n",
       "  <tbody>\n",
       "    <tr>\n",
       "      <td>0</td>\n",
       "      <td>06/04/2020</td>\n",
       "      <td>723</td>\n",
       "      <td>48</td>\n",
       "      <td>148</td>\n",
       "      <td>30</td>\n",
       "      <td>26</td>\n",
       "      <td>1</td>\n",
       "      <td>174</td>\n",
       "      <td>31</td>\n",
       "      <td></td>\n",
       "      <td></td>\n",
       "      <td>1028</td>\n",
       "      <td>550</td>\n",
       "      <td>439</td>\n",
       "      <td>314</td>\n",
       "      <td>72</td>\n",
       "      <td>27</td>\n",
       "      <td>511</td>\n",
       "      <td>341</td>\n",
       "      <td>1299</td>\n",
       "    </tr>\n",
       "    <tr>\n",
       "      <td>1</td>\n",
       "      <td>07/04/2020</td>\n",
       "      <td>723</td>\n",
       "      <td>53</td>\n",
       "      <td>148</td>\n",
       "      <td>28</td>\n",
       "      <td>26</td>\n",
       "      <td>1</td>\n",
       "      <td>174</td>\n",
       "      <td>29</td>\n",
       "      <td></td>\n",
       "      <td></td>\n",
       "      <td></td>\n",
       "      <td></td>\n",
       "      <td></td>\n",
       "      <td></td>\n",
       "      <td></td>\n",
       "      <td></td>\n",
       "      <td></td>\n",
       "      <td></td>\n",
       "      <td></td>\n",
       "    </tr>\n",
       "    <tr>\n",
       "      <td>2</td>\n",
       "      <td>08/04/2020</td>\n",
       "      <td>723</td>\n",
       "      <td>55</td>\n",
       "      <td>148</td>\n",
       "      <td>22</td>\n",
       "      <td>26</td>\n",
       "      <td>0</td>\n",
       "      <td>174</td>\n",
       "      <td>22</td>\n",
       "      <td></td>\n",
       "      <td></td>\n",
       "      <td></td>\n",
       "      <td></td>\n",
       "      <td></td>\n",
       "      <td></td>\n",
       "      <td></td>\n",
       "      <td></td>\n",
       "      <td></td>\n",
       "      <td></td>\n",
       "      <td></td>\n",
       "    </tr>\n",
       "    <tr>\n",
       "      <td>3</td>\n",
       "      <td>09/04/2020</td>\n",
       "      <td>723</td>\n",
       "      <td>45</td>\n",
       "      <td>164</td>\n",
       "      <td>30</td>\n",
       "      <td>30</td>\n",
       "      <td>0</td>\n",
       "      <td>194</td>\n",
       "      <td>30</td>\n",
       "      <td></td>\n",
       "      <td></td>\n",
       "      <td></td>\n",
       "      <td></td>\n",
       "      <td></td>\n",
       "      <td></td>\n",
       "      <td></td>\n",
       "      <td></td>\n",
       "      <td></td>\n",
       "      <td></td>\n",
       "      <td></td>\n",
       "    </tr>\n",
       "    <tr>\n",
       "      <td>4</td>\n",
       "      <td>10/04/2020</td>\n",
       "      <td>723</td>\n",
       "      <td>75</td>\n",
       "      <td>169</td>\n",
       "      <td>40</td>\n",
       "      <td>30</td>\n",
       "      <td>0</td>\n",
       "      <td>199</td>\n",
       "      <td>40</td>\n",
       "      <td></td>\n",
       "      <td></td>\n",
       "      <td></td>\n",
       "      <td></td>\n",
       "      <td></td>\n",
       "      <td></td>\n",
       "      <td></td>\n",
       "      <td></td>\n",
       "      <td></td>\n",
       "      <td></td>\n",
       "      <td></td>\n",
       "    </tr>\n",
       "    <tr>\n",
       "      <td>...</td>\n",
       "      <td>...</td>\n",
       "      <td>...</td>\n",
       "      <td>...</td>\n",
       "      <td>...</td>\n",
       "      <td>...</td>\n",
       "      <td>...</td>\n",
       "      <td>...</td>\n",
       "      <td>...</td>\n",
       "      <td>...</td>\n",
       "      <td>...</td>\n",
       "      <td>...</td>\n",
       "      <td>...</td>\n",
       "      <td>...</td>\n",
       "      <td>...</td>\n",
       "      <td>...</td>\n",
       "      <td>...</td>\n",
       "      <td>...</td>\n",
       "      <td>...</td>\n",
       "      <td>...</td>\n",
       "      <td>...</td>\n",
       "    </tr>\n",
       "    <tr>\n",
       "      <td>89</td>\n",
       "      <td>04/07/2020</td>\n",
       "      <td>1038</td>\n",
       "      <td>570</td>\n",
       "      <td>439</td>\n",
       "      <td>320</td>\n",
       "      <td>72</td>\n",
       "      <td>16</td>\n",
       "      <td>511</td>\n",
       "      <td>336</td>\n",
       "      <td>1181</td>\n",
       "      <td></td>\n",
       "      <td></td>\n",
       "      <td></td>\n",
       "      <td></td>\n",
       "      <td></td>\n",
       "      <td></td>\n",
       "      <td></td>\n",
       "      <td></td>\n",
       "      <td></td>\n",
       "      <td></td>\n",
       "    </tr>\n",
       "    <tr>\n",
       "      <td>90</td>\n",
       "      <td>05/07/2020</td>\n",
       "      <td>1030</td>\n",
       "      <td>557</td>\n",
       "      <td>439</td>\n",
       "      <td>330</td>\n",
       "      <td>73</td>\n",
       "      <td>22</td>\n",
       "      <td>512</td>\n",
       "      <td>352</td>\n",
       "      <td>1211</td>\n",
       "      <td></td>\n",
       "      <td></td>\n",
       "      <td></td>\n",
       "      <td></td>\n",
       "      <td></td>\n",
       "      <td></td>\n",
       "      <td></td>\n",
       "      <td></td>\n",
       "      <td></td>\n",
       "      <td></td>\n",
       "    </tr>\n",
       "    <tr>\n",
       "      <td>91</td>\n",
       "      <td>06/07/2020</td>\n",
       "      <td>1028</td>\n",
       "      <td>563</td>\n",
       "      <td>439</td>\n",
       "      <td>329</td>\n",
       "      <td>72</td>\n",
       "      <td>18</td>\n",
       "      <td>511</td>\n",
       "      <td>347</td>\n",
       "      <td>1235</td>\n",
       "      <td></td>\n",
       "      <td></td>\n",
       "      <td></td>\n",
       "      <td></td>\n",
       "      <td></td>\n",
       "      <td></td>\n",
       "      <td></td>\n",
       "      <td></td>\n",
       "      <td></td>\n",
       "      <td></td>\n",
       "    </tr>\n",
       "    <tr>\n",
       "      <td>92</td>\n",
       "      <td>07/07/2020</td>\n",
       "      <td>1028</td>\n",
       "      <td>580</td>\n",
       "      <td>439</td>\n",
       "      <td>308</td>\n",
       "      <td>72</td>\n",
       "      <td>23</td>\n",
       "      <td>511</td>\n",
       "      <td>331</td>\n",
       "      <td>1249</td>\n",
       "      <td></td>\n",
       "      <td></td>\n",
       "      <td></td>\n",
       "      <td></td>\n",
       "      <td></td>\n",
       "      <td></td>\n",
       "      <td></td>\n",
       "      <td></td>\n",
       "      <td></td>\n",
       "      <td></td>\n",
       "    </tr>\n",
       "    <tr>\n",
       "      <td>93</td>\n",
       "      <td>08/07/2020</td>\n",
       "      <td>1028</td>\n",
       "      <td>550</td>\n",
       "      <td>439</td>\n",
       "      <td>314</td>\n",
       "      <td>72</td>\n",
       "      <td>27</td>\n",
       "      <td>511</td>\n",
       "      <td>341</td>\n",
       "      <td>1299</td>\n",
       "      <td></td>\n",
       "      <td></td>\n",
       "      <td></td>\n",
       "      <td></td>\n",
       "      <td></td>\n",
       "      <td></td>\n",
       "      <td></td>\n",
       "      <td></td>\n",
       "      <td></td>\n",
       "      <td></td>\n",
       "    </tr>\n",
       "  </tbody>\n",
       "</table>\n",
       "<p>94 rows × 20 columns</p>\n",
       "</div>"
      ],
      "text/plain": [
       "          Dias Capacidade Leitos Clínicos Internados Leitos Clínicos  \\\n",
       "0   06/04/2020                        723                         48   \n",
       "1   07/04/2020                        723                         53   \n",
       "2   08/04/2020                        723                         55   \n",
       "3   09/04/2020                        723                         45   \n",
       "4   10/04/2020                        723                         75   \n",
       "..         ...                        ...                        ...   \n",
       "89  04/07/2020                       1038                        570   \n",
       "90  05/07/2020                       1030                        557   \n",
       "91  06/07/2020                       1028                        563   \n",
       "92  07/07/2020                       1028                        580   \n",
       "93  08/07/2020                       1028                        550   \n",
       "\n",
       "   Capacidade UTI Internados UTI Capacidade LE Internados Estabilização  \\\n",
       "0             148             30            26                        1   \n",
       "1             148             28            26                        1   \n",
       "2             148             22            26                        0   \n",
       "3             164             30            30                        0   \n",
       "4             169             40            30                        0   \n",
       "..            ...            ...           ...                      ...   \n",
       "89            439            320            72                       16   \n",
       "90            439            330            73                       22   \n",
       "91            439            329            72                       18   \n",
       "92            439            308            72                       23   \n",
       "93            439            314            72                       27   \n",
       "\n",
       "   Capacidade Leitos Respiradores Internados Leitos Respiradores Altas     \\\n",
       "0                             174                             31            \n",
       "1                             174                             29            \n",
       "2                             174                             22            \n",
       "3                             194                             30            \n",
       "4                             199                             40            \n",
       "..                            ...                            ...   ... ..   \n",
       "89                            511                            336  1181      \n",
       "90                            512                            352  1211      \n",
       "91                            511                            347  1235      \n",
       "92                            511                            331  1249      \n",
       "93                            511                            341  1299      \n",
       "\n",
       "      LC I-ILC  UTI I-UTI  LE I-LE   LR I-LR ALTAS  \n",
       "0   1028   550  439   314  72   27  511  341  1299  \n",
       "1                                                   \n",
       "2                                                   \n",
       "3                                                   \n",
       "4                                                   \n",
       "..   ...   ...  ...   ...  ..  ...  ...  ...   ...  \n",
       "89                                                  \n",
       "90                                                  \n",
       "91                                                  \n",
       "92                                                  \n",
       "93                                                  \n",
       "\n",
       "[94 rows x 20 columns]"
      ]
     },
     "execution_count": 9,
     "metadata": {},
     "output_type": "execute_result"
    }
   ],
   "source": [
    "a"
   ]
  },
  {
   "cell_type": "code",
   "execution_count": null,
   "metadata": {},
   "outputs": [],
   "source": [
    "df8[df8['Município']!='PIAUÍ']"
   ]
  },
  {
   "cell_type": "code",
   "execution_count": null,
   "metadata": {},
   "outputs": [],
   "source": [
    "df6"
   ]
  },
  {
   "cell_type": "code",
   "execution_count": null,
   "metadata": {},
   "outputs": [],
   "source": [
    "df5"
   ]
  },
  {
   "cell_type": "code",
   "execution_count": null,
   "metadata": {},
   "outputs": [],
   "source": [
    "df4[df4['Faixa Etária']!='TOTAL']"
   ]
  },
  {
   "cell_type": "code",
   "execution_count": null,
   "metadata": {},
   "outputs": [],
   "source": [
    "df3"
   ]
  },
  {
   "cell_type": "code",
   "execution_count": null,
   "metadata": {},
   "outputs": [],
   "source": [
    "df2"
   ]
  },
  {
   "cell_type": "code",
   "execution_count": null,
   "metadata": {},
   "outputs": [],
   "source": [
    "df1"
   ]
  },
  {
   "cell_type": "code",
   "execution_count": 5,
   "metadata": {},
   "outputs": [],
   "source": [
    "def generateInternedDataTable(df):\n",
    "    return df.drop(['LC','I-ILC','UTI','I-UTI','LE','I-LE','LR','I-LR','ALTAS'],axis=1)"
   ]
  },
  {
   "cell_type": "code",
   "execution_count": null,
   "metadata": {},
   "outputs": [],
   "source": [
    "generateInternedDataTable(df23)"
   ]
  },
  {
   "cell_type": "code",
   "execution_count": 6,
   "metadata": {},
   "outputs": [],
   "source": [
    "def generateCityDataTable(df):\n",
    "    return df.drop(['id','Território','QTDE MUN','QTDE MUN OBT','CONF','OBT'],axis=1)"
   ]
  },
  {
   "cell_type": "code",
   "execution_count": null,
   "metadata": {},
   "outputs": [],
   "source": [
    "generateCityDataTable(df6)"
   ]
  },
  {
   "cell_type": "code",
   "execution_count": 7,
   "metadata": {},
   "outputs": [],
   "source": [
    "def generateStateDataTable(df):\n",
    "    return df.drop(['Novos por Dia','Semana','Conf/Semana','Obt/Semana','Novos/Semana','Novos/Dia'],axis=1)"
   ]
  },
  {
   "cell_type": "code",
   "execution_count": null,
   "metadata": {},
   "outputs": [],
   "source": [
    "generateStateDataTable(df5)"
   ]
  },
  {
   "cell_type": "code",
   "execution_count": 8,
   "metadata": {},
   "outputs": [],
   "source": [
    "def generateComorbidityTable(df):\n",
    "    return df.drop('Percentual',axis=1)"
   ]
  },
  {
   "cell_type": "code",
   "execution_count": null,
   "metadata": {},
   "outputs": [],
   "source": [
    "generateComorbidityTable(df4)"
   ]
  },
  {
   "cell_type": "code",
   "execution_count": 9,
   "metadata": {},
   "outputs": [],
   "source": [
    "def generateAgeRangeTable(df):\n",
    "    d = {\n",
    "        'Faixa Etária':df['Faixa Etária'].to_list(),\n",
    "        'Confirmados':df['Confirmados'].to_list(),\n",
    "        'Óbitos':df['Óbitos'].to_list()\n",
    "    }\n",
    "    return pd.DataFrame(data=d)"
   ]
  },
  {
   "cell_type": "code",
   "execution_count": null,
   "metadata": {},
   "outputs": [],
   "source": [
    "generateAgeRangeTable(df3)"
   ]
  },
  {
   "cell_type": "code",
   "execution_count": 10,
   "metadata": {},
   "outputs": [],
   "source": [
    "def generateGenderTable(df1,df2):\n",
    "    d = {\n",
    "        'Confirmados Masculino':list(df1[df1.Sexo==\"Masculino\"].Quantidade),\n",
    "        'Confirmados Feminino':list(df1[df1.Sexo==\"Feminino\"].Quantidade),\n",
    "        'Obitos Masculino':list(df2[df2.Sexo==\"Masculino\"].Quantidade),\n",
    "        'Obitos Feminino':list(df2[df2.Sexo==\"Feminino\"].Quantidade),\n",
    "        }\n",
    "    return pd.DataFrame(data=d)"
   ]
  },
  {
   "cell_type": "code",
   "execution_count": null,
   "metadata": {},
   "outputs": [],
   "source": [
    "generateGenderTable(df1,df2)"
   ]
  },
  {
   "cell_type": "code",
   "execution_count": 11,
   "metadata": {},
   "outputs": [],
   "source": [
    "from datetime import datetime\n",
    "\n",
    "def getTimeUpdate(df):\n",
    "# Função que pega a ultima atualização na planilha do painel covid\n",
    "    date = df.Data.to_list()[0].split(':')[1][1:11]\n",
    "    time = df.Data.to_list()[0].split(':')[1][15:].split('h')\n",
    "    datetime = date+\" \"+time[0]+\":\"+time[1]   \n",
    "    \n",
    "    return datetime\n",
    "\n",
    "def getTimeSys():\n",
    "# Função que pega data e hora do sistema\n",
    "    data_e_hora_atuais = datetime.now()\n",
    "    data_e_hora_em_texto = data_e_hora_atuais.strftime('%d/%m/%Y %H:%M')\n",
    "    \n",
    "    return data_e_hora_em_texto\n",
    "\n",
    "def getTimeLastUpdate():\n",
    "\n",
    "# Função que pega a ultima feita no banco de dados\n",
    " \n",
    "    pass\n",
    "\n",
    "def calTime(time1,time2):\n",
    "\n",
    "# Função que calcula a diferenca de duas datas\n",
    "  \n",
    "    formattime = '%d/%m/%Y %H:%M'\n",
    "    dif = (datetime.strptime(time2, formattime) - datetime.strptime(time1, formattime)).total_seconds()\n",
    "    return dif"
   ]
  },
  {
   "cell_type": "code",
   "execution_count": null,
   "metadata": {},
   "outputs": [],
   "source": [
    "dfdata = getData(sheets, index=9)"
   ]
  },
  {
   "cell_type": "code",
   "execution_count": null,
   "metadata": {
    "tags": []
   },
   "outputs": [],
   "source": [
    "{'Data de Atualização':dfdata['Data'].to_list()}"
   ]
  },
  {
   "cell_type": "code",
   "execution_count": null,
   "metadata": {},
   "outputs": [],
   "source": [
    "dataHora = dfdata.values[0][0].split(':')[-1].strip()"
   ]
  },
  {
   "cell_type": "code",
   "execution_count": null,
   "metadata": {},
   "outputs": [],
   "source": [
    "dataHora"
   ]
  },
  {
   "cell_type": "code",
   "execution_count": null,
   "metadata": {},
   "outputs": [],
   "source": [
    "dataHora.replace('às ','').replace('h', ':')"
   ]
  },
  {
   "cell_type": "code",
   "execution_count": null,
   "metadata": {
    "tags": []
   },
   "outputs": [],
   "source": [
    "'Data de Atualização: 18/06/2020 às 19h30'"
   ]
  },
  {
   "cell_type": "code",
   "execution_count": null,
   "metadata": {},
   "outputs": [],
   "source": [
    "list(filter(str.isalnum, dataHora.split(':')))"
   ]
  },
  {
   "cell_type": "code",
   "execution_count": null,
   "metadata": {},
   "outputs": [],
   "source": []
  },
  {
   "cell_type": "code",
   "execution_count": null,
   "metadata": {},
   "outputs": [],
   "source": []
  },
  {
   "cell_type": "code",
   "execution_count": 12,
   "metadata": {},
   "outputs": [],
   "source": [
    "def generateAgeRangeTable(sheets):\n",
    "    df = getData(sheets,index=4)\n",
    "    df = df[df['Faixa Etária']!='TOTAL']\n",
    "    d = {\n",
    "        'Faixa Etária':df['Faixa Etária'].to_list(),\n",
    "        'Confirmados':df['Confirmados'].to_list(),\n",
    "        'Óbitos':df['Óbitos'].to_list()\n",
    "    }\n",
    "    return pd.DataFrame(data=d).replace({'': 0})"
   ]
  },
  {
   "cell_type": "code",
   "execution_count": null,
   "metadata": {},
   "outputs": [],
   "source": [
    "generateAgeRangeTable(authentic())"
   ]
  },
  {
   "cell_type": "code",
   "execution_count": 13,
   "metadata": {},
   "outputs": [],
   "source": [
    "def generateCityDataTable(sheets):\n",
    "    df = getData(sheets,index=6)\n",
    "    df = df[df['Município']!='PIAUÍ']\n",
    "    df = df[df['Município']!='']\n",
    "    d = {\n",
    "        'Município':df['Município'].to_list(),\n",
    "        'Confirmados':df['Confirmados'].to_list(),\n",
    "        'Óbitos':df['Óbitos'].to_list(),\n",
    "        'Incidência':df['Incidência'].to_list(),\n",
    "        'Regiao':df['Território'].to_list(),\n",
    "        'CEP':df['CEP'].to_list()\n",
    "    }\n",
    "\n",
    "    return pd.DataFrame(data=d).replace({'': 0})"
   ]
  },
  {
   "cell_type": "code",
   "execution_count": 14,
   "metadata": {},
   "outputs": [
    {
     "output_type": "error",
     "ename": "NameError",
     "evalue": "name 'sheets' is not defined",
     "traceback": [
      "\u001b[1;31m---------------------------------------------------------------------------\u001b[0m",
      "\u001b[1;31mNameError\u001b[0m                                 Traceback (most recent call last)",
      "\u001b[1;32m<ipython-input-14-948c130df5c8>\u001b[0m in \u001b[0;36m<module>\u001b[1;34m\u001b[0m\n\u001b[1;32m----> 1\u001b[1;33m \u001b[0mdf\u001b[0m \u001b[1;33m=\u001b[0m \u001b[0mgenerateCityDataTable\u001b[0m\u001b[1;33m(\u001b[0m\u001b[0msheets\u001b[0m\u001b[1;33m)\u001b[0m\u001b[1;33m\u001b[0m\u001b[1;33m\u001b[0m\u001b[0m\n\u001b[0m",
      "\u001b[1;31mNameError\u001b[0m: name 'sheets' is not defined"
     ]
    }
   ],
   "source": [
    "df = generateCityDataTable(sheets)"
   ]
  },
  {
   "cell_type": "code",
   "execution_count": 31,
   "metadata": {},
   "outputs": [],
   "source": [
    "regioes = {}\n",
    "for mun, reg in zip(df['Município'], df['Regiao']):\n",
    "    try:\n",
    "        regioes[reg].append(mun)\n",
    "    except:\n",
    "        regioes[reg] = [mun]"
   ]
  },
  {
   "cell_type": "code",
   "execution_count": 48,
   "metadata": {},
   "outputs": [],
   "source": [
    "#regioes"
   ]
  },
  {
   "cell_type": "code",
   "execution_count": 33,
   "metadata": {},
   "outputs": [],
   "source": [
    "regioes['CHAPADA DAS MANGABEIRAS'].append('ELISEU MARTINS')"
   ]
  },
  {
   "cell_type": "code",
   "execution_count": 34,
   "metadata": {},
   "outputs": [],
   "source": [
    "regioes['VALE DOS RIOS PIAUI E ITAUEIRAS'].append('PORTO ALEGRE DO PIAUI')"
   ]
  },
  {
   "cell_type": "code",
   "execution_count": 36,
   "metadata": {},
   "outputs": [
    {
     "output_type": "execute_result",
     "data": {
      "text/plain": "['ELISEU MARTINS', 'PORTO ALEGRE DO PIAUI']"
     },
     "metadata": {},
     "execution_count": 36
    }
   ],
   "source": [
    "regioes.pop(0)"
   ]
  },
  {
   "cell_type": "code",
   "execution_count": 47,
   "metadata": {},
   "outputs": [],
   "source": [
    "#regioes"
   ]
  },
  {
   "cell_type": "code",
   "execution_count": 16,
   "metadata": {},
   "outputs": [],
   "source": [
    "from pykml import parser\n",
    "from unidecode import unidecode"
   ]
  },
  {
   "cell_type": "code",
   "execution_count": 17,
   "metadata": {},
   "outputs": [],
   "source": [
    "arq = open('../../scripts/arquivos/doc.kml', 'rb').read() \n",
    "kml = parser.fromstring(arq)\n",
    "\n",
    "dataset = {unidecode(str(placemark.name)):str(placemark.Polygon.outerBoundaryIs.LinearRing.coordinates).strip() for placemark in kml.Document.Folder.Placemark}"
   ]
  },
  {
   "cell_type": "code",
   "execution_count": 54,
   "metadata": {
    "tags": []
   },
   "outputs": [
    {
     "output_type": "stream",
     "name": "stdout",
     "text": "ARRAIAL\nCANAVIEIRA\nCRISTALANDIA DO PIAUI\nFRANCISCO MACEDO\nJARDIM DO MULATO\nJOAO COSTA\nNOVA SANTA RITA\nRIACHO FRIO\n"
    }
   ],
   "source": [
    "cidades = list(map(lambda x:x[0], dataset))\n",
    "for mun in cidades:\n",
    "    if(not unidecode(mun) in df['Município'].to_list()):\n",
    "        print(mun)\n",
    "        "
   ]
  },
  {
   "cell_type": "code",
   "execution_count": 56,
   "metadata": {
    "tags": []
   },
   "outputs": [
    {
     "output_type": "stream",
     "name": "stdout",
     "text": "dict_keys(['VALE DO RIO GUARIBAS', 'ENTRE RIOS', 'CHAPADA DAS MANGABEIRAS', 'SERRA DA CAPIVARA', 'TABULEIROS DO ALTO PARNAIBA', 'VALE DO SAMBITO', 'CARNAUBAIS', 'COCAIS', 'VALE DO CANINDE', 'VALE DOS RIOS PIAUI E ITAUEIRAS', 'PLANICIE LITORANEA'])\n"
    }
   ],
   "source": [
    "print(regioes.keys())"
   ]
  },
  {
   "cell_type": "code",
   "execution_count": 57,
   "metadata": {},
   "outputs": [],
   "source": [
    "regioes['VALE DOS RIOS PIAUI E ITAUEIRAS'].append('ARRAIAL')\n",
    "regioes['VALE DOS RIOS PIAUI E ITAUEIRAS'].append('CANAVIEIRA')\n",
    "regioes['CHAPADA DAS MANGABEIRAS'].append('CRISTALANDIA DO PIAUI')\n",
    "regioes['VALE DO RIO GUARIBAS'].append('FRANCISCO MACEDO')\n",
    "regioes['ENTRE RIOS'].append('JARDIM DO MULATO')\n",
    "regioes['SERRA DA CAPIVARA'].append('JOAO COSTA')\n",
    "regioes['VALE DOS RIOS PIAUI E ITAUEIRAS'].append('NOVA SANTA RITA')\n",
    "regioes['CHAPADA DAS MANGABEIRAS'].append('RIACHO FRIO')"
   ]
  },
  {
   "cell_type": "code",
   "execution_count": 59,
   "metadata": {},
   "outputs": [],
   "source": [
    "import json"
   ]
  },
  {
   "cell_type": "code",
   "execution_count": 60,
   "metadata": {},
   "outputs": [
    {
     "output_type": "execute_result",
     "data": {
      "text/plain": "'{\"VALE DO RIO GUARIBAS\": [\"ACAUA\", \"ALAGOINHA DO PIAUI\", \"ALEGRETE DO PIAUI\", \"AROEIRAS DO ITAIM\", \"BELEM DO PIAUI\", \"BETANIA DO PIAUI\", \"BOCAINA\", \"CALDEIRAO GRANDE DO PIAUI\", \"CAMPO GRANDE DO PIAUI\", \"CARIDADE DO PIAUI\", \"CURRAL NOVO DO PIAUI\", \"DOM EXPEDITO LOPES\", \"FRANCISCO SANTOS\", \"FRONTEIRAS\", \"GEMINIANO\", \"IPIRANGA DO PIAUI\", \"ITAINOPOLIS\", \"JACOBINA DO PIAUI\", \"JAICOS\", \"MARCOLANDIA\", \"MASSAPE DO PIAUI\", \"MONSENHOR HIPOLITO\", \"PADRE MARCOS\", \"PAQUETA\", \"PATOS DO PIAUI\", \"PAULISTANA\", \"PICOS\", \"PIO IX\", \"QUEIMADA NOVA\", \"SANTA CRUZ DO PIAUI\", \"SANTANA DO PIAUI\", \"SANTO ANTONIO DE LISBOA\", \"SAO JOAO DA CANABRAVA\", \"SAO JOSE DO PIAUI\", \"SAO JULIAO\", \"SAO LUIS DO PIAUI\", \"SIMOES\", \"SUSSUAPARA\", \"VERA MENDES\", \"VILA NOVA DO PIAUI\", \"WALL FERRAZ\", \"FRANCISCO MACEDO\"], \"ENTRE RIOS\": [\"AGRICOLANDIA\", \"AGUA BRANCA\", \"ALTO LONGA\", \"ALTOS\", \"AMARANTE\", \"ANGICAL DO PIAUI\", \"BARRO DURO\", \"BENEDITINOS\", \"COIVARAS\", \"CURRALINHOS\", \"DEMERVAL LOBAO\", \"HUGO NAPOLEAO\", \"JOSE DE FREITAS\", \"LAGOA ALEGRE\", \"LAGOA DO PIAUI\", \"LAGOINHA DO PIAUI\", \"MIGUEL ALVES\", \"MIGUEL LEAO\", \"MONSENHOR GIL\", \"NAZARIA\", \"OLHO DAGUA DO PIAUI\", \"PALMEIRAIS\", \"PASSAGEM FRANCA DO PIAUI\", \"PAU DARCO DO PIAUI\", \"REGENERACAO\", \"SANTO ANTONIO DOS MILAGRES\", \"SAO GONCALO DO PIAUI\", \"SAO PEDRO DO PIAUI\", \"TERESINA\", \"UNIAO\", \"JARDIM DO MULATO\"], \"CHAPADA DAS MANGABEIRAS\": [\"ALVORADA DO GURGUEIA\", \"AVELINO LOPES\", \"BARREIRAS DO PIAUI\", \"BOM JESUS\", \"COLONIA DO GURGUEIA\", \"CORRENTE\", \"CRISTINO CASTRO\", \"CURIMATA\", \"CURRAIS\", \"GILBUES\", \"JULIO BORGES\", \"MONTE ALEGRE DO PIAUI\", \"MORRO CABECA NO TEMPO\", \"PALMEIRA DO PIAUI\", \"PARNAGUA\", \"REDENCAO DO GURGUEIA\", \"SANTA FILOMENA\", \"SANTA LUZ\", \"SAO GONCALO DO GURGUEIA\", \"SEBASTIAO BARROS\", \"ELISEU MARTINS\", \"CRISTALANDIA DO PIAUI\", \"RIACHO FRIO\"], \"SERRA DA CAPIVARA\": [\"ANISIO DE ABREU\", \"BONFIM DO PIAUI\", \"CAMPO ALEGRE DO FIDALGO\", \"CAPITAO GERVASIO OLIVEIRA\", \"CARACOL\", \"CORONEL JOSE DIAS\", \"DIRCEU ARCOVERDE\", \"DOM INOCENCIO\", \"FARTURA DO PIAUI\", \"GUARIBAS\", \"JUREMA\", \"LAGOA DO BARRO DO PIAUI\", \"SAO BRAZ DO PIAUI\", \"SAO JOAO DO PIAUI\", \"SAO LOURENCO DO PIAUI\", \"SAO RAIMUNDO NONATO\", \"VARZEA BRANCA\", \"JOAO COSTA\"], \"TABULEIROS DO ALTO PARNAIBA\": [\"ANTONIO ALMEIDA\", \"BAIXA GRANDE DO RIBEIRO\", \"RIBEIRO GONCALVES\", \"SEBASTIAO LEAL\", \"URUCUI\"], \"VALE DO SAMBITO\": [\"AROAZES\", \"BARRA DALCANTARA\", \"ELESBAO VELOSO\", \"FRANCINOPOLIS\", \"INHUMA\", \"LAGOA DO SITIO\", \"NOVO ORIENTE DO PIAUI\", \"PIMENTEIRAS\", \"PRATA DO PIAUI\", \"SANTA CRUZ DOS MILAGRES\", \"SAO FELIX DO PIAUI\", \"SAO MIGUEL DA BAIXA GRANDE\", \"VALENCA DO PIAUI\", \"VARZEA GRANDE\"], \"CARNAUBAIS\": [\"ASSUNCAO DO PIAUI\", \"BOA HORA\", \"BOQUEIRAO DO PIAUI\", \"BURITI DOS MONTES\", \"CABECEIRAS DO PIAUI\", \"CAMPO MAIOR\", \"CAPITAO DE CAMPOS\", \"CASTELO DO PIAUI\", \"COCAL DE TELHA\", \"JATOBA DO PIAUI\", \"JUAZEIRO DO PIAUI\", \"NOSSA SENHORA DE NAZARE\", \"NOVO SANTO ANTONIO\", \"SAO JOAO DA SERRA\", \"SAO MIGUEL DO TAPUIO\", \"SIGEFREDO PACHECO\"], \"COCAIS\": [\"BARRAS\", \"BATALHA\", \"BRASILEIRA\", \"CAMPO LARGO DO PIAUI\", \"DOMINGOS MOURAO\", \"ESPERANTINA\", \"JOAQUIM PIRES\", \"JOCA MARQUES\", \"LAGOA DE SAO FRANCISCO\", \"LUZILANDIA\", \"MADEIRO\", \"MATIAS OLIMPIO\", \"MILTON BRANDAO\", \"MORRO DO CHAPEU DO PIAUI\", \"NOSSA SENHORA DOS REMEDIOS\", \"PEDRO II\", \"PIRACURUCA\", \"PIRIPIRI\", \"PORTO\", \"SAO JOAO DA FRONTEIRA\", \"SAO JOAO DO ARRAIAL\", \"SAO JOSE DO DIVINO\"], \"VALE DO CANINDE\": [\"BELA VISTA DO PIAUI\", \"CAJAZEIRAS DO PIAUI\", \"CAMPINAS DO PIAUI\", \"COLONIA DO PIAUI\", \"CONCEICAO DO CANINDE\", \"FLORESTA DO PIAUI\", \"ISAIAS COELHO\", \"OEIRAS\", \"SANTA ROSA DO PIAUI\", \"SANTO INACIO DO PIAUI\", \"SAO FRANCISCO DE ASSIS DO PIAUI\", \"SAO JOAO DA VARJOTA\", \"SIMPLICIO MENDES\", \"TANQUE DO PIAUI\"], \"VALE DOS RIOS PIAUI E ITAUEIRAS\": [\"BERTOLINIA\", \"BREJO DO PIAUI\", \"CANTO DO BURITI\", \"FLORES DO PIAUI\", \"FLORIANO\", \"FRANCISCO AYRES\", \"GUADALUPE\", \"ITAUEIRA\", \"JERUMENHA\", \"LANDRI SALES\", \"MANOEL EMIDIO\", \"MARCOS PARENTE\", \"NAZARE DO PIAUI\", \"PAES LANDIM\", \"PAJEU DO PIAUI\", \"PAVUSSU\", \"PEDRO LAURENTINO\", \"RIBEIRA DO PIAUI\", \"RIO GRANDE DO PIAUI\", \"SAO FRANCISCO DO PIAUI\", \"SAO JOSE DO PEIXE\", \"SAO MIGUEL DO FIDALGO\", \"SOCORRO DO PIAUI\", \"TAMBORIL DO PIAUI\", \"PORTO ALEGRE DO PIAUI\", \"ARRAIAL\", \"CANAVIEIRA\", \"NOVA SANTA RITA\"], \"PLANICIE LITORANEA\": [\"BOM PRINCIPIO DO PIAUI\", \"BURITI DOS LOPES\", \"CAJUEIRO DA PRAIA\", \"CARAUBAS DO PIAUI\", \"CAXINGO\", \"COCAL\", \"COCAL DOS ALVES\", \"ILHA GRANDE\", \"LUIS CORREIA\", \"MURICI DOS PORTELAS\", \"PARNAIBA\"]}'"
     },
     "metadata": {},
     "execution_count": 60
    }
   ],
   "source": []
  },
  {
   "cell_type": "code",
   "execution_count": 62,
   "metadata": {},
   "outputs": [],
   "source": [
    "arq = open('regioes.json', 'w')\n",
    "arq.write(json.dumps(regioes))\n",
    "arq.close()"
   ]
  },
  {
   "cell_type": "code",
   "execution_count": 82,
   "metadata": {
    "tags": []
   },
   "outputs": [
    {
     "output_type": "stream",
     "name": "stdout",
     "text": "VALE DO RIO GUARIBAS > ACAUA\nVALE DO RIO GUARIBAS > ALAGOINHA DO PIAUI\nVALE DO RIO GUARIBAS > ALEGRETE DO PIAUI\nVALE DO RIO GUARIBAS > AROEIRAS DO ITAIM\nVALE DO RIO GUARIBAS > BELEM DO PIAUI\nVALE DO RIO GUARIBAS > BETANIA DO PIAUI\nVALE DO RIO GUARIBAS > BOCAINA\nVALE DO RIO GUARIBAS > CALDEIRAO GRANDE DO PIAUI\nVALE DO RIO GUARIBAS > CAMPO GRANDE DO PIAUI\nVALE DO RIO GUARIBAS > CARIDADE DO PIAUI\nVALE DO RIO GUARIBAS > CURRAL NOVO DO PIAUI\nVALE DO RIO GUARIBAS > DOM EXPEDITO LOPES\nVALE DO RIO GUARIBAS > FRANCISCO SANTOS\nVALE DO RIO GUARIBAS > FRONTEIRAS\nVALE DO RIO GUARIBAS > GEMINIANO\nVALE DO RIO GUARIBAS > IPIRANGA DO PIAUI\nVALE DO RIO GUARIBAS > ITAINOPOLIS\nVALE DO RIO GUARIBAS > JACOBINA DO PIAUI\nVALE DO RIO GUARIBAS > JAICOS\nVALE DO RIO GUARIBAS > MARCOLANDIA\nVALE DO RIO GUARIBAS > MASSAPE DO PIAUI\nVALE DO RIO GUARIBAS > MONSENHOR HIPOLITO\nVALE DO RIO GUARIBAS > PADRE MARCOS\nVALE DO RIO GUARIBAS > PAQUETA\nVALE DO RIO GUARIBAS > PATOS DO PIAUI\nVALE DO RIO GUARIBAS > PAULISTANA\nVALE DO RIO GUARIBAS > PICOS\nVALE DO RIO GUARIBAS > PIO IX\nVALE DO RIO GUARIBAS > QUEIMADA NOVA\nVALE DO RIO GUARIBAS > SANTA CRUZ DO PIAUI\nVALE DO RIO GUARIBAS > SANTANA DO PIAUI\nVALE DO RIO GUARIBAS > SANTO ANTONIO DE LISBOA\nVALE DO RIO GUARIBAS > SAO JOAO DA CANABRAVA\nVALE DO RIO GUARIBAS > SAO JOSE DO PIAUI\nVALE DO RIO GUARIBAS > SAO JULIAO\nVALE DO RIO GUARIBAS > SAO LUIS DO PIAUI\nVALE DO RIO GUARIBAS > SIMOES\nVALE DO RIO GUARIBAS > SUSSUAPARA\nVALE DO RIO GUARIBAS > VERA MENDES\nVALE DO RIO GUARIBAS > VILA NOVA DO PIAUI\nVALE DO RIO GUARIBAS > WALL FERRAZ\nVALE DO RIO GUARIBAS > FRANCISCO MACEDO\nENTRE RIOS > AGRICOLANDIA\nENTRE RIOS > AGUA BRANCA\nENTRE RIOS > ALTO LONGA\nENTRE RIOS > ALTOS\nENTRE RIOS > AMARANTE\nENTRE RIOS > ANGICAL DO PIAUI\nENTRE RIOS > BARRO DURO\nENTRE RIOS > BENEDITINOS\nENTRE RIOS > COIVARAS\nENTRE RIOS > CURRALINHOS\nENTRE RIOS > DEMERVAL LOBAO\nENTRE RIOS > HUGO NAPOLEAO\nENTRE RIOS > JOSE DE FREITAS\nENTRE RIOS > LAGOA ALEGRE\nENTRE RIOS > LAGOA DO PIAUI\nENTRE RIOS > LAGOINHA DO PIAUI\nENTRE RIOS > MIGUEL ALVES\nENTRE RIOS > MIGUEL LEAO\nENTRE RIOS > MONSENHOR GIL\nENTRE RIOS > NAZARIA\nENTRE RIOS > OLHO DAGUA DO PIAUI\nENTRE RIOS > PALMEIRAIS\nENTRE RIOS > PASSAGEM FRANCA DO PIAUI\nENTRE RIOS > PAU DARCO DO PIAUI\nENTRE RIOS > REGENERACAO\nENTRE RIOS > SANTO ANTONIO DOS MILAGRES\nENTRE RIOS > SAO GONCALO DO PIAUI\nENTRE RIOS > SAO PEDRO DO PIAUI\nENTRE RIOS > TERESINA\nENTRE RIOS > UNIAO\nENTRE RIOS > JARDIM DO MULATO\nCHAPADA DAS MANGABEIRAS > ALVORADA DO GURGUEIA\nCHAPADA DAS MANGABEIRAS > AVELINO LOPES\nCHAPADA DAS MANGABEIRAS > BARREIRAS DO PIAUI\nCHAPADA DAS MANGABEIRAS > BOM JESUS\nCHAPADA DAS MANGABEIRAS > COLONIA DO GURGUEIA\nCHAPADA DAS MANGABEIRAS > CORRENTE\nCHAPADA DAS MANGABEIRAS > CRISTINO CASTRO\nCHAPADA DAS MANGABEIRAS > CURIMATA\nCHAPADA DAS MANGABEIRAS > CURRAIS\nCHAPADA DAS MANGABEIRAS > GILBUES\nCHAPADA DAS MANGABEIRAS > JULIO BORGES\nCHAPADA DAS MANGABEIRAS > MONTE ALEGRE DO PIAUI\nCHAPADA DAS MANGABEIRAS > MORRO CABECA NO TEMPO\nCHAPADA DAS MANGABEIRAS > PALMEIRA DO PIAUI\nCHAPADA DAS MANGABEIRAS > PARNAGUA\nCHAPADA DAS MANGABEIRAS > REDENCAO DO GURGUEIA\nCHAPADA DAS MANGABEIRAS > SANTA FILOMENA\nCHAPADA DAS MANGABEIRAS > SANTA LUZ\nCHAPADA DAS MANGABEIRAS > SAO GONCALO DO GURGUEIA\nCHAPADA DAS MANGABEIRAS > SEBASTIAO BARROS\nCHAPADA DAS MANGABEIRAS > ELISEU MARTINS\nCHAPADA DAS MANGABEIRAS > CRISTALANDIA DO PIAUI\nCHAPADA DAS MANGABEIRAS > RIACHO FRIO\nSERRA DA CAPIVARA > ANISIO DE ABREU\nSERRA DA CAPIVARA > BONFIM DO PIAUI\nSERRA DA CAPIVARA > CAMPO ALEGRE DO FIDALGO\nSERRA DA CAPIVARA > CAPITAO GERVASIO OLIVEIRA\nSERRA DA CAPIVARA > CARACOL\nSERRA DA CAPIVARA > CORONEL JOSE DIAS\nSERRA DA CAPIVARA > DIRCEU ARCOVERDE\nSERRA DA CAPIVARA > DOM INOCENCIO\nSERRA DA CAPIVARA > FARTURA DO PIAUI\nSERRA DA CAPIVARA > GUARIBAS\nSERRA DA CAPIVARA > JUREMA\nSERRA DA CAPIVARA > LAGOA DO BARRO DO PIAUI\nSERRA DA CAPIVARA > SAO BRAZ DO PIAUI\nSERRA DA CAPIVARA > SAO JOAO DO PIAUI\nSERRA DA CAPIVARA > SAO LOURENCO DO PIAUI\nSERRA DA CAPIVARA > SAO RAIMUNDO NONATO\nSERRA DA CAPIVARA > VARZEA BRANCA\nSERRA DA CAPIVARA > JOAO COSTA\nTABULEIROS DO ALTO PARNAIBA > ANTONIO ALMEIDA\nTABULEIROS DO ALTO PARNAIBA > BAIXA GRANDE DO RIBEIRO\nTABULEIROS DO ALTO PARNAIBA > RIBEIRO GONCALVES\nTABULEIROS DO ALTO PARNAIBA > SEBASTIAO LEAL\nTABULEIROS DO ALTO PARNAIBA > URUCUI\nVALE DO SAMBITO > AROAZES\nVALE DO SAMBITO > BARRA DALCANTARA\nVALE DO SAMBITO > ELESBAO VELOSO\nVALE DO SAMBITO > FRANCINOPOLIS\nVALE DO SAMBITO > INHUMA\nVALE DO SAMBITO > LAGOA DO SITIO\nVALE DO SAMBITO > NOVO ORIENTE DO PIAUI\nVALE DO SAMBITO > PIMENTEIRAS\nVALE DO SAMBITO > PRATA DO PIAUI\nVALE DO SAMBITO > SANTA CRUZ DOS MILAGRES\nVALE DO SAMBITO > SAO FELIX DO PIAUI\nVALE DO SAMBITO > SAO MIGUEL DA BAIXA GRANDE\nVALE DO SAMBITO > VALENCA DO PIAUI\nVALE DO SAMBITO > VARZEA GRANDE\nCARNAUBAIS > ASSUNCAO DO PIAUI\nCARNAUBAIS > BOA HORA\nCARNAUBAIS > BOQUEIRAO DO PIAUI\nCARNAUBAIS > BURITI DOS MONTES\nCARNAUBAIS > CABECEIRAS DO PIAUI\nCARNAUBAIS > CAMPO MAIOR\nCARNAUBAIS > CAPITAO DE CAMPOS\nCARNAUBAIS > CASTELO DO PIAUI\nCARNAUBAIS > COCAL DE TELHA\nCARNAUBAIS > JATOBA DO PIAUI\nCARNAUBAIS > JUAZEIRO DO PIAUI\nCARNAUBAIS > NOSSA SENHORA DE NAZARE\nCARNAUBAIS > NOVO SANTO ANTONIO\nCARNAUBAIS > SAO JOAO DA SERRA\nCARNAUBAIS > SAO MIGUEL DO TAPUIO\nCARNAUBAIS > SIGEFREDO PACHECO\nCOCAIS > BARRAS\nCOCAIS > BATALHA\nCOCAIS > BRASILEIRA\nCOCAIS > CAMPO LARGO DO PIAUI\nCOCAIS > DOMINGOS MOURAO\nCOCAIS > ESPERANTINA\nCOCAIS > JOAQUIM PIRES\nCOCAIS > JOCA MARQUES\nCOCAIS > LAGOA DE SAO FRANCISCO\nCOCAIS > LUZILANDIA\nCOCAIS > MADEIRO\nCOCAIS > MATIAS OLIMPIO\nCOCAIS > MILTON BRANDAO\nCOCAIS > MORRO DO CHAPEU DO PIAUI\nCOCAIS > NOSSA SENHORA DOS REMEDIOS\nCOCAIS > PEDRO II\nCOCAIS > PIRACURUCA\nCOCAIS > PIRIPIRI\nCOCAIS > PORTO\nCOCAIS > SAO JOAO DA FRONTEIRA\nCOCAIS > SAO JOAO DO ARRAIAL\nCOCAIS > SAO JOSE DO DIVINO\nVALE DO CANINDE > BELA VISTA DO PIAUI\nVALE DO CANINDE > CAJAZEIRAS DO PIAUI\nVALE DO CANINDE > CAMPINAS DO PIAUI\nVALE DO CANINDE > COLONIA DO PIAUI\nVALE DO CANINDE > CONCEICAO DO CANINDE\nVALE DO CANINDE > FLORESTA DO PIAUI\nVALE DO CANINDE > ISAIAS COELHO\nVALE DO CANINDE > OEIRAS\nVALE DO CANINDE > SANTA ROSA DO PIAUI\nVALE DO CANINDE > SANTO INACIO DO PIAUI\nVALE DO CANINDE > SAO FRANCISCO DE ASSIS DO PIAUI\nVALE DO CANINDE > SAO JOAO DA VARJOTA\nVALE DO CANINDE > SIMPLICIO MENDES\nVALE DO CANINDE > TANQUE DO PIAUI\nVALE DOS RIOS PIAUI E ITAUEIRAS > BERTOLINIA\nVALE DOS RIOS PIAUI E ITAUEIRAS > BREJO DO PIAUI\nVALE DOS RIOS PIAUI E ITAUEIRAS > CANTO DO BURITI\nVALE DOS RIOS PIAUI E ITAUEIRAS > FLORES DO PIAUI\nVALE DOS RIOS PIAUI E ITAUEIRAS > FLORIANO\nVALE DOS RIOS PIAUI E ITAUEIRAS > FRANCISCO AYRES\nVALE DOS RIOS PIAUI E ITAUEIRAS > GUADALUPE\nVALE DOS RIOS PIAUI E ITAUEIRAS > ITAUEIRA\nVALE DOS RIOS PIAUI E ITAUEIRAS > JERUMENHA\nVALE DOS RIOS PIAUI E ITAUEIRAS > LANDRI SALES\nVALE DOS RIOS PIAUI E ITAUEIRAS > MANOEL EMIDIO\nVALE DOS RIOS PIAUI E ITAUEIRAS > MARCOS PARENTE\nVALE DOS RIOS PIAUI E ITAUEIRAS > NAZARE DO PIAUI\nVALE DOS RIOS PIAUI E ITAUEIRAS > PAES LANDIM\nVALE DOS RIOS PIAUI E ITAUEIRAS > PAJEU DO PIAUI\nVALE DOS RIOS PIAUI E ITAUEIRAS > PAVUSSU\nVALE DOS RIOS PIAUI E ITAUEIRAS > PEDRO LAURENTINO\nVALE DOS RIOS PIAUI E ITAUEIRAS > RIBEIRA DO PIAUI\nVALE DOS RIOS PIAUI E ITAUEIRAS > RIO GRANDE DO PIAUI\nVALE DOS RIOS PIAUI E ITAUEIRAS > SAO FRANCISCO DO PIAUI\nVALE DOS RIOS PIAUI E ITAUEIRAS > SAO JOSE DO PEIXE\nVALE DOS RIOS PIAUI E ITAUEIRAS > SAO MIGUEL DO FIDALGO\nVALE DOS RIOS PIAUI E ITAUEIRAS > SOCORRO DO PIAUI\nVALE DOS RIOS PIAUI E ITAUEIRAS > TAMBORIL DO PIAUI\nVALE DOS RIOS PIAUI E ITAUEIRAS > PORTO ALEGRE DO PIAUI\nVALE DOS RIOS PIAUI E ITAUEIRAS > ARRAIAL\nVALE DOS RIOS PIAUI E ITAUEIRAS > CANAVIEIRA\nVALE DOS RIOS PIAUI E ITAUEIRAS > NOVA SANTA RITA\nPLANICIE LITORANEA > BOM PRINCIPIO DO PIAUI\nPLANICIE LITORANEA > BURITI DOS LOPES\nPLANICIE LITORANEA > CAJUEIRO DA PRAIA\nPLANICIE LITORANEA > CARAUBAS DO PIAUI\nPLANICIE LITORANEA > CAXINGO\nPLANICIE LITORANEA > COCAL\nPLANICIE LITORANEA > COCAL DOS ALVES\nPLANICIE LITORANEA > ILHA GRANDE\nPLANICIE LITORANEA > LUIS CORREIA\nPLANICIE LITORANEA > MURICI DOS PORTELAS\nPLANICIE LITORANEA > PARNAIBA\n"
    }
   ],
   "source": [
    "coordenadas = {}\n",
    "for regiao,lista in regioes.items():\n",
    "    for municipio in lista:\n",
    "        print(regiao,'>', municipio)\n",
    "        try:\n",
    "            coordenadas[regiao]+=(' ' + dataset[municipio])\n",
    "        except:\n",
    "            coordenadas[regiao]=dataset[municipio]\n"
   ]
  },
  {
   "cell_type": "code",
   "execution_count": 85,
   "metadata": {},
   "outputs": [],
   "source": [
    "arq = open('regioes_coord.json', 'w')\n",
    "arq.write(json.dumps(coordenadas))\n",
    "arq.close()"
   ]
  },
  {
   "cell_type": "code",
   "execution_count": 83,
   "metadata": {},
   "outputs": [],
   "source": [
    "for key, value in coordenadas.items():\n",
    "    coordenadas[key] = value.split(' ')\n",
    "    for idx, valor in enumerate(coordenadas[key]):\n",
    "        coordenadas[key][idx] = list(map(float,valor.split(',')))"
   ]
  },
  {
   "cell_type": "code",
   "execution_count": 84,
   "metadata": {},
   "outputs": [
    {
     "output_type": "execute_result",
     "data": {
      "text/plain": "  [-41.87382836310109, -3.473650318398762, 0.0],\n  [-41.87460708925, -3.474399610889796, 0.0],\n  [-41.8761945933897, -3.476982159309052, 0.0],\n  [-41.87665309110008, -3.477439062810526, 0.0],\n  [-41.8776156489522, -3.477545850181192, 0.0],\n  [-41.87861533152688, -3.477357663244978, 0.0],\n  [-41.87981335743768, -3.476240531489536, 0.0],\n  [-41.88062938321599, -3.475847456162908, 0.0],\n  [-41.88147506141218, -3.475736043710105, 0.0],\n  [-41.88240392342658, -3.476012234963293, 0.0],\n  [-41.88311120900357, -3.476579312775461, 0.0],\n  [-41.88357892343429, -3.476602898837744, 0.0],\n  [-41.88499456226999, -3.476195256885151, 0.0],\n  [-41.885926929596, -3.47620081217314, 0.0],\n  [-41.88595429464766, -3.476311729581518, 0.0],\n  [-41.88658382894527, -3.478851338205795, 0.0],\n  [-41.88588937661125, -3.480072150071174, 0.0],\n  [-41.88549526143049, -3.481730189254984, 0.0],\n  [-41.88555356850949, -3.484312130192175, 0.0],\n  [-41.88540872419029, -3.486040539305808, 0.0],\n  [-41.8862160907469, -3.48714762250814, 0.0],\n  [-41.88626171408657, -3.488762562741641, 0.0],\n  [-41.88492018747738, -3.490182155303243, 0.0],\n  [-41.88472719416558, -3.491042177465489, 0.0],\n  [-41.88488511647459, -3.494884132091587, 0.0],\n  [-41.88341978987398, -3.4971672313203, 0.0],\n  [-41.88263475221648, -3.500495653467717, 0.0],\n  [-41.87956811763939, -3.504435495087845, 0.0],\n  [-41.87929749077959, -3.508270169663661, 0.0],\n  [-41.87859705483408, -3.510830020420688, 0.0],\n  [-41.87755866993348, -3.516442580472323, 0.0],\n  [-41.87657912056588, -3.519002370736919, 0.0],\n  [-41.87439632819519, -3.522917820664302, 0.0],\n  [-41.87200758588679, -3.526472331118875, 0.0],\n  [-41.8682720254704, -3.528402334550207, 0.0],\n  [-41.86672095629598, -3.528692054778695, 0.0],\n  [-41.86771540123097, -3.530959448495816, 0.0],\n  [-41.86990432887868, -3.531308582814452, 0.0],\n  [-41.8720240927284, -3.531441888132436, 0.0],\n  [-41.8732957520632, -3.531865070646867, 0.0],\n  [-41.87414678996077, -3.532856052389712, 0.0],\n  [-41.87633151493021, -3.530790308790894, 0.0],\n  [-41.87787917360938, -3.530075942589261, 0.0],\n  [-41.88014120036188, -3.530068630252665, 0.0],\n  [-41.88141142971679, -3.529779710715311, 0.0],\n  [-41.88303216174517, -3.528709768548946, 0.0],\n  [-41.88443980926218, -3.527141722147522, 0.0],\n  [-41.88556162458809, -3.524582811140133, 0.0],\n  [-41.88838303808509, -3.52358122153422, 0.0],\n  [-41.89211866920399, -3.521226325700646, 0.0],\n  [-41.89352946180946, -3.520511864191571, 0.0],\n  [-41.89847536635016, -3.521065000365016, 0.0],\n  [-41.90335135433099, -3.523107856968115, 0.0],\n  [-41.90788766660037, -3.527923358191012, 0.0],\n  [-41.91325403530757, -3.528332436145083, 0.0],\n  [-41.90907658798397, -3.533485339655929, 0.0],\n  [-41.90811775777968, -3.534667368038462, 0.0],\n  [-41.90850488543858, -3.53781019608747, 0.0],\n  [-41.91022628586708, -3.542840300621888, 0.0],\n  [-41.9144174274719, -3.551834539970031, 0.0],\n  [-41.92551981957499, -3.557261452728149, 0.0],\n  [-41.92832839300789, -3.560040178380404, 0.0],\n  [-41.93138434716769, -3.566572511505883, 0.0],\n  [-41.93268354189058, -3.568385256095898, 0.0],\n  [-41.933276985509, -3.570472920228585, 0.0],\n  [-41.9332695195364, -3.572870463671443, 0.0],\n  [-41.93144050604877, -3.574495125119617, 0.0],\n  [-41.92916112354789, -3.577429531659933, 0.0],\n  [-41.92777008231457, -3.581045107345457, 0.0],\n  [-41.92787768249877, -3.583851950808312, 0.0],\n  [-41.93063735521008, -3.588261776520965, 0.0],\n  [-41.9327676139028, -3.589711149770343, 0.0],\n  [-41.93579894669639, -3.593253146591906, 0.0],\n  [-41.93786033324858, -3.596694146237947, 0.0],\n  [-41.93940665227319, -3.600820383793482, 0.0],\n  [-41.94027023594116, -3.605310270461379, 0.0],\n  [-41.94049177317398, -3.616598309472514, 0.0],\n  [-41.9366331758545, -3.621056645994456, 0.0],\n  [-41.93647071925289, -3.623098298482028, 0.0],\n  [-41.93743930115691, -3.62631377529556, 0.0],\n  [-41.93998680327099, -3.629929516260595, 0.0],\n  [-41.94032938019677, -3.632165378360379, 0.0],\n  [-41.93916216205599, -3.635280364567315, 0.0],\n  [-41.93694215104107, -3.636157229230854, 0.0],\n  [-41.92952403211618, -3.637059600280017, 0.0],\n  [-41.92679487678498, -3.637907589301159, 0.0],\n  [-41.92563661251327, -3.639218561712048, 0.0],\n  [-41.9255552418486, -3.639311272129591, 0.0],\n  [-41.92591350288256, -3.645104699119093, 0.0],\n  [-41.92527137121858, -3.648051200388047, 0.0],\n  [-41.92734752364368, -3.655005063917509, 0.0],\n  [-41.92571064380288, -3.664434030275823, 0.0],\n  [-41.92262930392369, -3.670438466477808, 0.0],\n  [-41.92184261223218, -3.67373064955532, 0.0],\n  [-41.92240876584819, -3.675914551332999, 0.0],\n  [-41.9237557566841, -3.677809804008239, 0.0],\n  [-41.90413063766837, -3.693032942686392, 0.0],\n  [-41.89763619993119, -3.698070822072372, 0.0],\n  [-41.8666110208626, -3.720918275156944, 0.0],\n  [-41.83919998912919, -3.684204124550037, 0.0],\n  [-41.83123510013348, -3.67353600607135, 0.0],\n  [-41.80377546391016, -3.636756754939252, 0.0],\n  [-41.79430443452429, -3.624075829729456, 0.0],\n  [-41.77510436927938, -3.57786714590987, 0.0],\n  [-41.77293762833481, -3.572652821878894, 0.0],\n  [-41.74656827911679, -3.586452524683437, 0.0],\n  [-41.71154092459398, -3.554960556063691, 0.0],\n  [-41.7014295675779, -3.545870945812912, 0.0],\n  [-41.6744025973153, -3.482190984240792, 0.0],\n  [-41.67439610560649, -3.481932801816552, 0.0],\n  [-41.68971460386499, -3.452822758871605, 0.0],\n  [-41.69355607308128, -3.454872858913054, 0.0],\n  [-41.69721055325559, -3.455668033814818, 0.0],\n  [-41.69844318199469, -3.456937181253521, 0.0],\n  [-41.7013903775706, -3.458204275857382, 0.0],\n  [-41.70434013395089, -3.460238730551812, 0.0],\n  [-41.7072959007146, -3.46360107450969, 0.0],\n  [-41.70871744046989, -3.466318940218141, 0.0],\n  [-41.7117163750942, -3.467621289157812, 0.0],\n  [-41.71438342639177, -3.467670294511527, 0.0],\n  [-41.71626813898029, -3.466911045239953, 0.0],\n  [-41.71966270637898, -3.466731485248578, 0.0],\n  [-41.72183777291171, -3.46737358805846, 0.0],\n  [-41.72506353867809, -3.469706140811248, 0.0],\n  [-41.72840067726587, -3.46944539675828, 0.0],\n  [-41.73057297217839, -3.470780607092157, 0.0],\n  [-41.73235086176489, -3.471168372817026, 0.0],\n  [-41.7347937683162, -3.46895210499756, 0.0],\n  [-41.74317250865129, -3.463140356912478, 0.0],\n  [-41.7447861394399, -3.46308038228903, 0.0],\n  [-41.74617926501009, -3.463296107672866, 0.0],\n  [-41.74656729683749, -3.463355848306486, 0.0],\n  [-41.88277476239858, -3.333832582389105, 0.0],\n  [-41.9240151890148, -3.333410251919768, 0.0],\n  [-41.92424558354438, -3.333408604078125, 0.0],\n  [-41.92608521730178, -3.333389184010192, 0.0],\n  [-41.9274563636053, -3.32642272865153, 0.0],\n  [-41.92843725777499, -3.326859176980948, 0.0],\n  [-41.9373874542284, -3.328401759664896, 0.0],\n  [-41.94720261025338, -3.331245628074899, 0.0],\n  [-41.94947510940349, -3.331516248395992, 0.0],\n  [-41.95137000584609, -3.330955946149292, 0.0],\n  [-41.95613012155467, -3.332223516808368, 0.0],\n  [-41.96148202819058, -3.332278945322487, 0.0],\n  [-41.96425410399626, -3.334655234744621, 0.0],\n  [-41.9658520328525, -3.335481392036659, 0.0],\n  [-41.96932977360157, -3.334709120621862, 0.0],\n  [-41.97232255501828, -3.334805225850877, 0.0],\n  [-41.97497166849069, -3.334309654820125, 0.0],\n  [-41.97952654467599, -3.334854530807914, 0.0],\n  [-41.9832607536711, -3.335980658919655, 0.0],\n  [-41.98493540564768, -3.335839704091406, 0.0],\n  [-41.988916946671, -3.336831655192205, 0.0],\n  [-41.99361409864338, -3.337370278590108, 0.0],\n  [-41.99777862365608, -3.336803429968307, 0.0],\n  [-42.00434107100787, -3.338090043159974, 0.0],\n  [-42.0023337121748, -3.342009281745964, 0.0],\n  [-42.00296516030648, -3.34560885148512, 0.0],\n  [-41.98770775667276, -3.348985356198446, 0.0],\n  [-41.98314906749079, -3.351145309673465, 0.0],\n  [-41.98039942351289, -3.357060282563871, 0.0],\n  [-41.97896335104259, -3.361684077321685, 0.0],\n  [-41.9776265723088, -3.362584627172656, 0.0],\n  [-41.97559040951268, -3.362192769618531, 0.0],\n  [-41.972681513949, -3.363088426316998, 0.0],\n  [-41.96591114558567, -3.360211261405519, 0.0],\n  [-41.96049585924927, -3.360029793574177, 0.0],\n  [-41.95913493424678, -3.360193815089447, 0.0],\n  [-41.95599935846909, -3.362310319118425, 0.0],\n  [-41.94686944103119, -3.373429984185132, 0.0],\n  [-41.9455830422395, -3.376051812059477, 0.0],\n  [-41.9462891319499, -3.377806942007515, 0.0],\n  [-41.9462237269076, -3.378718339624152, 0.0],\n  [-41.94620294246579, -3.37901271363378, 0.0],\n  [-41.94656992873079, -3.380608884855296, 0.0],\n  [-41.9487575464757, -3.382057395109759, 0.0],\n  [-41.95046944500017, -3.38319044556274, 0.0],\n  [-41.95235149182738, -3.393282281807635, 0.0],\n  [-41.95223430716117, -3.396089161782663, 0.0],\n  [-41.95137182417206, -3.397903025228226, 0.0],\n  [-41.94678569551039, -3.399541156619221, 0.0],\n  [-41.94492158540479, -3.398921079347312, 0.0],\n  [-41.9415623189114, -3.396683037847428, 0.0],\n  [-41.9396392366345, -3.396315296356769, 0.0],\n  [-41.93846068485009, -3.396569810319394, 0.0],\n  [-41.93568324525018, -3.40150884690559, 0.0],\n  [-41.92911106480158, -3.407828134919617, 0.0],\n  [-41.92491857963389, -3.41106141128648, 0.0],\n  [-41.91938350383069, -3.411222305089061, 0.0],\n  [-41.91727243245028, -3.41155633292763, 0.0],\n  [-41.91588213179648, -3.412324771532118, 0.0],\n  [-41.91333489020149, -3.419298111225282, 0.0],\n  [-41.91344858940106, -3.421894240387329, 0.0],\n  [-41.91407260464189, -3.423779227191894, 0.0],\n  [-41.91322310555799, -3.427943441384325, 0.0],\n  [-41.90624503125388, -3.437216426537826, 0.0],\n  [-41.9055223456318, -3.4417191070845, 0.0],\n  [-41.90596237324698, -3.444536867067203, 0.0],\n  [-41.90546520700651, -3.447585336431505, 0.0],\n  [-41.90792241338949, -3.453955389296934, 0.0],\n  [-41.91813319079227, -3.460675598006284, 0.0],\n  [-41.91874422181669, -3.462502154143445, 0.0],\n  [-41.91731642276969, -3.464558856411519, 0.0],\n  [-41.9202144534342, -3.467080245963126, 0.0],\n  [-41.92554254048817, -3.467715871038259, 0.0],\n  [-41.93049606458168, -3.46563512508886, 0.0],\n  [-41.93635116266938, -3.461047581078069, 0.0],\n  [-41.94219132500669, -3.459720845396652, 0.0],\n  [-41.94902002500379, -3.454501812078017, 0.0],\n  [-41.951609748773, -3.453768730438365, 0.0],\n  [-41.95443893708561, -3.450636383913346, 0.0],\n  [-41.955689562891, -3.45010336302314, 0.0],\n  [-41.96321342548517, -3.44962796032763, 0.0],\n  [-41.96644087249717, -3.452447330775215, 0.0],\n  [-41.9701681369538, -3.453903230172695, 0.0],\n  [-41.9733048237493, -3.453258236352161, 0.0],\n  [-41.97473301376379, -3.451293896990131, 0.0],\n  [-41.9760050778188, -3.450561100586194, 0.0],\n  [-41.97644661986526, -3.450307317273489, 0.0],\n  [-41.9746412531205, -3.506995785525044, 0.0],\n  [-41.97476864034137, -3.507028363570526, 0.0],\n  [-41.97418215231889, -3.521480524523617, 0.0],\n  [-41.91356682443207, -3.528297501543112, 0.0],\n  [-41.91325403530757, -3.528332436145083, 0.0],\n  [-41.90788766660037, -3.527923358191012, 0.0],\n  [-41.90335135433099, -3.523107856968115, 0.0],\n  [-41.89847536635016, -3.521065000365016, 0.0],\n  [-41.89352946180946, -3.520511864191571, 0.0],\n  [-41.89211866920399, -3.521226325700646, 0.0],\n  [-41.88838303808509, -3.52358122153422, 0.0],\n  [-41.88556162458809, -3.524582811140133, 0.0],\n  [-41.88443980926218, -3.527141722147522, 0.0],\n  [-41.88303216174517, -3.528709768548946, 0.0],\n  [-41.88141142971679, -3.529779710715311, 0.0],\n  [-41.88014120036188, -3.530068630252665, 0.0],\n  [-41.87787917360938, -3.530075942589261, 0.0],\n  [-41.87633151493021, -3.530790308790894, 0.0],\n  [-41.87414678996077, -3.532856052389712, 0.0],\n  [-41.8732957520632, -3.531865070646867, 0.0],\n  [-41.8720240927284, -3.531441888132436, 0.0],\n  [-41.86990432887868, -3.531308582814452, 0.0],\n  [-41.86771540123097, -3.530959448495816, 0.0],\n  [-41.86672095629598, -3.528692054778695, 0.0],\n  [-41.8682720254704, -3.528402334550207, 0.0],\n  [-41.87200758588679, -3.526472331118875, 0.0],\n  [-41.87439632819519, -3.522917820664302, 0.0],\n  [-41.87657912056588, -3.519002370736919, 0.0],\n  [-41.87755866993348, -3.516442580472323, 0.0],\n  [-41.87859705483408, -3.510830020420688, 0.0],\n  [-41.87929749077959, -3.508270169663661, 0.0],\n  [-41.87956811763939, -3.504435495087845, 0.0],\n  [-41.88263475221648, -3.500495653467717, 0.0],\n  [-41.88341978987398, -3.4971672313203, 0.0],\n  [-41.88488511647459, -3.494884132091587, 0.0],\n  [-41.88472719416558, -3.491042177465489, 0.0],\n  [-41.88492018747738, -3.490182155303243, 0.0],\n  [-41.88626171408657, -3.488762562741641, 0.0],\n  [-41.8862160907469, -3.48714762250814, 0.0],\n  [-41.88540872419029, -3.486040539305808, 0.0],\n  [-41.88555356850949, -3.484312130192175, 0.0],\n  [-41.88549526143049, -3.481730189254984, 0.0],\n  [-41.88588937661125, -3.480072150071174, 0.0],\n  [-41.88658382894527, -3.478851338205795, 0.0],\n  [-41.88595429464766, -3.476311729581518, 0.0],\n  [-41.885926929596, -3.47620081217314, 0.0],\n  [-41.88499456226999, -3.476195256885151, 0.0],\n  [-41.88357892343429, -3.476602898837744, 0.0],\n  [-41.88311120900357, -3.476579312775461, 0.0],\n  [-41.88240392342658, -3.476012234963293, 0.0],\n  [-41.88147506141218, -3.475736043710105, 0.0],\n  [-41.88062938321599, -3.475847456162908, 0.0],\n  [-41.87981335743768, -3.476240531489536, 0.0],\n  [-41.87861533152688, -3.477357663244978, 0.0],\n  [-41.8776156489522, -3.477545850181192, 0.0],\n  [-41.87665309110008, -3.477439062810526, 0.0],\n  [-41.8761945933897, -3.476982159309052, 0.0],\n  [-41.87460708925, -3.474399610889796, 0.0],\n  [-41.87382836310109, -3.473650318398762, 0.0],\n  [-41.87271872531478, -3.473572647543455, 0.0],\n  [-41.87191592279169, -3.47370936277525, 0.0],\n  [-41.87108473442129, -3.474578112461619, 0.0],\n  [-41.87064590526119, -3.475728663157915, 0.0],\n  [-41.8696510594354, -3.476515729419361, 0.0],\n  [-41.8693728034782, -3.476596248983896, 0.0],\n  [-41.86902051369156, -3.476972150748232, 0.0],\n  [-41.86590551864018, -3.476969104387229, 0.0],\n  [-41.862630312201, -3.476203349655405, 0.0],\n  [-41.86113460177919, -3.475705953957915, 0.0],\n  [-41.85851524757269, -3.474337304509361, 0.0],\n  [-41.86010748376898, -3.473012959077042, 0.0],\n  [-41.86089280442138, -3.472141901361685, 0.0],\n  [-41.8618470588267, -3.471291542146302, 0.0],\n  [-41.86382408321768, -3.468885827587021, 0.0],\n  [-41.86504306649648, -3.466494417493171, 0.0],\n  [-41.86632915298568, -3.462320641557763, 0.0],\n  [-41.86749328285478, -3.459989521955214, 0.0],\n  [-41.86188498914878, -3.460357787329349, 0.0],\n  [-41.8552272177916, -3.460172391642686, 0.0],\n  [-41.84661869143429, -3.459670551647407, 0.0],\n  [-41.84213162714206, -3.45894015931709, 0.0],\n  [-41.8370553583639, -3.457699119423618, 0.0],\n  [-41.83377825451647, -3.457709182354647, 0.0],\n  [-41.82101322052517, -3.455696596577813, 0.0],\n  [-41.81686755256657, -3.455710724714214, 0.0],\n  [-41.81195980599699, -3.456053937482919, 0.0],\n  [-41.8044367895447, -3.458117747546745, 0.0],\n  [-41.79327110550158, -3.462830671798085, 0.0],\n  [-41.78585707827809, -3.466258920337135, 0.0],\n  [-41.78334618516708, -3.467419095041862, 0.0],\n  [-41.77228035276678, -3.469623785361968, 0.0],\n  [-41.76474399061518, -3.469032989254013, 0.0],\n  [-41.74656729683749, -3.463355848306486, 0.0],\n  [-41.74760729786749, -3.457453289772163, 0.0],\n  [-41.74770916614358, -3.455160246256277, 0.0],\n  [-41.74726012108219, -3.453150227765287, 0.0],\n  [-41.74150024155869, -3.439904009151205, 0.0],\n  [-41.74013580128706, -3.434698840678501, 0.0],\n  [-41.73939013982051, -3.42241361425744, 0.0],\n  [-41.7370516168715, -3.36811655875557, 0.0],\n  [-41.73617134101138, -3.347735301544756, 0.0],\n  [-41.73458591010618, -3.343225555674136, 0.0],\n  [-41.73427402784978, -3.342338529084237, 0.0],\n  [-41.73124744667368, -3.335710631647713, 0.0],\n  [-41.73118937704709, -3.334175166166071, 0.0],\n  [-41.750091652218, -3.333758182418261, 0.0],\n  [-41.7430794328092, -3.321721066886654, 0.0],\n  [-41.75085138574098, -3.314265144284976, 0.0],\n  [-41.7973062379933, -3.253561440220583, 0.0],\n  [-41.80485379524391, -3.255272000086276, 0.0],\n  [-41.81245621590929, -3.258681167936337, 0.0],\n  [-41.81411866765537, -3.259895660831429, 0.0],\n  [-41.81732237207358, -3.259723258388108, 0.0],\n  [-41.81952368043368, -3.260212813499777, 0.0],\n  [-41.82405132702479, -3.262817121267916, 0.0],\n  [-41.8268330045693, -3.262645891111082, 0.0],\n  [-41.82810102368259, -3.263149138056238, 0.0],\n  [-41.83143042108969, -3.267199424618779, 0.0],\n  [-41.83177279822178, -3.268929836059755, 0.0],\n  [-41.8379361092172, -3.267652671202883, 0.0],\n  [-41.84119440531268, -3.265812008497269, 0.0],\n  [-41.84072583795278, -3.274624144940357, 0.0],\n  [-41.84107820357318, -3.278401300663492, 0.0],\n  [-41.84479823262431, -3.280525860458423, 0.0],\n  [-41.8465066679172, -3.280483447758651, 0.0],\n  [-41.84749139239468, -3.27994595382515, 0.0],\n  [-41.85098103066108, -3.280091050019169, 0.0],\n  [-41.85234933352749, -3.281002439916221, 0.0],\n  [-41.85390562051239, -3.281186394429483, 0.0],\n  [-41.85703487874079, -3.280339230737746, 0.0],\n  [-41.85830693204979, -3.281835896950869, 0.0],\n  [-41.8583124553455, -3.283221059597132, 0.0],\n  [-41.8563296309751, -3.28575265252806, 0.0],\n  [-41.85585332709071, -3.288708181614548, 0.0],\n  [-41.85407912986469, -3.292416777466602, 0.0],\n  [-41.85462463404668, -3.294377097970787, 0.0],\n  [-41.8564094442113, -3.294784980591885, 0.0],\n  [-41.86113007120249, -3.293984415231941, 0.0],\n  [-41.8631242631954, -3.294635381740159, 0.0],\n  [-41.8645033447944, -3.296351893435261, 0.0],\n  [-41.8680805435377, -3.304665788774315, 0.0],\n  [-41.86905671524719, -3.305338233097719, 0.0],\n  [-41.87675440993908, -3.3072951786559, 0.0],\n  [-41.87976100416009, -3.307432086894047, 0.0],\n  [-41.88276903744418, -3.306940968544918, 0.0],\n  [-41.88277467391799, -3.331230200072124, 0.0],\n  [-41.88277476239858, -3.333832582389105, 0.0],\n  [-41.62555893945208, -3.295366902895329, 0.0],\n  [-41.62605348063308, -3.295455582471911, 0.0],\n  [-41.62619244492498, -3.295480501113721, 0.0],\n  [-41.62681776760047, -3.295592632018523, 0.0],\n  [-41.62692998988388, -3.295613442303458, 0.0],\n  [-41.62776996834641, -3.295764070446816, 0.0],\n  [-41.62777003145511, -3.295764081763684, 0.0],\n  [-41.68480111883287, -3.30599111398781, 0.0],\n  [-41.6936073363412, -3.307570073155883, 0.0],\n  [-41.6936552397051, -3.307697061411195, 0.0],\n  [-41.68359106521378, -3.313576322895608, 0.0],\n  [-41.68337440633389, -3.313702731031747, 0.0],\n  [-41.6773441007423, -3.317226590446154, 0.0],\n  [-41.675680664754, -3.324196096705008, 0.0],\n  [-41.67565312406679, -3.324310665662389, 0.0],\n  [-41.6743647683257, -3.329709597340074, 0.0],\n  [-41.66249498399517, -3.379412361441347, 0.0],\n  [-41.67319220302048, -3.437726987162244, 0.0],\n  [-41.67439610560649, -3.481932801816552, 0.0],\n  [-41.6744025973153, -3.482190984240792, 0.0],\n  [-41.7014295675779, -3.545870945812912, 0.0],\n  [-41.71154092459398, -3.554960556063691, 0.0],\n  [-41.74656827911679, -3.586452524683437, 0.0],\n  [-41.74601551800539, -3.632506364550343, 0.0],\n  [-41.74552800036287, -3.672621382008963, 0.0],\n  [-41.6780079721978, -3.664674591944248, 0.0],\n  [-41.67410049959938, -3.661338112297963, 0.0],\n  [-41.64907169907007, -3.63997034129945, 0.0],\n  [-41.59944242157869, -3.626395453011051, 0.0],\n  [-41.52148458356958, -3.605076787820138, 0.0],\n  [-41.51581688887728, -3.601906079955375, 0.0],\n  [-41.5096789158637, -3.599544509695809, 0.0],\n  [-41.5029848282951, -3.592678404618772, 0.0],\n  [-41.50254572356778, -3.592014420795628, 0.0],\n  [-41.50826928545788, -3.587619553490529, 0.0],\n  [-41.51273638857517, -3.582811917157591, 0.0],\n  [-41.51790425732029, -3.568321699646155, 0.0],\n  [-41.51799503657906, -3.567609122573647, 0.0],\n  [-41.51801319702206, -3.56746625380753, 0.0],\n  [-41.51792175895457, -3.56737316412207, 0.0],\n  [-41.513119117656, -3.564185629304895, 0.0],\n  [-41.49870558138758, -3.558517222664726, 0.0],\n  [-41.49349456688398, -3.555441150800738, 0.0],\n  [-41.48551940450219, -3.552553705684651, 0.0],\n  [-41.483687803263, -3.552148684322283, 0.0],\n  ...]}"
     },
     "metadata": {},
     "execution_count": 84
    }
   ],
   "source": [
    "coordenadas"
   ]
  },
  {
   "cell_type": "code",
   "execution_count": null,
   "metadata": {},
   "outputs": [],
   "source": []
  }
 ],
 "metadata": {
  "kernelspec": {
   "display_name": "Python 3",
   "language": "python",
   "name": "python3"
  },
  "language_info": {
   "codemirror_mode": {
    "name": "ipython",
    "version": 3
   },
   "file_extension": ".py",
   "mimetype": "text/x-python",
   "name": "python",
   "nbconvert_exporter": "python",
   "pygments_lexer": "ipython3",
   "version": "3.7.4"
  }
 },
 "nbformat": 4,
 "nbformat_minor": 4
}