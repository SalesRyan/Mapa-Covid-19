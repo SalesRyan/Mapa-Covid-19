{
 "cells": [
  {
   "cell_type": "code",
   "execution_count": 1,
   "metadata": {},
   "outputs": [],
   "source": [
    "import gspread\n",
    "from oauth2client.service_account import ServiceAccountCredentials\n",
    "import pandas as pd"
   ]
  },
  {
   "cell_type": "code",
   "execution_count": 2,
   "metadata": {},
   "outputs": [],
   "source": [
    "def authentic():\n",
    "    scope = [\"https://spreadsheets.google.com/feeds\",\n",
    "             \"https://www.googleapis.com/auth/spreadsheets\",\n",
    "             \"https://www.googleapis.com/auth/drive.file\",\n",
    "             \"https://www.googleapis.com/auth/drive\"]\n",
    "    try:\n",
    "\n",
    "        creds = ServiceAccountCredentials.from_json_keyfile_name('creds.json', scope)\n",
    "\n",
    "    except Exception as e:\n",
    "\n",
    "        print(e)\n",
    "\n",
    "    client = gspread.authorize(creds)\n",
    "    return client.open_by_key('1b-GkDhhxJIwWcA6tk3z4eX58f-f1w2TA2f2XrI4XB1w')"
   ]
  },
  {
   "cell_type": "code",
   "execution_count": 3,
   "metadata": {},
   "outputs": [],
   "source": [
    "def getData(sheets,index=0):\n",
    "\n",
    "    #Convertendo os dados da planilha para um DataFrame Para pegar todas basta iterar sobre sheets.worksheets()\n",
    "\n",
    "    data = sheets.worksheets()[index].get_all_values()\n",
    "    headers = data.pop(0)\n",
    "    return pd.DataFrame(data, columns = headers)"
   ]
  },
  {
   "cell_type": "code",
   "execution_count": 35,
   "metadata": {},
   "outputs": [],
   "source": [
    "sheets = authentic()"
   ]
  },
  {
   "cell_type": "code",
   "execution_count": null,
   "metadata": {},
   "outputs": [],
   "source": [
    "df1 = getData(sheets,index=1)\n",
    "df2 = getData(sheets,index=2)\n",
    "df3 = getData(sheets,index=3)\n",
    "df4 = getData(sheets,index=4)\n",
    "df5 = getData(sheets,index=5)\n",
    "df6 = getData(sheets,index=6)\n",
    "df8 = getData(sheets,index=8)\n",
    "df23 = getData(sheets,index=23)"
   ]
  },
  {
   "cell_type": "code",
   "execution_count": null,
   "metadata": {},
   "outputs": [],
   "source": [
    "df23"
   ]
  },
  {
   "cell_type": "code",
   "execution_count": null,
   "metadata": {},
   "outputs": [],
   "source": [
    "df8"
   ]
  },
  {
   "cell_type": "code",
   "execution_count": null,
   "metadata": {},
   "outputs": [],
   "source": [
    "df6"
   ]
  },
  {
   "cell_type": "code",
   "execution_count": null,
   "metadata": {},
   "outputs": [],
   "source": [
    "df5"
   ]
  },
  {
   "cell_type": "code",
   "execution_count": null,
   "metadata": {},
   "outputs": [],
   "source": [
    "df4"
   ]
  },
  {
   "cell_type": "code",
   "execution_count": null,
   "metadata": {},
   "outputs": [],
   "source": [
    "df3"
   ]
  },
  {
   "cell_type": "code",
   "execution_count": null,
   "metadata": {},
   "outputs": [],
   "source": [
    "df2"
   ]
  },
  {
   "cell_type": "code",
   "execution_count": null,
   "metadata": {},
   "outputs": [],
   "source": [
    "df1"
   ]
  },
  {
   "cell_type": "code",
   "execution_count": null,
   "metadata": {},
   "outputs": [],
   "source": [
    "def generateInternedDataTable(df):\n",
    "    return df.drop(['LC','I-ILC','UTI','I-UTI','LE','I-LE','LR','I-LR','ALTAS'],axis=1)"
   ]
  },
  {
   "cell_type": "code",
   "execution_count": null,
   "metadata": {},
   "outputs": [],
   "source": [
    "generateInternedDataTable(df23)"
   ]
  },
  {
   "cell_type": "code",
   "execution_count": null,
   "metadata": {},
   "outputs": [],
   "source": [
    "def generateCityDataTable(df):\n",
    "    return df.drop(['id','Território','QTDE MUN','QTDE MUN OBT','CONF','OBT'],axis=1)"
   ]
  },
  {
   "cell_type": "code",
   "execution_count": null,
   "metadata": {},
   "outputs": [],
   "source": [
    "generateCityDataTable(df6)"
   ]
  },
  {
   "cell_type": "code",
   "execution_count": null,
   "metadata": {},
   "outputs": [],
   "source": [
    "def generateStateDataTable(df):\n",
    "    return df.drop(['Novos por Dia','Semana','Conf/Semana','Obt/Semana','Novos/Semana','Novos/Dia'],axis=1)"
   ]
  },
  {
   "cell_type": "code",
   "execution_count": null,
   "metadata": {},
   "outputs": [],
   "source": [
    "generateStateDataTable(df5)"
   ]
  },
  {
   "cell_type": "code",
   "execution_count": null,
   "metadata": {},
   "outputs": [],
   "source": [
    "def generateComorbidityTable(df):\n",
    "    return df.drop('Percentual',axis=1)"
   ]
  },
  {
   "cell_type": "code",
   "execution_count": null,
   "metadata": {},
   "outputs": [],
   "source": [
    "generateComorbidityTable(df4)"
   ]
  },
  {
   "cell_type": "code",
   "execution_count": null,
   "metadata": {},
   "outputs": [],
   "source": [
    "def generateAgeRangeTable(df):\n",
    "    d = {\n",
    "        'Faixa Etária':df['Faixa Etária'].to_list(),\n",
    "        'Confirmados':df['Confirmados'].to_list(),\n",
    "        'Óbitos':df['Óbitos'].to_list()\n",
    "    }\n",
    "    return pd.DataFrame(data=d)"
   ]
  },
  {
   "cell_type": "code",
   "execution_count": null,
   "metadata": {},
   "outputs": [],
   "source": [
    "generateAgeRangeTable(df3)"
   ]
  },
  {
   "cell_type": "code",
   "execution_count": null,
   "metadata": {},
   "outputs": [],
   "source": [
    "def generateGenderTable(df1,df2):\n",
    "    d = {\n",
    "        'Confirmados Masculino':list(df1[df1.Sexo==\"Masculino\"].Quantidade),\n",
    "        'Confirmados Feminino':list(df1[df1.Sexo==\"Feminino\"].Quantidade),\n",
    "        'Obitos Masculino':list(df2[df2.Sexo==\"Masculino\"].Quantidade),\n",
    "        'Obitos Feminino':list(df2[df2.Sexo==\"Feminino\"].Quantidade),\n",
    "        }\n",
    "    return pd.DataFrame(data=d)"
   ]
  },
  {
   "cell_type": "code",
   "execution_count": null,
   "metadata": {},
   "outputs": [],
   "source": [
    "generateGenderTable(df1,df2)"
   ]
  },
  {
   "cell_type": "code",
   "execution_count": null,
   "metadata": {},
   "outputs": [],
   "source": [
    "from datetime import datetime\n",
    "\n",
    "def getTimeUpdate(df):\n",
    "# Função que pega a ultima atualização na planilha do painel covid\n",
    "    date = df.Data.to_list()[0].split(':')[1][1:11]\n",
    "    time = df.Data.to_list()[0].split(':')[1][15:].split('h')\n",
    "    datetime = date+\" \"+time[0]+\":\"+time[1]   \n",
    "    \n",
    "    return datetime\n",
    "\n",
    "def getTimeSys():\n",
    "# Função que pega data e hora do sistema\n",
    "    data_e_hora_atuais = datetime.now()\n",
    "    data_e_hora_em_texto = data_e_hora_atuais.strftime('%d/%m/%Y %H:%M')\n",
    "    \n",
    "    return data_e_hora_em_texto\n",
    "\n",
    "def getTimeLastUpdate():\n",
    "\n",
    "# Função que pega a ultima feita no banco de dados\n",
    " \n",
    "    pass\n",
    "\n",
    "def calTime(time1,time2):\n",
    "\n",
    "# Função que calcula a diferenca de duas datas\n",
    "  \n",
    "    formattime = '%d/%m/%Y %H:%M'\n",
    "    dif = (datetime.strptime(time2, formattime) - datetime.strptime(time1, formattime)).total_seconds()\n",
    "    return dif"
   ]
  },
  {
   "cell_type": "code",
   "execution_count": 36,
   "metadata": {},
   "outputs": [],
   "source": [
    "dfdata = getData(sheets, index=9)"
   ]
  },
  {
   "cell_type": "code",
   "execution_count": 38,
   "metadata": {
    "tags": []
   },
   "outputs": [
    {
     "output_type": "execute_result",
     "data": {
      "text/plain": "{'Data de Atualização': ['Data de Atualização: 18/06/2020 às 19h30']}"
     },
     "metadata": {},
     "execution_count": 38
    }
   ],
   "source": [
    "{'Data de Atualização':dfdata['Data'].to_list()}"
   ]
  },
  {
   "cell_type": "code",
   "execution_count": 30,
   "metadata": {},
   "outputs": [],
   "source": [
    "dataHora = dfdata.values[0][0].split(':')[-1].strip()"
   ]
  },
  {
   "cell_type": "code",
   "execution_count": 31,
   "metadata": {},
   "outputs": [
    {
     "output_type": "execute_result",
     "data": {
      "text/plain": "'18/06/2020 às 19h30'"
     },
     "metadata": {},
     "execution_count": 31
    }
   ],
   "source": [
    "dataHora"
   ]
  },
  {
   "cell_type": "code",
   "execution_count": 32,
   "metadata": {},
   "outputs": [
    {
     "output_type": "execute_result",
     "data": {
      "text/plain": "'18/06/2020 19:30'"
     },
     "metadata": {},
     "execution_count": 32
    }
   ],
   "source": [
    "dataHora.replace('às ','').replace('h', ':')"
   ]
  },
  {
   "cell_type": "code",
   "execution_count": 26,
   "metadata": {
    "tags": []
   },
   "outputs": [
    {
     "output_type": "execute_result",
     "data": {
      "text/plain": "'Data de Atualização: 18/06/2020 às 19h30'"
     },
     "metadata": {},
     "execution_count": 26
    }
   ],
   "source": [
    "'Data de Atualização: 18/06/2020 às 19h30'"
   ]
  },
  {
   "cell_type": "code",
   "execution_count": 25,
   "metadata": {},
   "outputs": [
    {
     "output_type": "execute_result",
     "data": {
      "text/plain": "[]"
     },
     "metadata": {},
     "execution_count": 25
    }
   ],
   "source": [
    "list(filter(str.isalnum, dataHora.split(':')))"
   ]
  },
  {
   "cell_type": "code",
   "execution_count": null,
   "metadata": {},
   "outputs": [],
   "source": []
  }
 ],
 "metadata": {
  "kernelspec": {
   "display_name": "Python 3.7.3 64-bit ('samue': virtualenv)",
   "language": "python",
   "name": "python37364bitsamuevirtualenvb043b097ab8540c79e8bee4cb344fa7f"
  },
  "language_info": {
   "codemirror_mode": {
    "name": "ipython",
    "version": 3
   },
   "file_extension": ".py",
   "mimetype": "text/x-python",
   "name": "python",
   "nbconvert_exporter": "python",
   "pygments_lexer": "ipython3",
   "version": "3.7.3-final"
  }
 },
 "nbformat": 4,
 "nbformat_minor": 4
}