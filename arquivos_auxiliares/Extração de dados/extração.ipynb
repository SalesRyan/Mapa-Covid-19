{
 "metadata": {
  "language_info": {
   "codemirror_mode": {
    "name": "ipython",
    "version": 3
   },
   "file_extension": ".py",
   "mimetype": "text/x-python",
   "name": "python",
   "nbconvert_exporter": "python",
   "pygments_lexer": "ipython3",
   "version": "3.7.6-final"
  },
  "orig_nbformat": 2,
  "kernelspec": {
   "name": "python_defaultSpec_1599501188709",
   "display_name": "Python 3.7.6 64-bit ('base': conda)"
  }
 },
 "nbformat": 4,
 "nbformat_minor": 2,
 "cells": [
  {
   "cell_type": "code",
   "execution_count": 17,
   "metadata": {},
   "outputs": [],
   "source": [
    "import pandas as pd\n",
    "import numpy as np"
   ]
  },
  {
   "cell_type": "code",
   "execution_count": 42,
   "metadata": {},
   "outputs": [],
   "source": [
    "df = pd.read_excel('cidades.xlsx')"
   ]
  },
  {
   "cell_type": "code",
   "execution_count": 45,
   "metadata": {},
   "outputs": [],
   "source": [
    "codigos = df['Codigo'].to_list()"
   ]
  },
  {
   "cell_type": "code",
   "execution_count": 50,
   "metadata": {},
   "outputs": [],
   "source": [
    "import requests\n",
    "import time"
   ]
  },
  {
   "cell_type": "code",
   "execution_count": 23,
   "metadata": {},
   "outputs": [
    {
     "output_type": "execute_result",
     "data": {
      "text/plain": "<Response [401]>"
     },
     "metadata": {},
     "execution_count": 23
    }
   ],
   "source": [
    "requests.get('http://www.portaltransparencia.gov.br/api-de-dados/auxilio-emergencial-por-municipio?mesAno=202004&codigoIbge=2200053&pagina=1', )"
   ]
  },
  {
   "cell_type": "code",
   "execution_count": 52,
   "metadata": {},
   "outputs": [],
   "source": [
    "nomes = ['bpc-por-municipio', 'bolsa-familia-por-municipio', 'auxilio-emergencial-por-municipio']\n",
    "cod = '2200053'\n",
    "\n",
    "url = f'http://www.portaltransparencia.gov.br/api-de-dados/auxilio-emergencial-por-municipio?mesAno={mesano}&codigoIbge={cod}&pagina=1'\n",
    "headers = {'Accept': 'application/json', 'chave-api-dados': '97ffcd5175f477ecee3cf0513575369a'}"
   ]
  },
  {
   "cell_type": "code",
   "execution_count": 53,
   "metadata": {},
   "outputs": [],
   "source": [
    "headers = {'Accept': 'application/json', 'chave-api-dados': '97ffcd5175f477ecee3cf0513575369a'}\n",
    "mesano = '202004'\n",
    "for nome in nomes:\n",
    "    arq = open(f'{nome}.txt', 'w')\n",
    "    for cod in codigos:\n",
    "        url = f'http://www.portaltransparencia.gov.br/api-de-dados/{nome}?mesAno={mesano}&codigoIbge={cod}&pagina=1'\n",
    "        r = requests.get(url, headers = headers)\n",
    "        time.sleep(2.5)\n",
    "        print(r.text)\n",
    "    arq.close\n",
    "        \n"
   ]
  },
  {
   "cell_type": "code",
   "execution_count": 61,
   "metadata": {},
   "outputs": [],
   "source": [
    "nome = nomes[0]\n",
    "mesano = '202004'\n",
    "cod = '2203230'\n",
    "url = f'http://www.portaltransparencia.gov.br/api-de-dados/{nome}?mesAno={mesano}&codigoIbge={cod}&pagina=1'\n",
    "headers = {'Accept': 'application/json', 'chave-api-dados': '97ffcd5175f477ecee3cf0513575369a'}\n",
    "r = requests.get(url, headers = headers)\n"
   ]
  },
  {
   "cell_type": "code",
   "execution_count": 64,
   "metadata": {},
   "outputs": [
    {
     "output_type": "execute_result",
     "data": {
      "text/plain": "200"
     },
     "metadata": {},
     "execution_count": 64
    }
   ],
   "source": [
    "r.status_code"
   ]
  },
  {
   "cell_type": "code",
   "execution_count": null,
   "metadata": {},
   "outputs": [],
   "source": []
  }
 ]
}